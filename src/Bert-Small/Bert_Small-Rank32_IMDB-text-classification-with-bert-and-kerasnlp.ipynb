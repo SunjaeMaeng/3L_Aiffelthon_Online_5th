{
 "cells": [
  {
   "cell_type": "markdown",
   "metadata": {},
   "source": [
    "## Setting Up"
   ]
  },
  {
   "cell_type": "code",
   "execution_count": 1,
   "metadata": {},
   "outputs": [
    {
     "name": "stderr",
     "output_type": "stream",
     "text": [
      "2023-11-30 03:13:44.419117: E tensorflow/compiler/xla/stream_executor/cuda/cuda_dnn.cc:9342] Unable to register cuDNN factory: Attempting to register factory for plugin cuDNN when one has already been registered\n",
      "2023-11-30 03:13:44.419175: E tensorflow/compiler/xla/stream_executor/cuda/cuda_fft.cc:609] Unable to register cuFFT factory: Attempting to register factory for plugin cuFFT when one has already been registered\n",
      "2023-11-30 03:13:44.419226: E tensorflow/compiler/xla/stream_executor/cuda/cuda_blas.cc:1518] Unable to register cuBLAS factory: Attempting to register factory for plugin cuBLAS when one has already been registered\n",
      "2023-11-30 03:13:44.431860: I tensorflow/core/platform/cpu_feature_guard.cc:182] This TensorFlow binary is optimized to use available CPU instructions in performance-critical operations.\n",
      "To enable the following instructions: AVX2 FMA, in other operations, rebuild TensorFlow with the appropriate compiler flags.\n"
     ]
    }
   ],
   "source": [
    "from tensorflow.keras import backend as K\n",
    "# GPU 메모리 해제\n",
    "K.clear_session()"
   ]
  },
  {
   "cell_type": "code",
   "execution_count": 2,
   "metadata": {},
   "outputs": [
    {
     "name": "stderr",
     "output_type": "stream",
     "text": [
      "2023-11-30 03:13:47.568523: I tensorflow/core/common_runtime/gpu/gpu_device.cc:1886] Created device /device:GPU:0 with 18289 MB memory:  -> device: 0, name: NVIDIA RTX 4000 Ada Generation, pci bus id: 0000:05:00.0, compute capability: 8.9\n"
     ]
    },
    {
     "data": {
      "text/plain": [
       "[name: \"/device:CPU:0\"\n",
       " device_type: \"CPU\"\n",
       " memory_limit: 268435456\n",
       " locality {\n",
       " }\n",
       " incarnation: 8184839979901428206\n",
       " xla_global_id: -1,\n",
       " name: \"/device:GPU:0\"\n",
       " device_type: \"GPU\"\n",
       " memory_limit: 19178061824\n",
       " locality {\n",
       "   bus_id: 1\n",
       "   links {\n",
       "   }\n",
       " }\n",
       " incarnation: 3563988007330748714\n",
       " physical_device_desc: \"device: 0, name: NVIDIA RTX 4000 Ada Generation, pci bus id: 0000:05:00.0, compute capability: 8.9\"\n",
       " xla_global_id: 416903419]"
      ]
     },
     "execution_count": 2,
     "metadata": {},
     "output_type": "execute_result"
    }
   ],
   "source": [
    "# tensorflow device 확인\n",
    "from tensorflow.python.client import device_lib\n",
    "device_lib.list_local_devices()"
   ]
  },
  {
   "cell_type": "code",
   "execution_count": 1,
   "metadata": {
    "scrolled": true
   },
   "outputs": [
    {
     "name": "stdout",
     "output_type": "stream",
     "text": [
      "Collecting keras-nlp==0.6.2\n",
      "  Obtaining dependency information for keras-nlp==0.6.2 from https://files.pythonhosted.org/packages/37/d4/dfd85606db811af2138e97fc480eb7ed709042dd96dd453868bede0929fe/keras_nlp-0.6.2-py3-none-any.whl.metadata\n",
      "  Downloading keras_nlp-0.6.2-py3-none-any.whl.metadata (7.2 kB)\n",
      "Collecting keras-core (from keras-nlp==0.6.2)\n",
      "  Obtaining dependency information for keras-core from https://files.pythonhosted.org/packages/95/f7/b8dcff937ea64f822f0d3fe8c6010793406b82d14467cd0e9eecea458a40/keras_core-0.1.7-py3-none-any.whl.metadata\n",
      "  Downloading keras_core-0.1.7-py3-none-any.whl.metadata (4.3 kB)\n",
      "Requirement already satisfied: absl-py in /usr/local/lib/python3.11/dist-packages (from keras-nlp==0.6.2) (2.0.0)\n",
      "Requirement already satisfied: numpy in /usr/local/lib/python3.11/dist-packages (from keras-nlp==0.6.2) (1.26.0)\n",
      "Requirement already satisfied: packaging in /usr/local/lib/python3.11/dist-packages (from keras-nlp==0.6.2) (23.1)\n",
      "Collecting regex (from keras-nlp==0.6.2)\n",
      "  Obtaining dependency information for regex from https://files.pythonhosted.org/packages/f2/b8/b1ec82fce93064a73ba67f2bb158ec9cac4a0e8f0b6942268ec963947329/regex-2023.10.3-cp311-cp311-manylinux_2_17_x86_64.manylinux2014_x86_64.whl.metadata\n",
      "  Downloading regex-2023.10.3-cp311-cp311-manylinux_2_17_x86_64.manylinux2014_x86_64.whl.metadata (40 kB)\n",
      "\u001b[2K     \u001b[90m━━━━━━━━━━━━━━━━━━━━━━━━━━━━━━━━━━━━━━━━\u001b[0m \u001b[32m40.9/40.9 kB\u001b[0m \u001b[31m2.7 MB/s\u001b[0m eta \u001b[36m0:00:00\u001b[0m\n",
      "\u001b[?25hCollecting rich (from keras-nlp==0.6.2)\n",
      "  Obtaining dependency information for rich from https://files.pythonhosted.org/packages/be/be/1520178fa01eabe014b16e72a952b9f900631142ccd03dc36cf93e30c1ce/rich-13.7.0-py3-none-any.whl.metadata\n",
      "  Downloading rich-13.7.0-py3-none-any.whl.metadata (18 kB)\n",
      "Collecting dm-tree (from keras-nlp==0.6.2)\n",
      "  Downloading dm_tree-0.1.8-cp311-cp311-manylinux_2_17_x86_64.manylinux2014_x86_64.whl (152 kB)\n",
      "\u001b[2K     \u001b[90m━━━━━━━━━━━━━━━━━━━━━━━━━━━━━━━━━━━━━━\u001b[0m \u001b[32m152.8/152.8 kB\u001b[0m \u001b[31m14.8 MB/s\u001b[0m eta \u001b[36m0:00:00\u001b[0m\n",
      "\u001b[?25hCollecting tensorflow-text (from keras-nlp==0.6.2)\n",
      "  Obtaining dependency information for tensorflow-text from https://files.pythonhosted.org/packages/20/a0/bdbf2a11141f1c93e572364d13c42537cfe811b747a0bbb58fdd904f3960/tensorflow_text-2.15.0-cp311-cp311-manylinux_2_17_x86_64.manylinux2014_x86_64.whl.metadata\n",
      "  Downloading tensorflow_text-2.15.0-cp311-cp311-manylinux_2_17_x86_64.manylinux2014_x86_64.whl.metadata (1.9 kB)\n",
      "Collecting namex (from keras-core->keras-nlp==0.6.2)\n",
      "  Downloading namex-0.0.7-py3-none-any.whl (5.8 kB)\n",
      "Requirement already satisfied: h5py in /usr/local/lib/python3.11/dist-packages (from keras-core->keras-nlp==0.6.2) (3.9.0)\n",
      "Collecting markdown-it-py>=2.2.0 (from rich->keras-nlp==0.6.2)\n",
      "  Obtaining dependency information for markdown-it-py>=2.2.0 from https://files.pythonhosted.org/packages/42/d7/1ec15b46af6af88f19b8e5ffea08fa375d433c998b8a7639e76935c14f1f/markdown_it_py-3.0.0-py3-none-any.whl.metadata\n",
      "  Downloading markdown_it_py-3.0.0-py3-none-any.whl.metadata (6.9 kB)\n",
      "Requirement already satisfied: pygments<3.0.0,>=2.13.0 in /usr/local/lib/python3.11/dist-packages (from rich->keras-nlp==0.6.2) (2.16.1)\n",
      "Collecting tensorflow-hub>=0.13.0 (from tensorflow-text->keras-nlp==0.6.2)\n",
      "  Obtaining dependency information for tensorflow-hub>=0.13.0 from https://files.pythonhosted.org/packages/6e/1a/fbae76f4057b9bcdf9468025d7a8ca952dec14bfafb9fc0b1e4244ce212f/tensorflow_hub-0.15.0-py2.py3-none-any.whl.metadata\n",
      "  Downloading tensorflow_hub-0.15.0-py2.py3-none-any.whl.metadata (1.3 kB)\n",
      "Collecting tensorflow<2.16,>=2.15.0 (from tensorflow-text->keras-nlp==0.6.2)\n",
      "  Obtaining dependency information for tensorflow<2.16,>=2.15.0 from https://files.pythonhosted.org/packages/93/c0/a774286d0383419f558deb27096e5de9f9facd6c27df8e9f9af6fba2f77e/tensorflow-2.15.0-cp311-cp311-manylinux_2_17_x86_64.manylinux2014_x86_64.whl.metadata\n",
      "  Downloading tensorflow-2.15.0-cp311-cp311-manylinux_2_17_x86_64.manylinux2014_x86_64.whl.metadata (4.4 kB)\n",
      "Collecting mdurl~=0.1 (from markdown-it-py>=2.2.0->rich->keras-nlp==0.6.2)\n",
      "  Downloading mdurl-0.1.2-py3-none-any.whl (10.0 kB)\n",
      "Requirement already satisfied: astunparse>=1.6.0 in /usr/local/lib/python3.11/dist-packages (from tensorflow<2.16,>=2.15.0->tensorflow-text->keras-nlp==0.6.2) (1.6.3)\n",
      "Requirement already satisfied: flatbuffers>=23.5.26 in /usr/local/lib/python3.11/dist-packages (from tensorflow<2.16,>=2.15.0->tensorflow-text->keras-nlp==0.6.2) (23.5.26)\n",
      "Requirement already satisfied: gast!=0.5.0,!=0.5.1,!=0.5.2,>=0.2.1 in /usr/local/lib/python3.11/dist-packages (from tensorflow<2.16,>=2.15.0->tensorflow-text->keras-nlp==0.6.2) (0.5.4)\n",
      "Requirement already satisfied: google-pasta>=0.1.1 in /usr/local/lib/python3.11/dist-packages (from tensorflow<2.16,>=2.15.0->tensorflow-text->keras-nlp==0.6.2) (0.2.0)\n",
      "Requirement already satisfied: libclang>=13.0.0 in /usr/local/lib/python3.11/dist-packages (from tensorflow<2.16,>=2.15.0->tensorflow-text->keras-nlp==0.6.2) (16.0.6)\n",
      "Requirement already satisfied: ml-dtypes~=0.2.0 in /usr/local/lib/python3.11/dist-packages (from tensorflow<2.16,>=2.15.0->tensorflow-text->keras-nlp==0.6.2) (0.2.0)\n",
      "Requirement already satisfied: opt-einsum>=2.3.2 in /usr/local/lib/python3.11/dist-packages (from tensorflow<2.16,>=2.15.0->tensorflow-text->keras-nlp==0.6.2) (3.3.0)\n",
      "Requirement already satisfied: protobuf!=4.21.0,!=4.21.1,!=4.21.2,!=4.21.3,!=4.21.4,!=4.21.5,<5.0.0dev,>=3.20.3 in /usr/local/lib/python3.11/dist-packages (from tensorflow<2.16,>=2.15.0->tensorflow-text->keras-nlp==0.6.2) (4.24.3)\n",
      "Requirement already satisfied: setuptools in /usr/local/lib/python3.11/dist-packages (from tensorflow<2.16,>=2.15.0->tensorflow-text->keras-nlp==0.6.2) (68.2.2)\n",
      "Requirement already satisfied: six>=1.12.0 in /usr/lib/python3/dist-packages (from tensorflow<2.16,>=2.15.0->tensorflow-text->keras-nlp==0.6.2) (1.16.0)\n",
      "Requirement already satisfied: termcolor>=1.1.0 in /usr/local/lib/python3.11/dist-packages (from tensorflow<2.16,>=2.15.0->tensorflow-text->keras-nlp==0.6.2) (2.3.0)\n",
      "Requirement already satisfied: typing-extensions>=3.6.6 in /usr/local/lib/python3.11/dist-packages (from tensorflow<2.16,>=2.15.0->tensorflow-text->keras-nlp==0.6.2) (4.8.0)\n",
      "Requirement already satisfied: wrapt<1.15,>=1.11.0 in /usr/local/lib/python3.11/dist-packages (from tensorflow<2.16,>=2.15.0->tensorflow-text->keras-nlp==0.6.2) (1.14.1)\n",
      "Requirement already satisfied: tensorflow-io-gcs-filesystem>=0.23.1 in /usr/local/lib/python3.11/dist-packages (from tensorflow<2.16,>=2.15.0->tensorflow-text->keras-nlp==0.6.2) (0.34.0)\n",
      "Requirement already satisfied: grpcio<2.0,>=1.24.3 in /usr/local/lib/python3.11/dist-packages (from tensorflow<2.16,>=2.15.0->tensorflow-text->keras-nlp==0.6.2) (1.58.0)\n",
      "Collecting tensorboard<2.16,>=2.15 (from tensorflow<2.16,>=2.15.0->tensorflow-text->keras-nlp==0.6.2)\n",
      "  Obtaining dependency information for tensorboard<2.16,>=2.15 from https://files.pythonhosted.org/packages/6e/0c/1059a6682cf2cc1fcc0d5327837b5672fe4f5574255fa5430d0a8ceb75e9/tensorboard-2.15.1-py3-none-any.whl.metadata\n",
      "  Downloading tensorboard-2.15.1-py3-none-any.whl.metadata (1.7 kB)\n",
      "Collecting tensorflow-estimator<2.16,>=2.15.0 (from tensorflow<2.16,>=2.15.0->tensorflow-text->keras-nlp==0.6.2)\n",
      "  Obtaining dependency information for tensorflow-estimator<2.16,>=2.15.0 from https://files.pythonhosted.org/packages/b6/c8/2f823c8958d5342eafc6dd3e922f0cc4fcf8c2e0460284cc462dae3b60a0/tensorflow_estimator-2.15.0-py2.py3-none-any.whl.metadata\n",
      "  Downloading tensorflow_estimator-2.15.0-py2.py3-none-any.whl.metadata (1.3 kB)\n",
      "Collecting keras<2.16,>=2.15.0 (from tensorflow<2.16,>=2.15.0->tensorflow-text->keras-nlp==0.6.2)\n",
      "  Obtaining dependency information for keras<2.16,>=2.15.0 from https://files.pythonhosted.org/packages/fc/a7/0d4490de967a67f68a538cc9cdb259bff971c4b5787f7765dc7c8f118f71/keras-2.15.0-py3-none-any.whl.metadata\n",
      "  Downloading keras-2.15.0-py3-none-any.whl.metadata (2.4 kB)\n",
      "Requirement already satisfied: wheel<1.0,>=0.23.0 in /usr/local/lib/python3.11/dist-packages (from astunparse>=1.6.0->tensorflow<2.16,>=2.15.0->tensorflow-text->keras-nlp==0.6.2) (0.41.2)\n",
      "Requirement already satisfied: google-auth<3,>=1.6.3 in /usr/local/lib/python3.11/dist-packages (from tensorboard<2.16,>=2.15->tensorflow<2.16,>=2.15.0->tensorflow-text->keras-nlp==0.6.2) (2.23.1)\n",
      "Requirement already satisfied: google-auth-oauthlib<2,>=0.5 in /usr/local/lib/python3.11/dist-packages (from tensorboard<2.16,>=2.15->tensorflow<2.16,>=2.15.0->tensorflow-text->keras-nlp==0.6.2) (1.0.0)\n",
      "Requirement already satisfied: markdown>=2.6.8 in /usr/local/lib/python3.11/dist-packages (from tensorboard<2.16,>=2.15->tensorflow<2.16,>=2.15.0->tensorflow-text->keras-nlp==0.6.2) (3.4.4)\n",
      "Collecting protobuf!=4.21.0,!=4.21.1,!=4.21.2,!=4.21.3,!=4.21.4,!=4.21.5,<5.0.0dev,>=3.20.3 (from tensorflow<2.16,>=2.15.0->tensorflow-text->keras-nlp==0.6.2)\n",
      "  Obtaining dependency information for protobuf!=4.21.0,!=4.21.1,!=4.21.2,!=4.21.3,!=4.21.4,!=4.21.5,<5.0.0dev,>=3.20.3 from https://files.pythonhosted.org/packages/01/cb/445b3e465abdb8042a41957dc8f60c54620dc7540dbcf9b458a921531ca2/protobuf-4.23.4-cp37-abi3-manylinux2014_x86_64.whl.metadata\n",
      "  Downloading protobuf-4.23.4-cp37-abi3-manylinux2014_x86_64.whl.metadata (540 bytes)\n",
      "Requirement already satisfied: requests<3,>=2.21.0 in /usr/local/lib/python3.11/dist-packages (from tensorboard<2.16,>=2.15->tensorflow<2.16,>=2.15.0->tensorflow-text->keras-nlp==0.6.2) (2.31.0)\n",
      "Requirement already satisfied: tensorboard-data-server<0.8.0,>=0.7.0 in /usr/local/lib/python3.11/dist-packages (from tensorboard<2.16,>=2.15->tensorflow<2.16,>=2.15.0->tensorflow-text->keras-nlp==0.6.2) (0.7.1)\n",
      "Requirement already satisfied: werkzeug>=1.0.1 in /usr/local/lib/python3.11/dist-packages (from tensorboard<2.16,>=2.15->tensorflow<2.16,>=2.15.0->tensorflow-text->keras-nlp==0.6.2) (2.3.7)\n",
      "Requirement already satisfied: cachetools<6.0,>=2.0.0 in /usr/local/lib/python3.11/dist-packages (from google-auth<3,>=1.6.3->tensorboard<2.16,>=2.15->tensorflow<2.16,>=2.15.0->tensorflow-text->keras-nlp==0.6.2) (5.3.1)\n",
      "Requirement already satisfied: pyasn1-modules>=0.2.1 in /usr/local/lib/python3.11/dist-packages (from google-auth<3,>=1.6.3->tensorboard<2.16,>=2.15->tensorflow<2.16,>=2.15.0->tensorflow-text->keras-nlp==0.6.2) (0.3.0)\n",
      "Requirement already satisfied: rsa<5,>=3.1.4 in /usr/local/lib/python3.11/dist-packages (from google-auth<3,>=1.6.3->tensorboard<2.16,>=2.15->tensorflow<2.16,>=2.15.0->tensorflow-text->keras-nlp==0.6.2) (4.9)\n",
      "Requirement already satisfied: urllib3>=2.0.5 in /usr/local/lib/python3.11/dist-packages (from google-auth<3,>=1.6.3->tensorboard<2.16,>=2.15->tensorflow<2.16,>=2.15.0->tensorflow-text->keras-nlp==0.6.2) (2.0.5)\n",
      "Requirement already satisfied: requests-oauthlib>=0.7.0 in /usr/local/lib/python3.11/dist-packages (from google-auth-oauthlib<2,>=0.5->tensorboard<2.16,>=2.15->tensorflow<2.16,>=2.15.0->tensorflow-text->keras-nlp==0.6.2) (1.3.1)\n",
      "Requirement already satisfied: charset-normalizer<4,>=2 in /usr/local/lib/python3.11/dist-packages (from requests<3,>=2.21.0->tensorboard<2.16,>=2.15->tensorflow<2.16,>=2.15.0->tensorflow-text->keras-nlp==0.6.2) (3.2.0)\n",
      "Requirement already satisfied: idna<4,>=2.5 in /usr/local/lib/python3.11/dist-packages (from requests<3,>=2.21.0->tensorboard<2.16,>=2.15->tensorflow<2.16,>=2.15.0->tensorflow-text->keras-nlp==0.6.2) (3.4)\n",
      "Requirement already satisfied: certifi>=2017.4.17 in /usr/local/lib/python3.11/dist-packages (from requests<3,>=2.21.0->tensorboard<2.16,>=2.15->tensorflow<2.16,>=2.15.0->tensorflow-text->keras-nlp==0.6.2) (2023.7.22)\n",
      "Requirement already satisfied: MarkupSafe>=2.1.1 in /usr/local/lib/python3.11/dist-packages (from werkzeug>=1.0.1->tensorboard<2.16,>=2.15->tensorflow<2.16,>=2.15.0->tensorflow-text->keras-nlp==0.6.2) (2.1.3)\n",
      "Requirement already satisfied: pyasn1<0.6.0,>=0.4.6 in /usr/local/lib/python3.11/dist-packages (from pyasn1-modules>=0.2.1->google-auth<3,>=1.6.3->tensorboard<2.16,>=2.15->tensorflow<2.16,>=2.15.0->tensorflow-text->keras-nlp==0.6.2) (0.5.0)\n",
      "Requirement already satisfied: oauthlib>=3.0.0 in /usr/lib/python3/dist-packages (from requests-oauthlib>=0.7.0->google-auth-oauthlib<2,>=0.5->tensorboard<2.16,>=2.15->tensorflow<2.16,>=2.15.0->tensorflow-text->keras-nlp==0.6.2) (3.2.0)\n",
      "Downloading keras_nlp-0.6.2-py3-none-any.whl (590 kB)\n",
      "\u001b[2K   \u001b[90m━━━━━━━━━━━━━━━━━━━━━━━━━━━━━━━━━━━━━━━━\u001b[0m \u001b[32m590.1/590.1 kB\u001b[0m \u001b[31m18.0 MB/s\u001b[0m eta \u001b[36m0:00:00\u001b[0m\n",
      "\u001b[?25hDownloading keras_core-0.1.7-py3-none-any.whl (950 kB)\n",
      "\u001b[2K   \u001b[90m━━━━━━━━━━━━━━━━━━━━━━━━━━━━━━━━━━━━━━━━\u001b[0m \u001b[32m950.8/950.8 kB\u001b[0m \u001b[31m23.6 MB/s\u001b[0m eta \u001b[36m0:00:00\u001b[0m00:01\u001b[0m\n",
      "\u001b[?25hDownloading regex-2023.10.3-cp311-cp311-manylinux_2_17_x86_64.manylinux2014_x86_64.whl (785 kB)\n",
      "\u001b[2K   \u001b[90m━━━━━━━━━━━━━━━━━━━━━━━━━━━━━━━━━━━━━━━━\u001b[0m \u001b[32m785.1/785.1 kB\u001b[0m \u001b[31m34.7 MB/s\u001b[0m eta \u001b[36m0:00:00\u001b[0m\n",
      "\u001b[?25hDownloading rich-13.7.0-py3-none-any.whl (240 kB)\n",
      "\u001b[2K   \u001b[90m━━━━━━━━━━━━━━━━━━━━━━━━━━━━━━━━━━━━━━━━\u001b[0m \u001b[32m240.6/240.6 kB\u001b[0m \u001b[31m35.6 MB/s\u001b[0m eta \u001b[36m0:00:00\u001b[0m\n",
      "\u001b[?25hDownloading tensorflow_text-2.15.0-cp311-cp311-manylinux_2_17_x86_64.manylinux2014_x86_64.whl (5.2 MB)\n",
      "\u001b[2K   \u001b[90m━━━━━━━━━━━━━━━━━━━━━━━━━━━━━━━━━━━━━━━━\u001b[0m \u001b[32m5.2/5.2 MB\u001b[0m \u001b[31m35.0 MB/s\u001b[0m eta \u001b[36m0:00:00\u001b[0m00:01\u001b[0m00:01\u001b[0m\n",
      "\u001b[?25hDownloading markdown_it_py-3.0.0-py3-none-any.whl (87 kB)\n",
      "\u001b[2K   \u001b[90m━━━━━━━━━━━━━━━━━━━━━━━━━━━━━━━━━━━━━━━━\u001b[0m \u001b[32m87.5/87.5 kB\u001b[0m \u001b[31m20.6 MB/s\u001b[0m eta \u001b[36m0:00:00\u001b[0m\n",
      "\u001b[?25hDownloading tensorflow-2.15.0-cp311-cp311-manylinux_2_17_x86_64.manylinux2014_x86_64.whl (475.3 MB)\n",
      "\u001b[2K   \u001b[90m━━━━━━━━━━━━━━━━━━━━━━━━━━━━━━━━━━━━━━━━\u001b[0m \u001b[32m475.3/475.3 MB\u001b[0m \u001b[31m5.8 MB/s\u001b[0m eta \u001b[36m0:00:00\u001b[0m:00:01\u001b[0m00:01\u001b[0m\n",
      "\u001b[?25hDownloading tensorflow_hub-0.15.0-py2.py3-none-any.whl (85 kB)\n",
      "\u001b[2K   \u001b[90m━━━━━━━━━━━━━━━━━━━━━━━━━━━━━━━━━━━━━━━━\u001b[0m \u001b[32m85.4/85.4 kB\u001b[0m \u001b[31m16.1 MB/s\u001b[0m eta \u001b[36m0:00:00\u001b[0m\n",
      "\u001b[?25hDownloading keras-2.15.0-py3-none-any.whl (1.7 MB)\n",
      "\u001b[2K   \u001b[90m━━━━━━━━━━━━━━━━━━━━━━━━━━━━━━━━━━━━━━━━\u001b[0m \u001b[32m1.7/1.7 MB\u001b[0m \u001b[31m38.4 MB/s\u001b[0m eta \u001b[36m0:00:00\u001b[0m00:01\u001b[0m\n",
      "\u001b[?25hDownloading tensorboard-2.15.1-py3-none-any.whl (5.5 MB)\n",
      "\u001b[2K   \u001b[90m━━━━━━━━━━━━━━━━━━━━━━━━━━━━━━━━━━━━━━━━\u001b[0m \u001b[32m5.5/5.5 MB\u001b[0m \u001b[31m41.4 MB/s\u001b[0m eta \u001b[36m0:00:00\u001b[0m00:01\u001b[0m00:01\u001b[0m\n",
      "\u001b[?25hDownloading protobuf-4.23.4-cp37-abi3-manylinux2014_x86_64.whl (304 kB)\n",
      "\u001b[2K   \u001b[90m━━━━━━━━━━━━━━━━━━━━━━━━━━━━━━━━━━━━━━━━\u001b[0m \u001b[32m304.5/304.5 kB\u001b[0m \u001b[31m41.6 MB/s\u001b[0m eta \u001b[36m0:00:00\u001b[0m\n",
      "\u001b[?25hDownloading tensorflow_estimator-2.15.0-py2.py3-none-any.whl (441 kB)\n",
      "\u001b[2K   \u001b[90m━━━━━━━━━━━━━━━━━━━━━━━━━━━━━━━━━━━━━━━━\u001b[0m \u001b[32m442.0/442.0 kB\u001b[0m \u001b[31m45.9 MB/s\u001b[0m eta \u001b[36m0:00:00\u001b[0m\n",
      "\u001b[?25hInstalling collected packages: namex, dm-tree, tensorflow-estimator, regex, protobuf, mdurl, keras, tensorflow-hub, markdown-it-py, rich, tensorboard, keras-core, tensorflow, tensorflow-text, keras-nlp\n",
      "  Attempting uninstall: tensorflow-estimator\n",
      "    Found existing installation: tensorflow-estimator 2.14.0\n",
      "    Uninstalling tensorflow-estimator-2.14.0:\n",
      "      Successfully uninstalled tensorflow-estimator-2.14.0\n",
      "  Attempting uninstall: protobuf\n",
      "    Found existing installation: protobuf 4.24.3\n",
      "    Uninstalling protobuf-4.24.3:\n",
      "      Successfully uninstalled protobuf-4.24.3\n",
      "  Attempting uninstall: keras\n",
      "    Found existing installation: keras 2.14.0\n",
      "    Uninstalling keras-2.14.0:\n",
      "      Successfully uninstalled keras-2.14.0\n",
      "  Attempting uninstall: tensorboard\n",
      "    Found existing installation: tensorboard 2.14.0\n",
      "    Uninstalling tensorboard-2.14.0:\n",
      "      Successfully uninstalled tensorboard-2.14.0\n",
      "  Attempting uninstall: tensorflow\n",
      "    Found existing installation: tensorflow 2.14.0\n",
      "    Uninstalling tensorflow-2.14.0:\n",
      "      Successfully uninstalled tensorflow-2.14.0\n",
      "Successfully installed dm-tree-0.1.8 keras-2.15.0 keras-core-0.1.7 keras-nlp-0.6.2 markdown-it-py-3.0.0 mdurl-0.1.2 namex-0.0.7 protobuf-4.23.4 regex-2023.10.3 rich-13.7.0 tensorboard-2.15.1 tensorflow-2.15.0 tensorflow-estimator-2.15.0 tensorflow-hub-0.15.0 tensorflow-text-2.15.0\n",
      "\u001b[33mWARNING: Running pip as the 'root' user can result in broken permissions and conflicting behaviour with the system package manager. It is recommended to use a virtual environment instead: https://pip.pypa.io/warnings/venv\u001b[0m\u001b[33m\n",
      "\u001b[0m\n",
      "\u001b[1m[\u001b[0m\u001b[34;49mnotice\u001b[0m\u001b[1;39;49m]\u001b[0m\u001b[39;49m A new release of pip is available: \u001b[0m\u001b[31;49m23.2.1\u001b[0m\u001b[39;49m -> \u001b[0m\u001b[32;49m23.3.1\u001b[0m\n",
      "\u001b[1m[\u001b[0m\u001b[34;49mnotice\u001b[0m\u001b[1;39;49m]\u001b[0m\u001b[39;49m To update, run: \u001b[0m\u001b[32;49mpython3 -m pip install --upgrade pip\u001b[0m\n",
      "Collecting tensorflow==2.14.0\n",
      "  Obtaining dependency information for tensorflow==2.14.0 from https://files.pythonhosted.org/packages/09/63/25e76075081ea98ec48f23929cefee58be0b42212e38074a9ec5c19e838c/tensorflow-2.14.0-cp311-cp311-manylinux_2_17_x86_64.manylinux2014_x86_64.whl.metadata\n",
      "  Downloading tensorflow-2.14.0-cp311-cp311-manylinux_2_17_x86_64.manylinux2014_x86_64.whl.metadata (4.1 kB)\n",
      "Requirement already satisfied: absl-py>=1.0.0 in /usr/local/lib/python3.11/dist-packages (from tensorflow==2.14.0) (2.0.0)\n",
      "Requirement already satisfied: astunparse>=1.6.0 in /usr/local/lib/python3.11/dist-packages (from tensorflow==2.14.0) (1.6.3)\n",
      "Requirement already satisfied: flatbuffers>=23.5.26 in /usr/local/lib/python3.11/dist-packages (from tensorflow==2.14.0) (23.5.26)\n",
      "Requirement already satisfied: gast!=0.5.0,!=0.5.1,!=0.5.2,>=0.2.1 in /usr/local/lib/python3.11/dist-packages (from tensorflow==2.14.0) (0.5.4)\n",
      "Requirement already satisfied: google-pasta>=0.1.1 in /usr/local/lib/python3.11/dist-packages (from tensorflow==2.14.0) (0.2.0)\n",
      "Requirement already satisfied: h5py>=2.9.0 in /usr/local/lib/python3.11/dist-packages (from tensorflow==2.14.0) (3.9.0)\n",
      "Requirement already satisfied: libclang>=13.0.0 in /usr/local/lib/python3.11/dist-packages (from tensorflow==2.14.0) (16.0.6)\n",
      "Requirement already satisfied: ml-dtypes==0.2.0 in /usr/local/lib/python3.11/dist-packages (from tensorflow==2.14.0) (0.2.0)\n",
      "Requirement already satisfied: numpy>=1.23.5 in /usr/local/lib/python3.11/dist-packages (from tensorflow==2.14.0) (1.26.0)\n",
      "Requirement already satisfied: opt-einsum>=2.3.2 in /usr/local/lib/python3.11/dist-packages (from tensorflow==2.14.0) (3.3.0)\n",
      "Requirement already satisfied: packaging in /usr/local/lib/python3.11/dist-packages (from tensorflow==2.14.0) (23.1)\n",
      "Requirement already satisfied: protobuf!=4.21.0,!=4.21.1,!=4.21.2,!=4.21.3,!=4.21.4,!=4.21.5,<5.0.0dev,>=3.20.3 in /usr/local/lib/python3.11/dist-packages (from tensorflow==2.14.0) (4.23.4)\n",
      "Requirement already satisfied: setuptools in /usr/local/lib/python3.11/dist-packages (from tensorflow==2.14.0) (68.2.2)\n",
      "Requirement already satisfied: six>=1.12.0 in /usr/lib/python3/dist-packages (from tensorflow==2.14.0) (1.16.0)\n",
      "Requirement already satisfied: termcolor>=1.1.0 in /usr/local/lib/python3.11/dist-packages (from tensorflow==2.14.0) (2.3.0)\n",
      "Requirement already satisfied: typing-extensions>=3.6.6 in /usr/local/lib/python3.11/dist-packages (from tensorflow==2.14.0) (4.8.0)\n",
      "Requirement already satisfied: wrapt<1.15,>=1.11.0 in /usr/local/lib/python3.11/dist-packages (from tensorflow==2.14.0) (1.14.1)\n",
      "Requirement already satisfied: tensorflow-io-gcs-filesystem>=0.23.1 in /usr/local/lib/python3.11/dist-packages (from tensorflow==2.14.0) (0.34.0)\n",
      "Requirement already satisfied: grpcio<2.0,>=1.24.3 in /usr/local/lib/python3.11/dist-packages (from tensorflow==2.14.0) (1.58.0)\n",
      "Collecting tensorboard<2.15,>=2.14 (from tensorflow==2.14.0)\n",
      "  Obtaining dependency information for tensorboard<2.15,>=2.14 from https://files.pythonhosted.org/packages/73/a2/66ed644f6ed1562e0285fcd959af17670ea313c8f331c46f79ee77187eb9/tensorboard-2.14.1-py3-none-any.whl.metadata\n",
      "  Downloading tensorboard-2.14.1-py3-none-any.whl.metadata (1.7 kB)\n",
      "Collecting tensorflow-estimator<2.15,>=2.14.0 (from tensorflow==2.14.0)\n",
      "  Obtaining dependency information for tensorflow-estimator<2.15,>=2.14.0 from https://files.pythonhosted.org/packages/d1/da/4f264c196325bb6e37a6285caec5b12a03def489b57cc1fdac02bb6272cd/tensorflow_estimator-2.14.0-py2.py3-none-any.whl.metadata\n",
      "  Downloading tensorflow_estimator-2.14.0-py2.py3-none-any.whl.metadata (1.3 kB)\n",
      "Collecting keras<2.15,>=2.14.0 (from tensorflow==2.14.0)\n",
      "  Obtaining dependency information for keras<2.15,>=2.14.0 from https://files.pythonhosted.org/packages/fe/58/34d4d8f1aa11120c2d36d7ad27d0526164b1a8ae45990a2fede31d0e59bf/keras-2.14.0-py3-none-any.whl.metadata\n",
      "  Downloading keras-2.14.0-py3-none-any.whl.metadata (2.4 kB)\n",
      "Requirement already satisfied: wheel<1.0,>=0.23.0 in /usr/local/lib/python3.11/dist-packages (from astunparse>=1.6.0->tensorflow==2.14.0) (0.41.2)\n",
      "Requirement already satisfied: google-auth<3,>=1.6.3 in /usr/local/lib/python3.11/dist-packages (from tensorboard<2.15,>=2.14->tensorflow==2.14.0) (2.23.1)\n",
      "Requirement already satisfied: google-auth-oauthlib<1.1,>=0.5 in /usr/local/lib/python3.11/dist-packages (from tensorboard<2.15,>=2.14->tensorflow==2.14.0) (1.0.0)\n",
      "Requirement already satisfied: markdown>=2.6.8 in /usr/local/lib/python3.11/dist-packages (from tensorboard<2.15,>=2.14->tensorflow==2.14.0) (3.4.4)\n",
      "Requirement already satisfied: requests<3,>=2.21.0 in /usr/local/lib/python3.11/dist-packages (from tensorboard<2.15,>=2.14->tensorflow==2.14.0) (2.31.0)\n",
      "Requirement already satisfied: tensorboard-data-server<0.8.0,>=0.7.0 in /usr/local/lib/python3.11/dist-packages (from tensorboard<2.15,>=2.14->tensorflow==2.14.0) (0.7.1)\n",
      "Requirement already satisfied: werkzeug>=1.0.1 in /usr/local/lib/python3.11/dist-packages (from tensorboard<2.15,>=2.14->tensorflow==2.14.0) (2.3.7)\n",
      "Requirement already satisfied: cachetools<6.0,>=2.0.0 in /usr/local/lib/python3.11/dist-packages (from google-auth<3,>=1.6.3->tensorboard<2.15,>=2.14->tensorflow==2.14.0) (5.3.1)\n",
      "Requirement already satisfied: pyasn1-modules>=0.2.1 in /usr/local/lib/python3.11/dist-packages (from google-auth<3,>=1.6.3->tensorboard<2.15,>=2.14->tensorflow==2.14.0) (0.3.0)\n",
      "Requirement already satisfied: rsa<5,>=3.1.4 in /usr/local/lib/python3.11/dist-packages (from google-auth<3,>=1.6.3->tensorboard<2.15,>=2.14->tensorflow==2.14.0) (4.9)\n",
      "Requirement already satisfied: urllib3>=2.0.5 in /usr/local/lib/python3.11/dist-packages (from google-auth<3,>=1.6.3->tensorboard<2.15,>=2.14->tensorflow==2.14.0) (2.0.5)\n",
      "Requirement already satisfied: requests-oauthlib>=0.7.0 in /usr/local/lib/python3.11/dist-packages (from google-auth-oauthlib<1.1,>=0.5->tensorboard<2.15,>=2.14->tensorflow==2.14.0) (1.3.1)\n",
      "Requirement already satisfied: charset-normalizer<4,>=2 in /usr/local/lib/python3.11/dist-packages (from requests<3,>=2.21.0->tensorboard<2.15,>=2.14->tensorflow==2.14.0) (3.2.0)\n",
      "Requirement already satisfied: idna<4,>=2.5 in /usr/local/lib/python3.11/dist-packages (from requests<3,>=2.21.0->tensorboard<2.15,>=2.14->tensorflow==2.14.0) (3.4)\n",
      "Requirement already satisfied: certifi>=2017.4.17 in /usr/local/lib/python3.11/dist-packages (from requests<3,>=2.21.0->tensorboard<2.15,>=2.14->tensorflow==2.14.0) (2023.7.22)\n",
      "Requirement already satisfied: MarkupSafe>=2.1.1 in /usr/local/lib/python3.11/dist-packages (from werkzeug>=1.0.1->tensorboard<2.15,>=2.14->tensorflow==2.14.0) (2.1.3)\n",
      "Requirement already satisfied: pyasn1<0.6.0,>=0.4.6 in /usr/local/lib/python3.11/dist-packages (from pyasn1-modules>=0.2.1->google-auth<3,>=1.6.3->tensorboard<2.15,>=2.14->tensorflow==2.14.0) (0.5.0)\n",
      "Requirement already satisfied: oauthlib>=3.0.0 in /usr/lib/python3/dist-packages (from requests-oauthlib>=0.7.0->google-auth-oauthlib<1.1,>=0.5->tensorboard<2.15,>=2.14->tensorflow==2.14.0) (3.2.0)\n",
      "Downloading tensorflow-2.14.0-cp311-cp311-manylinux_2_17_x86_64.manylinux2014_x86_64.whl (489.9 MB)\n",
      "\u001b[2K   \u001b[90m━━━━━━━━━━━━━━━━━━━━━━━━━━━━━━━━━━━━━━━━\u001b[0m \u001b[32m489.9/489.9 MB\u001b[0m \u001b[31m4.8 MB/s\u001b[0m eta \u001b[36m0:00:00\u001b[0m:00:01\u001b[0m00:01\u001b[0m\n",
      "\u001b[?25hDownloading keras-2.14.0-py3-none-any.whl (1.7 MB)\n",
      "\u001b[2K   \u001b[90m━━━━━━━━━━━━━━━━━━━━━━━━━━━━━━━━━━━━━━━━\u001b[0m \u001b[32m1.7/1.7 MB\u001b[0m \u001b[31m69.9 MB/s\u001b[0m eta \u001b[36m0:00:00\u001b[0m\n",
      "\u001b[?25hDownloading tensorboard-2.14.1-py3-none-any.whl (5.5 MB)\n",
      "\u001b[2K   \u001b[90m━━━━━━━━━━━━━━━━━━━━━━━━━━━━━━━━━━━━━━━━\u001b[0m \u001b[32m5.5/5.5 MB\u001b[0m \u001b[31m64.3 MB/s\u001b[0m eta \u001b[36m0:00:00\u001b[0m00:01\u001b[0m00:01\u001b[0m\n",
      "\u001b[?25hDownloading tensorflow_estimator-2.14.0-py2.py3-none-any.whl (440 kB)\n",
      "\u001b[2K   \u001b[90m━━━━━━━━━━━━━━━━━━━━━━━━━━━━━━━━━━━━━━━━\u001b[0m \u001b[32m440.7/440.7 kB\u001b[0m \u001b[31m48.0 MB/s\u001b[0m eta \u001b[36m0:00:00\u001b[0m\n",
      "\u001b[?25hInstalling collected packages: tensorflow-estimator, keras, tensorboard, tensorflow\n",
      "  Attempting uninstall: tensorflow-estimator\n",
      "    Found existing installation: tensorflow-estimator 2.15.0\n",
      "    Uninstalling tensorflow-estimator-2.15.0:\n",
      "      Successfully uninstalled tensorflow-estimator-2.15.0\n",
      "  Attempting uninstall: keras\n",
      "    Found existing installation: keras 2.15.0\n",
      "    Uninstalling keras-2.15.0:\n",
      "      Successfully uninstalled keras-2.15.0\n",
      "  Attempting uninstall: tensorboard\n",
      "    Found existing installation: tensorboard 2.15.1\n",
      "    Uninstalling tensorboard-2.15.1:\n",
      "      Successfully uninstalled tensorboard-2.15.1\n",
      "  Attempting uninstall: tensorflow\n",
      "    Found existing installation: tensorflow 2.15.0\n",
      "    Uninstalling tensorflow-2.15.0:\n",
      "      Successfully uninstalled tensorflow-2.15.0\n",
      "\u001b[31mERROR: pip's dependency resolver does not currently take into account all the packages that are installed. This behaviour is the source of the following dependency conflicts.\n",
      "tensorflow-text 2.15.0 requires tensorflow<2.16,>=2.15.0; platform_machine != \"arm64\" or platform_system != \"Darwin\", but you have tensorflow 2.14.0 which is incompatible.\u001b[0m\u001b[31m\n",
      "\u001b[0mSuccessfully installed keras-2.14.0 tensorboard-2.14.1 tensorflow-2.14.0 tensorflow-estimator-2.14.0\n",
      "\u001b[33mWARNING: Running pip as the 'root' user can result in broken permissions and conflicting behaviour with the system package manager. It is recommended to use a virtual environment instead: https://pip.pypa.io/warnings/venv\u001b[0m\u001b[33m\n",
      "\u001b[0m\n",
      "\u001b[1m[\u001b[0m\u001b[34;49mnotice\u001b[0m\u001b[1;39;49m]\u001b[0m\u001b[39;49m A new release of pip is available: \u001b[0m\u001b[31;49m23.2.1\u001b[0m\u001b[39;49m -> \u001b[0m\u001b[32;49m23.3.1\u001b[0m\n",
      "\u001b[1m[\u001b[0m\u001b[34;49mnotice\u001b[0m\u001b[1;39;49m]\u001b[0m\u001b[39;49m To update, run: \u001b[0m\u001b[32;49mpython3 -m pip install --upgrade pip\u001b[0m\n"
     ]
    }
   ],
   "source": [
    "!pip install keras-nlp==0.6.2\n",
    "!pip install tensorflow==2.14.0"
   ]
  },
  {
   "cell_type": "code",
   "execution_count": 2,
   "metadata": {},
   "outputs": [
    {
     "name": "stdout",
     "output_type": "stream",
     "text": [
      "Collecting pandas\n",
      "  Obtaining dependency information for pandas from https://files.pythonhosted.org/packages/08/de/d4448c423484537ebc9373d3da2496a2e47f42ea11ff48e025cf49665471/pandas-2.1.3-cp311-cp311-manylinux_2_17_x86_64.manylinux2014_x86_64.whl.metadata\n",
      "  Downloading pandas-2.1.3-cp311-cp311-manylinux_2_17_x86_64.manylinux2014_x86_64.whl.metadata (18 kB)\n",
      "Requirement already satisfied: numpy<2,>=1.23.2 in /usr/local/lib/python3.11/dist-packages (from pandas) (1.26.0)\n",
      "Requirement already satisfied: python-dateutil>=2.8.2 in /usr/local/lib/python3.11/dist-packages (from pandas) (2.8.2)\n",
      "Collecting pytz>=2020.1 (from pandas)\n",
      "  Obtaining dependency information for pytz>=2020.1 from https://files.pythonhosted.org/packages/32/4d/aaf7eff5deb402fd9a24a1449a8119f00d74ae9c2efa79f8ef9994261fc2/pytz-2023.3.post1-py2.py3-none-any.whl.metadata\n",
      "  Downloading pytz-2023.3.post1-py2.py3-none-any.whl.metadata (22 kB)\n",
      "Collecting tzdata>=2022.1 (from pandas)\n",
      "  Downloading tzdata-2023.3-py2.py3-none-any.whl (341 kB)\n",
      "\u001b[2K     \u001b[90m━━━━━━━━━━━━━━━━━━━━━━━━━━━━━━━━━━━━━━\u001b[0m \u001b[32m341.8/341.8 kB\u001b[0m \u001b[31m12.4 MB/s\u001b[0m eta \u001b[36m0:00:00\u001b[0m\n",
      "\u001b[?25hRequirement already satisfied: six>=1.5 in /usr/lib/python3/dist-packages (from python-dateutil>=2.8.2->pandas) (1.16.0)\n",
      "Downloading pandas-2.1.3-cp311-cp311-manylinux_2_17_x86_64.manylinux2014_x86_64.whl (12.2 MB)\n",
      "\u001b[2K   \u001b[90m━━━━━━━━━━━━━━━━━━━━━━━━━━━━━━━━━━━━━━━━\u001b[0m \u001b[32m12.2/12.2 MB\u001b[0m \u001b[31m57.7 MB/s\u001b[0m eta \u001b[36m0:00:00\u001b[0m00:01\u001b[0m0:01\u001b[0m\n",
      "\u001b[?25hDownloading pytz-2023.3.post1-py2.py3-none-any.whl (502 kB)\n",
      "\u001b[2K   \u001b[90m━━━━━━━━━━━━━━━━━━━━━━━━━━━━━━━━━━━━━━━━\u001b[0m \u001b[32m502.5/502.5 kB\u001b[0m \u001b[31m54.0 MB/s\u001b[0m eta \u001b[36m0:00:00\u001b[0m\n",
      "\u001b[?25hInstalling collected packages: pytz, tzdata, pandas\n",
      "Successfully installed pandas-2.1.3 pytz-2023.3.post1 tzdata-2023.3\n",
      "\u001b[33mWARNING: Running pip as the 'root' user can result in broken permissions and conflicting behaviour with the system package manager. It is recommended to use a virtual environment instead: https://pip.pypa.io/warnings/venv\u001b[0m\u001b[33m\n",
      "\u001b[0m\n",
      "\u001b[1m[\u001b[0m\u001b[34;49mnotice\u001b[0m\u001b[1;39;49m]\u001b[0m\u001b[39;49m A new release of pip is available: \u001b[0m\u001b[31;49m23.2.1\u001b[0m\u001b[39;49m -> \u001b[0m\u001b[32;49m23.3.1\u001b[0m\n",
      "\u001b[1m[\u001b[0m\u001b[34;49mnotice\u001b[0m\u001b[1;39;49m]\u001b[0m\u001b[39;49m To update, run: \u001b[0m\u001b[32;49mpython3 -m pip install --upgrade pip\u001b[0m\n"
     ]
    }
   ],
   "source": [
    "!pip install pandas"
   ]
  },
  {
   "cell_type": "code",
   "execution_count": 3,
   "metadata": {},
   "outputs": [
    {
     "name": "stdout",
     "output_type": "stream",
     "text": [
      "Collecting scikit-learn\n",
      "  Obtaining dependency information for scikit-learn from https://files.pythonhosted.org/packages/0c/2a/d3ff6091406bc2207e0adb832ebd15e40ac685811c7e2e3b432bfd969b71/scikit_learn-1.3.2-cp311-cp311-manylinux_2_17_x86_64.manylinux2014_x86_64.whl.metadata\n",
      "  Downloading scikit_learn-1.3.2-cp311-cp311-manylinux_2_17_x86_64.manylinux2014_x86_64.whl.metadata (11 kB)\n",
      "Requirement already satisfied: numpy<2.0,>=1.17.3 in /usr/local/lib/python3.11/dist-packages (from scikit-learn) (1.26.0)\n",
      "Collecting scipy>=1.5.0 (from scikit-learn)\n",
      "  Obtaining dependency information for scipy>=1.5.0 from https://files.pythonhosted.org/packages/6b/d4/d62ce38ba00dc67d7ec4ec5cc19d36958d8ed70e63778715ad626bcbc796/scipy-1.11.4-cp311-cp311-manylinux_2_17_x86_64.manylinux2014_x86_64.whl.metadata\n",
      "  Downloading scipy-1.11.4-cp311-cp311-manylinux_2_17_x86_64.manylinux2014_x86_64.whl.metadata (60 kB)\n",
      "\u001b[2K     \u001b[90m━━━━━━━━━━━━━━━━━━━━━━━━━━━━━━━━━━━━━━━━\u001b[0m \u001b[32m60.4/60.4 kB\u001b[0m \u001b[31m3.9 MB/s\u001b[0m eta \u001b[36m0:00:00\u001b[0m\n",
      "\u001b[?25hCollecting joblib>=1.1.1 (from scikit-learn)\n",
      "  Obtaining dependency information for joblib>=1.1.1 from https://files.pythonhosted.org/packages/10/40/d551139c85db202f1f384ba8bcf96aca2f329440a844f924c8a0040b6d02/joblib-1.3.2-py3-none-any.whl.metadata\n",
      "  Downloading joblib-1.3.2-py3-none-any.whl.metadata (5.4 kB)\n",
      "Collecting threadpoolctl>=2.0.0 (from scikit-learn)\n",
      "  Obtaining dependency information for threadpoolctl>=2.0.0 from https://files.pythonhosted.org/packages/81/12/fd4dea011af9d69e1cad05c75f3f7202cdcbeac9b712eea58ca779a72865/threadpoolctl-3.2.0-py3-none-any.whl.metadata\n",
      "  Downloading threadpoolctl-3.2.0-py3-none-any.whl.metadata (10.0 kB)\n",
      "Downloading scikit_learn-1.3.2-cp311-cp311-manylinux_2_17_x86_64.manylinux2014_x86_64.whl (10.9 MB)\n",
      "\u001b[2K   \u001b[90m━━━━━━━━━━━━━━━━━━━━━━━━━━━━━━━━━━━━━━━━\u001b[0m \u001b[32m10.9/10.9 MB\u001b[0m \u001b[31m38.7 MB/s\u001b[0m eta \u001b[36m0:00:00\u001b[0m00:01\u001b[0m00:01\u001b[0m\n",
      "\u001b[?25hDownloading joblib-1.3.2-py3-none-any.whl (302 kB)\n",
      "\u001b[2K   \u001b[90m━━━━━━━━━━━━━━━━━━━━━━━━━━━━━━━━━━━━━━━━\u001b[0m \u001b[32m302.2/302.2 kB\u001b[0m \u001b[31m33.9 MB/s\u001b[0m eta \u001b[36m0:00:00\u001b[0m\n",
      "\u001b[?25hDownloading scipy-1.11.4-cp311-cp311-manylinux_2_17_x86_64.manylinux2014_x86_64.whl (36.4 MB)\n",
      "\u001b[2K   \u001b[90m━━━━━━━━━━━━━━━━━━━━━━━━━━━━━━━━━━━━━━━━\u001b[0m \u001b[32m36.4/36.4 MB\u001b[0m \u001b[31m42.3 MB/s\u001b[0m eta \u001b[36m0:00:00\u001b[0m00:01\u001b[0m00:01\u001b[0mm\n",
      "\u001b[?25hDownloading threadpoolctl-3.2.0-py3-none-any.whl (15 kB)\n",
      "Installing collected packages: threadpoolctl, scipy, joblib, scikit-learn\n",
      "Successfully installed joblib-1.3.2 scikit-learn-1.3.2 scipy-1.11.4 threadpoolctl-3.2.0\n",
      "\u001b[33mWARNING: Running pip as the 'root' user can result in broken permissions and conflicting behaviour with the system package manager. It is recommended to use a virtual environment instead: https://pip.pypa.io/warnings/venv\u001b[0m\u001b[33m\n",
      "\u001b[0m\n",
      "\u001b[1m[\u001b[0m\u001b[34;49mnotice\u001b[0m\u001b[1;39;49m]\u001b[0m\u001b[39;49m A new release of pip is available: \u001b[0m\u001b[31;49m23.2.1\u001b[0m\u001b[39;49m -> \u001b[0m\u001b[32;49m23.3.1\u001b[0m\n",
      "\u001b[1m[\u001b[0m\u001b[34;49mnotice\u001b[0m\u001b[1;39;49m]\u001b[0m\u001b[39;49m To update, run: \u001b[0m\u001b[32;49mpython3 -m pip install --upgrade pip\u001b[0m\n"
     ]
    }
   ],
   "source": [
    "!pip install scikit-learn"
   ]
  },
  {
   "cell_type": "code",
   "execution_count": 3,
   "metadata": {
    "colab": {
     "base_uri": "https://localhost:8080/"
    },
    "executionInfo": {
     "elapsed": 14601,
     "status": "ok",
     "timestamp": 1700152477482,
     "user": {
      "displayName": "박혜원",
      "userId": "15434568143522702950"
     },
     "user_tz": -540
    },
    "id": "yyGgsBNFeSIc",
    "outputId": "600a3ef3-9eaf-4edc-b32f-5b959c158c10"
   },
   "outputs": [
    {
     "name": "stdout",
     "output_type": "stream",
     "text": [
      "Using TensorFlow backend\n"
     ]
    }
   ],
   "source": [
    "import tensorflow as tf\n",
    "import numpy as np\n",
    "import pandas as pd\n",
    "from tensorflow import keras\n",
    "import keras_nlp\n",
    "from sklearn.model_selection import train_test_split"
   ]
  },
  {
   "cell_type": "code",
   "execution_count": 4,
   "metadata": {},
   "outputs": [],
   "source": [
    "import matplotlib.pyplot as plt\n",
    "\n",
    "def plot_training_history(history):\n",
    "    \"\"\"\n",
    "    Plots the training and validation accuracy and loss over epochs from the training history object.\n",
    "\n",
    "    Args:\n",
    "    history (History): The history object returned by the fit function of a model in Keras.\n",
    "    \"\"\"\n",
    "\n",
    "    # Extract training and validation accuracy and loss\n",
    "    train_acc = history.history['accuracy']\n",
    "    val_acc = history.history['val_accuracy']\n",
    "    train_loss = history.history['loss']\n",
    "    val_loss = history.history['val_loss']\n",
    "\n",
    "    # Extract the number of epochs\n",
    "    epochs = range(1, len(train_acc) + 1)\n",
    "\n",
    "    # Plotting Accuracy\n",
    "    plt.figure(figsize=(12, 6))\n",
    "    plt.subplot(1, 2, 1)  # 1 row, 2 columns, 1st subplot\n",
    "    plt.plot(epochs, train_acc, 'b-', label='Training Accuracy')\n",
    "    plt.plot(epochs, val_acc, 'r-', label='Validation Accuracy')\n",
    "    plt.title('Training and Validation Accuracy')\n",
    "    plt.xlabel('Epochs')\n",
    "    plt.ylabel('Accuracy')\n",
    "    plt.legend()\n",
    "\n",
    "    # Plotting Loss\n",
    "    plt.subplot(1, 2, 2)  # 1 row, 2 columns, 2nd subplot\n",
    "    plt.plot(epochs, train_loss, 'b-', label='Training Loss')\n",
    "    plt.plot(epochs, val_loss, 'r-', label='Validation Loss')\n",
    "    plt.title('Training and Validation Loss')\n",
    "    plt.xlabel('Epochs')\n",
    "    plt.ylabel('Loss')\n",
    "    plt.legend()\n",
    "\n",
    "    plt.show()"
   ]
  },
  {
   "cell_type": "markdown",
   "metadata": {},
   "source": [
    "## Data Load"
   ]
  },
  {
   "cell_type": "code",
   "execution_count": 5,
   "metadata": {
    "colab": {
     "base_uri": "https://localhost:8080/",
     "height": 206
    },
    "executionInfo": {
     "elapsed": 490,
     "status": "ok",
     "timestamp": 1700152481015,
     "user": {
      "displayName": "박혜원",
      "userId": "15434568143522702950"
     },
     "user_tz": -540
    },
    "id": "EVG-oYjb21F2",
    "outputId": "98fca80e-438e-41e0-eb4c-f30093bf4363"
   },
   "outputs": [
    {
     "data": {
      "text/html": [
       "<div>\n",
       "<style scoped>\n",
       "    .dataframe tbody tr th:only-of-type {\n",
       "        vertical-align: middle;\n",
       "    }\n",
       "\n",
       "    .dataframe tbody tr th {\n",
       "        vertical-align: top;\n",
       "    }\n",
       "\n",
       "    .dataframe thead th {\n",
       "        text-align: right;\n",
       "    }\n",
       "</style>\n",
       "<table border=\"1\" class=\"dataframe\">\n",
       "  <thead>\n",
       "    <tr style=\"text-align: right;\">\n",
       "      <th></th>\n",
       "      <th>review</th>\n",
       "      <th>sentiment</th>\n",
       "    </tr>\n",
       "  </thead>\n",
       "  <tbody>\n",
       "    <tr>\n",
       "      <th>0</th>\n",
       "      <td>One of the other reviewers has mentioned that ...</td>\n",
       "      <td>positive</td>\n",
       "    </tr>\n",
       "    <tr>\n",
       "      <th>1</th>\n",
       "      <td>A wonderful little production. &lt;br /&gt;&lt;br /&gt;The...</td>\n",
       "      <td>positive</td>\n",
       "    </tr>\n",
       "    <tr>\n",
       "      <th>2</th>\n",
       "      <td>I thought this was a wonderful way to spend ti...</td>\n",
       "      <td>positive</td>\n",
       "    </tr>\n",
       "    <tr>\n",
       "      <th>3</th>\n",
       "      <td>Basically there's a family where a little boy ...</td>\n",
       "      <td>negative</td>\n",
       "    </tr>\n",
       "    <tr>\n",
       "      <th>4</th>\n",
       "      <td>Petter Mattei's \"Love in the Time of Money\" is...</td>\n",
       "      <td>positive</td>\n",
       "    </tr>\n",
       "  </tbody>\n",
       "</table>\n",
       "</div>"
      ],
      "text/plain": [
       "                                              review sentiment\n",
       "0  One of the other reviewers has mentioned that ...  positive\n",
       "1  A wonderful little production. <br /><br />The...  positive\n",
       "2  I thought this was a wonderful way to spend ti...  positive\n",
       "3  Basically there's a family where a little boy ...  negative\n",
       "4  Petter Mattei's \"Love in the Time of Money\" is...  positive"
      ]
     },
     "execution_count": 5,
     "metadata": {},
     "output_type": "execute_result"
    }
   ],
   "source": [
    "df = pd.read_csv('./IMDB Dataset (1).csv')\n",
    "df.head()"
   ]
  },
  {
   "cell_type": "code",
   "execution_count": 6,
   "metadata": {
    "executionInfo": {
     "elapsed": 30,
     "status": "ok",
     "timestamp": 1700152481018,
     "user": {
      "displayName": "박혜원",
      "userId": "15434568143522702950"
     },
     "user_tz": -540
    },
    "id": "fFY-X85qJF2M"
   },
   "outputs": [],
   "source": [
    "X = df['review']\n",
    "y = df['sentiment']\n",
    "X_train, X_test , y_train, y_test = train_test_split(X, y, test_size = 0.50, random_state=42)"
   ]
  },
  {
   "cell_type": "code",
   "execution_count": 7,
   "metadata": {
    "executionInfo": {
     "elapsed": 31,
     "status": "ok",
     "timestamp": 1700152481020,
     "user": {
      "displayName": "박혜원",
      "userId": "15434568143522702950"
     },
     "user_tz": -540
    },
    "id": "j0lpu4z1JIIj"
   },
   "outputs": [],
   "source": [
    "# 레이블을 정수로 매핑\n",
    "label_mapping = {'positive': 1, 'negative': 0}\n",
    "\n",
    "# y_train과 y_test의 레이블을 정수로 변환\n",
    "y_train_int = np.array([label_mapping[label] for label in y_train])\n",
    "y_test_int = np.array([label_mapping[label] for label in y_test])\n"
   ]
  },
  {
   "cell_type": "code",
   "execution_count": 8,
   "metadata": {
    "executionInfo": {
     "elapsed": 30,
     "status": "ok",
     "timestamp": 1700152481022,
     "user": {
      "displayName": "박혜원",
      "userId": "15434568143522702950"
     },
     "user_tz": -540
    },
    "id": "BnuTvPr79cso"
   },
   "outputs": [],
   "source": [
    "from tensorflow.keras.utils import to_categorical\n",
    "\n",
    "y_train = to_categorical(y_train_int, num_classes=2)\n",
    "y_test = to_categorical(y_test_int, num_classes=2)"
   ]
  },
  {
   "cell_type": "code",
   "execution_count": 9,
   "metadata": {
    "executionInfo": {
     "elapsed": 1662,
     "status": "ok",
     "timestamp": 1700152483294,
     "user": {
      "displayName": "박혜원",
      "userId": "15434568143522702950"
     },
     "user_tz": -540
    },
    "id": "A1szfmQgRbWe"
   },
   "outputs": [
    {
     "name": "stderr",
     "output_type": "stream",
     "text": [
      "2023-11-30 03:14:06.245477: I tensorflow/core/common_runtime/gpu/gpu_device.cc:1886] Created device /job:localhost/replica:0/task:0/device:GPU:0 with 18289 MB memory:  -> device: 0, name: NVIDIA RTX 4000 Ada Generation, pci bus id: 0000:05:00.0, compute capability: 8.9\n"
     ]
    }
   ],
   "source": [
    "training_data = tf.data.Dataset.from_tensor_slices((X_train, y_train))\n",
    "validation_data = tf.data.Dataset.from_tensor_slices((X_test, y_test))"
   ]
  },
  {
   "cell_type": "code",
   "execution_count": 10,
   "metadata": {},
   "outputs": [
    {
     "data": {
      "text/plain": [
       "25000"
      ]
     },
     "execution_count": 10,
     "metadata": {},
     "output_type": "execute_result"
    }
   ],
   "source": [
    "dataset_size = X_train.shape[0]\n",
    "dataset_size"
   ]
  },
  {
   "cell_type": "markdown",
   "metadata": {
    "id": "-_3-7SVwI7yk"
   },
   "source": [
    "## Fine tuning Bert-small\n"
   ]
  },
  {
   "cell_type": "code",
   "execution_count": 11,
   "metadata": {
    "executionInfo": {
     "elapsed": 32,
     "status": "ok",
     "timestamp": 1700152481017,
     "user": {
      "displayName": "박혜원",
      "userId": "15434568143522702950"
     },
     "user_tz": -540
    },
    "id": "gcDLXUHFxFT_"
   },
   "outputs": [],
   "source": [
    "model_name =  \"bert_small_en_uncased\""
   ]
  },
  {
   "cell_type": "code",
   "execution_count": 12,
   "metadata": {
    "executionInfo": {
     "elapsed": 655,
     "status": "ok",
     "timestamp": 1700152481649,
     "user": {
      "displayName": "박혜원",
      "userId": "15434568143522702950"
     },
     "user_tz": -540
    },
    "id": "Gw8E7cnxO_y0"
   },
   "outputs": [],
   "source": [
    "preprocessor = keras_nlp.models.BertPreprocessor.from_preset(\n",
    "    model_name,\n",
    "    sequence_length=256,\n",
    ")"
   ]
  },
  {
   "cell_type": "code",
   "execution_count": 13,
   "metadata": {},
   "outputs": [],
   "source": [
    "batch_size = 32"
   ]
  },
  {
   "cell_type": "code",
   "execution_count": 14,
   "metadata": {
    "executionInfo": {
     "elapsed": 12881,
     "status": "ok",
     "timestamp": 1700152496925,
     "user": {
      "displayName": "박혜원",
      "userId": "15434568143522702950"
     },
     "user_tz": -540
    },
    "id": "2DKZM6wYRmwL"
   },
   "outputs": [],
   "source": [
    "train_cached = (\n",
    "    training_data\n",
    "    .map(preprocessor)  # Apply the preprocessor\n",
    "    .batch(batch_size)  # Batch the data\n",
    "    .cache()  # Cache the data\n",
    "    .prefetch(tf.data.experimental.AUTOTUNE)  # Prefetch for efficiency\n",
    ")\n",
    "test_cached = (\n",
    "    validation_data\n",
    "    .map(preprocessor)  # Apply the preprocessor\n",
    "    .batch(batch_size)  # Batch the data\n",
    "    .cache()  # Cache the data\n",
    "    .prefetch(tf.data.experimental.AUTOTUNE)  # Prefetch for efficiency\n",
    ")"
   ]
  },
  {
   "cell_type": "code",
   "execution_count": 15,
   "metadata": {
    "executionInfo": {
     "elapsed": 8262,
     "status": "ok",
     "timestamp": 1700152505173,
     "user": {
      "displayName": "박혜원",
      "userId": "15434568143522702950"
     },
     "user_tz": -540
    },
    "id": "232-tZh6OlKY"
   },
   "outputs": [],
   "source": [
    "# Pretrained classifier.\n",
    "bert_small = keras_nlp.models.BertClassifier.from_preset(\n",
    "    model_name,\n",
    "    preprocessor=None,\n",
    "    num_classes=2,\n",
    "    load_weights = True,\n",
    "    activation='sigmoid'\n",
    ")"
   ]
  },
  {
   "cell_type": "code",
   "execution_count": 16,
   "metadata": {
    "executionInfo": {
     "elapsed": 63,
     "status": "ok",
     "timestamp": 1700152505177,
     "user": {
      "displayName": "박혜원",
      "userId": "15434568143522702950"
     },
     "user_tz": -540
    },
    "id": "GGGV4sjNR8oI"
   },
   "outputs": [],
   "source": [
    "bert_small.compile(\n",
    "    loss=keras.losses.BinaryCrossentropy(),\n",
    "    optimizer=keras.optimizers.Adam(learning_rate=5e-5),  \n",
    "    jit_compile=True,\n",
    "    metrics=[\"accuracy\"],\n",
    ")"
   ]
  },
  {
   "cell_type": "code",
   "execution_count": 18,
   "metadata": {
    "colab": {
     "base_uri": "https://localhost:8080/",
     "height": 357
    },
    "executionInfo": {
     "elapsed": 51,
     "status": "ok",
     "timestamp": 1700152505179,
     "user": {
      "displayName": "박혜원",
      "userId": "15434568143522702950"
     },
     "user_tz": -540
    },
    "id": "mPCdgaO99jlh",
    "outputId": "d00f1c3b-5e83-4cde-dffb-2bb976a47103"
   },
   "outputs": [
    {
     "data": {
      "text/html": [
       "<pre style=\"white-space:pre;overflow-x:auto;line-height:normal;font-family:Menlo,'DejaVu Sans Mono',consolas,'Courier New',monospace\"><span style=\"font-weight: bold\">Model: \"bert_classifier\"</span>\n",
       "</pre>\n"
      ],
      "text/plain": [
       "\u001b[1mModel: \"bert_classifier\"\u001b[0m\n"
      ]
     },
     "metadata": {},
     "output_type": "display_data"
    },
    {
     "data": {
      "text/html": [
       "<pre style=\"white-space:pre;overflow-x:auto;line-height:normal;font-family:Menlo,'DejaVu Sans Mono',consolas,'Courier New',monospace\">┏━━━━━━━━━━━━━━━━━━━━━━━━━━━━━━━━━━━━━━━━━━━━━━━┳━━━━━━━━━━━━━━━━━━━━━━━━━━━━━━━━━━━━━━━━┳━━━━━━━━━━━━━━━━━┓\n",
       "┃<span style=\"font-weight: bold\"> Layer (type)                                  </span>┃<span style=\"font-weight: bold\"> Output Shape                           </span>┃<span style=\"font-weight: bold\">         Param # </span>┃\n",
       "┡━━━━━━━━━━━━━━━━━━━━━━━━━━━━━━━━━━━━━━━━━━━━━━━╇━━━━━━━━━━━━━━━━━━━━━━━━━━━━━━━━━━━━━━━━╇━━━━━━━━━━━━━━━━━┩\n",
       "│ padding_mask (<span style=\"color: #0087ff; text-decoration-color: #0087ff\">InputLayer</span>)                     │ (<span style=\"color: #00d7ff; text-decoration-color: #00d7ff\">None</span>, <span style=\"color: #00d7ff; text-decoration-color: #00d7ff\">None</span>)                           │               <span style=\"color: #00af00; text-decoration-color: #00af00\">0</span> │\n",
       "├───────────────────────────────────────────────┼────────────────────────────────────────┼─────────────────┤\n",
       "│ segment_ids (<span style=\"color: #0087ff; text-decoration-color: #0087ff\">InputLayer</span>)                      │ (<span style=\"color: #00d7ff; text-decoration-color: #00d7ff\">None</span>, <span style=\"color: #00d7ff; text-decoration-color: #00d7ff\">None</span>)                           │               <span style=\"color: #00af00; text-decoration-color: #00af00\">0</span> │\n",
       "├───────────────────────────────────────────────┼────────────────────────────────────────┼─────────────────┤\n",
       "│ token_ids (<span style=\"color: #0087ff; text-decoration-color: #0087ff\">InputLayer</span>)                        │ (<span style=\"color: #00d7ff; text-decoration-color: #00d7ff\">None</span>, <span style=\"color: #00d7ff; text-decoration-color: #00d7ff\">None</span>)                           │               <span style=\"color: #00af00; text-decoration-color: #00af00\">0</span> │\n",
       "├───────────────────────────────────────────────┼────────────────────────────────────────┼─────────────────┤\n",
       "│ bert_backbone (<span style=\"color: #0087ff; text-decoration-color: #0087ff\">BertBackbone</span>)                  │ {sequence_output: (<span style=\"color: #00d7ff; text-decoration-color: #00d7ff\">None</span>, <span style=\"color: #00d7ff; text-decoration-color: #00d7ff\">None</span>, <span style=\"color: #00af00; text-decoration-color: #00af00\">512</span>),   │      <span style=\"color: #00af00; text-decoration-color: #00af00\">28,763,648</span> │\n",
       "│                                               │ pooled_output: (<span style=\"color: #00d7ff; text-decoration-color: #00d7ff\">None</span>, <span style=\"color: #00af00; text-decoration-color: #00af00\">512</span>)}            │                 │\n",
       "├───────────────────────────────────────────────┼────────────────────────────────────────┼─────────────────┤\n",
       "│ dropout (<span style=\"color: #0087ff; text-decoration-color: #0087ff\">Dropout</span>)                             │ (<span style=\"color: #00d7ff; text-decoration-color: #00d7ff\">None</span>, <span style=\"color: #00af00; text-decoration-color: #00af00\">512</span>)                            │               <span style=\"color: #00af00; text-decoration-color: #00af00\">0</span> │\n",
       "├───────────────────────────────────────────────┼────────────────────────────────────────┼─────────────────┤\n",
       "│ logits (<span style=\"color: #0087ff; text-decoration-color: #0087ff\">Dense</span>)                                │ (<span style=\"color: #00d7ff; text-decoration-color: #00d7ff\">None</span>, <span style=\"color: #00af00; text-decoration-color: #00af00\">2</span>)                              │           <span style=\"color: #00af00; text-decoration-color: #00af00\">1,026</span> │\n",
       "└───────────────────────────────────────────────┴────────────────────────────────────────┴─────────────────┘\n",
       "</pre>\n"
      ],
      "text/plain": [
       "┏━━━━━━━━━━━━━━━━━━━━━━━━━━━━━━━━━━━━━━━━━━━━━━━┳━━━━━━━━━━━━━━━━━━━━━━━━━━━━━━━━━━━━━━━━┳━━━━━━━━━━━━━━━━━┓\n",
       "┃\u001b[1m \u001b[0m\u001b[1mLayer (type)                                 \u001b[0m\u001b[1m \u001b[0m┃\u001b[1m \u001b[0m\u001b[1mOutput Shape                          \u001b[0m\u001b[1m \u001b[0m┃\u001b[1m \u001b[0m\u001b[1m        Param #\u001b[0m\u001b[1m \u001b[0m┃\n",
       "┡━━━━━━━━━━━━━━━━━━━━━━━━━━━━━━━━━━━━━━━━━━━━━━━╇━━━━━━━━━━━━━━━━━━━━━━━━━━━━━━━━━━━━━━━━╇━━━━━━━━━━━━━━━━━┩\n",
       "│ padding_mask (\u001b[38;5;33mInputLayer\u001b[0m)                     │ (\u001b[38;5;45mNone\u001b[0m, \u001b[38;5;45mNone\u001b[0m)                           │               \u001b[38;5;34m0\u001b[0m │\n",
       "├───────────────────────────────────────────────┼────────────────────────────────────────┼─────────────────┤\n",
       "│ segment_ids (\u001b[38;5;33mInputLayer\u001b[0m)                      │ (\u001b[38;5;45mNone\u001b[0m, \u001b[38;5;45mNone\u001b[0m)                           │               \u001b[38;5;34m0\u001b[0m │\n",
       "├───────────────────────────────────────────────┼────────────────────────────────────────┼─────────────────┤\n",
       "│ token_ids (\u001b[38;5;33mInputLayer\u001b[0m)                        │ (\u001b[38;5;45mNone\u001b[0m, \u001b[38;5;45mNone\u001b[0m)                           │               \u001b[38;5;34m0\u001b[0m │\n",
       "├───────────────────────────────────────────────┼────────────────────────────────────────┼─────────────────┤\n",
       "│ bert_backbone (\u001b[38;5;33mBertBackbone\u001b[0m)                  │ {sequence_output: (\u001b[38;5;45mNone\u001b[0m, \u001b[38;5;45mNone\u001b[0m, \u001b[38;5;34m512\u001b[0m),   │      \u001b[38;5;34m28,763,648\u001b[0m │\n",
       "│                                               │ pooled_output: (\u001b[38;5;45mNone\u001b[0m, \u001b[38;5;34m512\u001b[0m)}            │                 │\n",
       "├───────────────────────────────────────────────┼────────────────────────────────────────┼─────────────────┤\n",
       "│ dropout (\u001b[38;5;33mDropout\u001b[0m)                             │ (\u001b[38;5;45mNone\u001b[0m, \u001b[38;5;34m512\u001b[0m)                            │               \u001b[38;5;34m0\u001b[0m │\n",
       "├───────────────────────────────────────────────┼────────────────────────────────────────┼─────────────────┤\n",
       "│ logits (\u001b[38;5;33mDense\u001b[0m)                                │ (\u001b[38;5;45mNone\u001b[0m, \u001b[38;5;34m2\u001b[0m)                              │           \u001b[38;5;34m1,026\u001b[0m │\n",
       "└───────────────────────────────────────────────┴────────────────────────────────────────┴─────────────────┘\n"
      ]
     },
     "metadata": {},
     "output_type": "display_data"
    },
    {
     "data": {
      "text/html": [
       "<pre style=\"white-space:pre;overflow-x:auto;line-height:normal;font-family:Menlo,'DejaVu Sans Mono',consolas,'Courier New',monospace\"><span style=\"font-weight: bold\"> Total params: </span><span style=\"color: #00af00; text-decoration-color: #00af00\">28,764,674</span> (109.73 MB)\n",
       "</pre>\n"
      ],
      "text/plain": [
       "\u001b[1m Total params: \u001b[0m\u001b[38;5;34m28,764,674\u001b[0m (109.73 MB)\n"
      ]
     },
     "metadata": {},
     "output_type": "display_data"
    },
    {
     "data": {
      "text/html": [
       "<pre style=\"white-space:pre;overflow-x:auto;line-height:normal;font-family:Menlo,'DejaVu Sans Mono',consolas,'Courier New',monospace\"><span style=\"font-weight: bold\"> Trainable params: </span><span style=\"color: #00af00; text-decoration-color: #00af00\">28,764,674</span> (109.73 MB)\n",
       "</pre>\n"
      ],
      "text/plain": [
       "\u001b[1m Trainable params: \u001b[0m\u001b[38;5;34m28,764,674\u001b[0m (109.73 MB)\n"
      ]
     },
     "metadata": {},
     "output_type": "display_data"
    },
    {
     "data": {
      "text/html": [
       "<pre style=\"white-space:pre;overflow-x:auto;line-height:normal;font-family:Menlo,'DejaVu Sans Mono',consolas,'Courier New',monospace\"><span style=\"font-weight: bold\"> Non-trainable params: </span><span style=\"color: #00af00; text-decoration-color: #00af00\">0</span> (0.00 B)\n",
       "</pre>\n"
      ],
      "text/plain": [
       "\u001b[1m Non-trainable params: \u001b[0m\u001b[38;5;34m0\u001b[0m (0.00 B)\n"
      ]
     },
     "metadata": {},
     "output_type": "display_data"
    }
   ],
   "source": [
    "bert_small.summary()"
   ]
  },
  {
   "cell_type": "code",
   "execution_count": 20,
   "metadata": {},
   "outputs": [
    {
     "name": "stdout",
     "output_type": "stream",
     "text": [
      "Layer: token_ids\n",
      "  Trainable parameters: 0.0\n",
      "  Non-trainable parameters: 0.0\n",
      "Layer: token_embedding\n",
      "  Trainable parameters: 15627264\n",
      "  Non-trainable parameters: 0.0\n",
      "Layer: segment_ids\n",
      "  Trainable parameters: 0.0\n",
      "  Non-trainable parameters: 0.0\n",
      "Layer: position_embedding\n",
      "  Trainable parameters: 262144\n",
      "  Non-trainable parameters: 0.0\n",
      "Layer: segment_embedding\n",
      "  Trainable parameters: 1024\n",
      "  Non-trainable parameters: 0.0\n",
      "Layer: add\n",
      "  Trainable parameters: 0.0\n",
      "  Non-trainable parameters: 0.0\n",
      "Layer: embeddings_layer_norm\n",
      "  Trainable parameters: 1024\n",
      "  Non-trainable parameters: 0.0\n",
      "Layer: embeddings_dropout\n",
      "  Trainable parameters: 0.0\n",
      "  Non-trainable parameters: 0.0\n",
      "Layer: padding_mask\n",
      "  Trainable parameters: 0.0\n",
      "  Non-trainable parameters: 0.0\n",
      "Layer: transformer_layer_0\n",
      "  Trainable parameters: 3152384\n",
      "  Non-trainable parameters: 0.0\n",
      "Layer: transformer_layer_1\n",
      "  Trainable parameters: 3152384\n",
      "  Non-trainable parameters: 0.0\n",
      "Layer: transformer_layer_2\n",
      "  Trainable parameters: 3152384\n",
      "  Non-trainable parameters: 0.0\n",
      "Layer: transformer_layer_3\n",
      "  Trainable parameters: 3152384\n",
      "  Non-trainable parameters: 0.0\n",
      "Layer: pooled_dense\n",
      "  Trainable parameters: 262656\n",
      "  Non-trainable parameters: 0.0\n",
      "Layer: tf.__operators__.getitem\n",
      "  Trainable parameters: 0.0\n",
      "  Non-trainable parameters: 0.0\n"
     ]
    }
   ],
   "source": [
    "bert_backbone = bert_small.get_layer('bert_backbone')\n",
    "\n",
    "# 모델의 각 레이어를 순회하며 파라미터 수를 계산\n",
    "for layer in bert_backbone.layers:\n",
    "    trainable_count = np.sum([tf.size(w).numpy() for w in layer.trainable_weights])\n",
    "    non_trainable_count = np.sum([tf.size(w).numpy() for w in layer.non_trainable_weights])\n",
    "\n",
    "    print(f\"Layer: {layer.name}\")\n",
    "    print(f\"  Trainable parameters: {trainable_count}\")\n",
    "    print(f\"  Non-trainable parameters: {non_trainable_count}\")"
   ]
  },
  {
   "cell_type": "code",
   "execution_count": 25,
   "metadata": {},
   "outputs": [
    {
     "name": "stdout",
     "output_type": "stream",
     "text": [
      "Epoch 1/10\n"
     ]
    },
    {
     "name": "stderr",
     "output_type": "stream",
     "text": [
      "2023-11-25 04:47:11.769254: I tensorflow/compiler/xla/service/service.cc:168] XLA service 0x7efcf0003960 initialized for platform CUDA (this does not guarantee that XLA will be used). Devices:\n",
      "2023-11-25 04:47:11.769279: I tensorflow/compiler/xla/service/service.cc:176]   StreamExecutor device (0): NVIDIA RTX A4500, Compute Capability 8.6\n",
      "2023-11-25 04:47:11.912606: I tensorflow/compiler/mlir/tensorflow/utils/dump_mlir_util.cc:269] disabling MLIR crash reproducer, set env var `MLIR_CRASH_REPRODUCER_DIRECTORY` to enable.\n",
      "2023-11-25 04:47:12.099164: W tensorflow/compiler/tf2xla/kernels/random_ops.cc:59] Warning: Using tf.random.uniform with XLA compilation will ignore seeds; consider using tf.random.stateless_uniform instead if reproducible behavior is desired. bert_classifier_1/bert_backbone_1/embeddings_dropout/dropout/random_uniform/RandomUniform\n",
      "2023-11-25 04:47:13.000039: I tensorflow/compiler/xla/stream_executor/cuda/cuda_dnn.cc:442] Loaded cuDNN version 8905\n",
      "2023-11-25 04:47:13.193997: I tensorflow/tsl/platform/default/subprocess.cc:304] Start cannot spawn child process: No such file or directory\n",
      "warning: Linking two modules of different target triples: 'LLVMDialectModule' is 'nvptx64-nvidia-gpulibs' whereas '' is 'nvptx64-nvidia-cuda'\n",
      "\n"
     ]
    },
    {
     "name": "stdout",
     "output_type": "stream",
     "text": [
      "  1/782 [..............................] - ETA: 2:07:27 - loss: 0.7134 - accuracy: 0.5938"
     ]
    },
    {
     "name": "stderr",
     "output_type": "stream",
     "text": [
      "2023-11-25 04:47:17.817161: I ./tensorflow/compiler/jit/device_compiler.h:186] Compiled cluster using XLA!  This line is logged at most once for the lifetime of the process.\n"
     ]
    },
    {
     "name": "stdout",
     "output_type": "stream",
     "text": [
      "781/782 [============================>.] - ETA: 0s - loss: 0.3367 - accuracy: 0.8529"
     ]
    },
    {
     "name": "stderr",
     "output_type": "stream",
     "text": [
      "warning: Linking two modules of different target triples: 'LLVMDialectModule' is 'nvptx64-nvidia-gpulibs' whereas '' is 'nvptx64-nvidia-cuda'\n",
      "\n"
     ]
    },
    {
     "name": "stdout",
     "output_type": "stream",
     "text": [
      "782/782 [==============================] - ETA: 0s - loss: 0.3366 - accuracy: 0.8530"
     ]
    },
    {
     "name": "stderr",
     "output_type": "stream",
     "text": [
      "warning: Linking two modules of different target triples: 'LLVMDialectModule' is 'nvptx64-nvidia-gpulibs' whereas '' is 'nvptx64-nvidia-cuda'\n",
      "\n",
      "warning: Linking two modules of different target triples: 'LLVMDialectModule' is 'nvptx64-nvidia-gpulibs' whereas '' is 'nvptx64-nvidia-cuda'\n",
      "\n"
     ]
    },
    {
     "name": "stdout",
     "output_type": "stream",
     "text": [
      "\n",
      "Epoch 1: val_loss improved from inf to 0.27475, saving model to ./model/bert-small-IMDB-original-model\n",
      "INFO:tensorflow:Assets written to: ./model/bert-small-IMDB-original-model/assets\n"
     ]
    },
    {
     "name": "stderr",
     "output_type": "stream",
     "text": [
      "INFO:tensorflow:Assets written to: ./model/bert-small-IMDB-original-model/assets\n"
     ]
    },
    {
     "name": "stdout",
     "output_type": "stream",
     "text": [
      "782/782 [==============================] - 141s 168ms/step - loss: 0.3366 - accuracy: 0.8530 - val_loss: 0.2747 - val_accuracy: 0.8906\n",
      "Epoch 2/10\n",
      "781/782 [============================>.] - ETA: 0s - loss: 0.1972 - accuracy: 0.9233\n",
      "Epoch 2: val_loss did not improve from 0.27475\n",
      "782/782 [==============================] - 123s 157ms/step - loss: 0.1971 - accuracy: 0.9234 - val_loss: 0.3017 - val_accuracy: 0.8916\n",
      "Epoch 3/10\n",
      "781/782 [============================>.] - ETA: 0s - loss: 0.1224 - accuracy: 0.9565\n",
      "Epoch 3: val_loss did not improve from 0.27475\n",
      "782/782 [==============================] - 123s 157ms/step - loss: 0.1224 - accuracy: 0.9565 - val_loss: 0.3301 - val_accuracy: 0.8865\n",
      "Epoch 4/10\n",
      "781/782 [============================>.] - ETA: 0s - loss: 0.0801 - accuracy: 0.9728Restoring model weights from the end of the best epoch: 1.\n",
      "\n",
      "Epoch 4: val_loss did not improve from 0.27475\n",
      "782/782 [==============================] - 123s 157ms/step - loss: 0.0801 - accuracy: 0.9728 - val_loss: 0.3888 - val_accuracy: 0.8925\n",
      "Epoch 4: early stopping\n"
     ]
    },
    {
     "data": {
      "image/png": "[encoded data removed]",
      "text/plain": [
       "<Figure size 1200x600 with 2 Axes>"
      ]
     },
     "metadata": {},
     "output_type": "display_data"
    }
   ],
   "source": [
    "from tensorflow.keras.callbacks import EarlyStopping, ModelCheckpoint\n",
    "\n",
    "# EarlyStopping 콜백 설정\n",
    "early_stopping = EarlyStopping(\n",
    "    monitor='val_loss',  # 검증 세트의 손실을 모니터링\n",
    "    patience=3,         # 3 에포크 동안 개선이 없으면 조기 중단\n",
    "    verbose=1,\n",
    "    restore_best_weights=True  # 가장 좋은 모델의 가중치를 복원\n",
    ")\n",
    "\n",
    "# ModelCheckpoint 콜백 설정\n",
    "model_checkpoint = ModelCheckpoint(\n",
    "    './model/bert-small-IMDB-original-model',   # 모델 파일 저장 경로\n",
    "    monitor='val_loss',  # 검증 세트의 손실을 모니터링\n",
    "    save_best_only=True,  # 가장 좋은 모델만 저장\n",
    "    verbose=1\n",
    ")\n",
    "\n",
    "# 모델 훈련\n",
    "history = bert_small.fit(\n",
    "    train_cached, \n",
    "    validation_data=test_cached, \n",
    "    epochs=10,\n",
    "    callbacks=[early_stopping, model_checkpoint]  # 콜백 추가\n",
    ")\n",
    "\n",
    "# 훈련 과정 시각화\n",
    "plot_training_history(history)\n"
   ]
  },
  {
   "cell_type": "code",
   "execution_count": 19,
   "metadata": {},
   "outputs": [],
   "source": [
    "model_original = tf.keras.models.load_model(\"./model/bert-small-IMDB-original-model\")"
   ]
  },
  {
   "cell_type": "code",
   "execution_count": null,
   "metadata": {},
   "outputs": [
    {
     "name": "stderr",
     "output_type": "stream",
     "text": [
      "2023-11-30 03:12:49.511993: I tensorflow/tsl/platform/default/subprocess.cc:304] Start cannot spawn child process: No such file or directory\n"
     ]
    },
    {
     "name": "stdout",
     "output_type": "stream",
     "text": [
      "301/782 [==========>...................] - ETA: 1:09 - loss: 0.2725 - accuracy: 0.8886"
     ]
    }
   ],
   "source": [
    "model_original.evaluate(test_cached)"
   ]
  },
  {
   "cell_type": "markdown",
   "metadata": {
    "id": "eSFjRv2j9Y2s"
   },
   "source": [
    "# With LoRA Bert small"
   ]
  },
  {
   "cell_type": "markdown",
   "metadata": {
    "jp-MarkdownHeadingCollapsed": true
   },
   "source": [
    "## Load Original Model (W) , Ensuring Weight Frozen"
   ]
  },
  {
   "cell_type": "code",
   "execution_count": 10,
   "metadata": {},
   "outputs": [],
   "source": [
    "model_original = tf.keras.models.load_model(\"./model/bert-small-IMDB-original-model\")"
   ]
  },
  {
   "cell_type": "markdown",
   "metadata": {},
   "source": [
    "## Only With Weight Decay Method"
   ]
  },
  {
   "cell_type": "markdown",
   "metadata": {
    "id": "vsnKYoq69kqA"
   },
   "source": [
    "### Define Dense LoRa and Einsum LoRa Class, (Only with Weight Decay Method0  "
   ]
  },
  {
   "cell_type": "code",
   "execution_count": 17,
   "metadata": {},
   "outputs": [],
   "source": [
    "import math \n",
    "\n",
    "class DenseLoraLayer(keras.layers.Layer):\n",
    "    def __init__(\n",
    "        self,\n",
    "        original_layer,\n",
    "        total_iteration = 1000 ,  # Total number of iterations for the decay\n",
    "        start_percent=0.05,  # The percentage of total_iteration when decay starts\n",
    "        end_percent=0.85,  # The percentage of total_iteration when decay ends\n",
    "        min_decay_factor=0,  # The minimum value that decay factor can take\n",
    "        rank=64,\n",
    "        alpha=32,\n",
    "        trainable=True,\n",
    "        **kwargs,\n",
    "    ):\n",
    "        original_layer_config = original_layer.get_config()\n",
    "        name = original_layer_config[\"name\"]\n",
    "        kwargs.pop(\"name\", None)\n",
    "\n",
    "        super().__init__(name=name, trainable=trainable, **kwargs)\n",
    "\n",
    "        self.rank = rank\n",
    "        self.alpha = alpha\n",
    "        self._scale = alpha / rank\n",
    "\n",
    "        self.original_layer = original_layer\n",
    "        self.original_layer.trainable = False\n",
    "\n",
    "\n",
    "        self.total_iteration = total_iteration\n",
    "        self.start_step = int(total_iteration * start_percent)\n",
    "        self.end_step = int(total_iteration * end_percent)\n",
    "        self.min_decay_factor = min_decay_factor\n",
    "\n",
    "        #trainable=False, 이 변수가 텐서플로우의 자동 미분 및 최적화 과정에 의해 업데이트되지 않는다는 뜻\n",
    "        #수동으로 업데이트될 수 있습니다. 예를 들어, 반복문 안에서 이 변수의 값을 업데이트하는 로직을 작성할 수 있음!\n",
    "        self.current_step = tf.Variable(0, dtype=tf.int32, trainable=False)\n",
    "        self.decay_factor = tf.Variable(1.0, dtype=tf.float32, trainable=False)\n",
    "    \n",
    "\n",
    "    def build(self, input_shape):\n",
    "        # LoRA weights.\n",
    "        kernel_shape = self.original_layer.kernel.shape\n",
    "        self.A_weight = self.add_weight(\n",
    "            name=\"lora_A_weight\",\n",
    "            shape=(self.rank, kernel_shape[0]),\n",
    "            initializer=keras.initializers.VarianceScaling(\n",
    "                scale=math.sqrt(5), mode=\"fan_in\", distribution=\"uniform\"\n",
    "            ),\n",
    "            trainable=self.trainable,\n",
    "        )\n",
    "\n",
    "        self.B_weight = self.add_weight(\n",
    "            name=\"lora_B_weight\",\n",
    "            shape=(self.original_layer.units, self.rank),\n",
    "            initializer='zeros',\n",
    "            trainable=self.trainable,\n",
    "        )\n",
    "        #self.C_weight = self.add_weight(\n",
    "        #    name=\"lora_C_weight\",\n",
    "        #    shape=(self.original_layer.units,),\n",
    "        #    initializer='zeros',\n",
    "        #    trainable=self.trainable,\n",
    "        #)\n",
    "        super().build(input_shape)\n",
    "\n",
    "    def call(self, inputs, training=None):\n",
    "            if training is None:\n",
    "                training = self.trainable\n",
    "\n",
    "            # Calculate the linear decay factor\n",
    "            if self.current_step < self.start_step:\n",
    "                self.decay_factor.assign(1.0)  # Decay has not started yet\n",
    "            elif self.current_step > self.end_step:\n",
    "                self.decay_factor.assign(tf.cast(self.min_decay_factor, dtype=tf.float32))  # Ensure float32 type for consistency\n",
    "            else:\n",
    "                # Linear decay between start_step and end_step\n",
    "                self.decay_factor.assign(1.0 - ((tf.cast(self.current_step, dtype=tf.float32) - self.start_step) /\n",
    "                                        (self.end_step - self.start_step) *\n",
    "                                        (1.0 - tf.cast(self.min_decay_factor, dtype=tf.float32))))\n",
    "\n",
    "            # Matrix multiplication for A and B weights with inputs\n",
    "            lora_A_output = tf.matmul(self.A_weight, tf.transpose(inputs))  # Ax\n",
    "            lora_output = tf.transpose(tf.matmul(self.B_weight, lora_A_output) * self._scale)  # BAx Transpose back to [batch_size, original_layer.units]\n",
    "            original_output = self.original_layer(inputs) * self.decay_factor\n",
    "\n",
    "            if training:\n",
    "                # Increment the step counter\n",
    "                self.current_step.assign_add(1)\n",
    "\n",
    "                return original_output + lora_output #  (1 - self.decay_factor) // 곱하기로도..\n",
    "\n",
    "            else:\n",
    "                # 추론 모드에서는 LoRA 출력만 반환\n",
    "                # Modify lora_output based on decay_factor\n",
    "                #if tf.not_equal(self.decay_factor, 1.0):\n",
    "                  #lora_output /= (1 - self.decay_factor) // 곱하기로도..\n",
    "                return lora_output "
   ]
  },
  {
   "cell_type": "code",
   "execution_count": 18,
   "metadata": {
    "id": "sXcS-pa29fW5"
   },
   "outputs": [],
   "source": [
    "# EinsumLoraLayer_O\n",
    "import math\n",
    "from tensorflow import keras\n",
    "\n",
    "class EinsumLoraLayer_O(keras.layers.Layer):\n",
    "    def __init__(\n",
    "        self,\n",
    "        original_layer,\n",
    "        total_iteration = 1000 ,  # Total number of iterations for the decay\n",
    "        start_percent=0.05,  # The percentage of total_iteration when decay starts\n",
    "        end_percent=0.85,  # The percentage of total_iteration when decay ends\n",
    "        min_decay_factor=0,  # The minimum value that decay factor can take\n",
    "        rank=64,\n",
    "        alpha=32,\n",
    "        trainable=True,\n",
    "        **kwargs,\n",
    "    ):\n",
    "        original_layer_config = original_layer.get_config()\n",
    "        name = original_layer_config[\"name\"]\n",
    "        kwargs.pop(\"name\", None)\n",
    "\n",
    "        super().__init__(name=name, trainable=trainable, **kwargs)\n",
    "\n",
    "        self.rank = rank\n",
    "        self.alpha = alpha\n",
    "        self._scale = alpha / rank\n",
    "\n",
    "        self.original_layer = original_layer\n",
    "        self.original_layer.trainable = False\n",
    "\n",
    "\n",
    "        self.total_iteration = total_iteration\n",
    "        self.start_step = int(total_iteration * start_percent)\n",
    "        self.end_step = int(total_iteration * end_percent)\n",
    "        self.min_decay_factor = min_decay_factor\n",
    "\n",
    "        #trainable=False, 이 변수가 텐서플로우의 자동 미분 및 최적화 과정에 의해 업데이트되지 않는다는 뜻\n",
    "        #수동으로 업데이트될 수 있습니다. 예를 들어, 반복문 안에서 이 변수의 값을 업데이트하는 로직을 작성할 수 있음!\n",
    "        self.current_step = tf.Variable(0, dtype=tf.int32, trainable=False)\n",
    "        self.decay_factor = tf.Variable(1.0, dtype=tf.float32, trainable=False)\n",
    "\n",
    "\n",
    "    def build(self, inputs_shape):\n",
    "\n",
    "        kernel_shape = self.original_layer.kernel.shape\n",
    "        bias_shape = self.original_layer.bias.shape\n",
    "        self.A_weight = self.add_weight(\n",
    "            name=\"lora_A_weight\",\n",
    "            shape= kernel_shape[:-1] + (self.rank,),\n",
    "            initializer=keras.initializers.VarianceScaling(\n",
    "                scale=math.sqrt(5), mode=\"fan_in\", distribution=\"uniform\"\n",
    "            ),\n",
    "            trainable=self.trainable,\n",
    "        )\n",
    "        \n",
    "        self.B_weight = self.add_weight(\n",
    "            name=\"lora_B_weight\",\n",
    "            shape=(self.rank, kernel_shape[-1]) ,\n",
    "            initializer=\"zeros\",\n",
    "            trainable=self.trainable,\n",
    "        )\n",
    "        #self.C_weight = self.add_weight(\n",
    "        #    name=\"lora_C_weight\",\n",
    "        #    shape= bias_shape ,\n",
    "        #    initializer='zeros',\n",
    "        #    trainable=self.trainable,\n",
    "        #)\n",
    "        super().build(inputs_shape)  \n",
    "\n",
    "\n",
    "\n",
    "    def call(self, inputs, training=None):\n",
    "            if training is None:\n",
    "                training = self.trainable\n",
    "\n",
    "            # Calculate the linear decay factor\n",
    "            if self.current_step < self.start_step:\n",
    "                self.decay_factor.assign(1.0)  # Decay has not started yet\n",
    "            elif self.current_step > self.end_step:\n",
    "                self.decay_factor.assign(tf.cast(self.min_decay_factor, dtype=tf.float32))  # Ensure float32 type for consistency\n",
    "            else:\n",
    "                # Linear decay between start_step and end_step\n",
    "                self.decay_factor.assign(1.0 - ((tf.cast(self.current_step, dtype=tf.float32) - self.start_step) /\n",
    "                                        (self.end_step - self.start_step) *\n",
    "                                        (1.0 - tf.cast(self.min_decay_factor, dtype=tf.float32))))\n",
    "\n",
    "            # Matrix multiplication for A and B weights with inputs\n",
    "            lora_A_output = tf.einsum(self.original_layer.equation, inputs , self.A_weight)\n",
    "            lora_output = tf.matmul(lora_A_output, self.B_weight) * self._scale \n",
    "            original_output = self.original_layer(inputs) * self.decay_factor\n",
    "\n",
    "            if training:\n",
    "                # Increment the step counter\n",
    "                self.current_step.assign_add(1)\n",
    "\n",
    "                return original_output + lora_output  #  (1 - self.decay_factor) // 곱하기로도..\n",
    "\n",
    "            else:\n",
    "                # 추론 모드에서는 LoRA 출력만 반환\n",
    "                # Modify lora_output based on decay_factor\n",
    "                #if tf.not_equal(self.decay_factor, 1.0):\n",
    "                  #lora_output /= (1 - self.decay_factor) // 곱하기로도..\n",
    "                return lora_output \n"
   ]
  },
  {
   "cell_type": "code",
   "execution_count": 19,
   "metadata": {},
   "outputs": [],
   "source": [
    "#EinsumLoraLayer_QKV\n",
    "import math\n",
    "from tensorflow import keras\n",
    "\n",
    "class EinsumLoraLayer_QKV(keras.layers.Layer):\n",
    "    def __init__(\n",
    "        self,\n",
    "        original_layer,\n",
    "        total_iteration = 1000 ,  # Total number of iterations for the decay\n",
    "        start_percent=0.05,  # The percentage of total_iteration when decay starts\n",
    "        end_percent=0.85,  # The percentage of total_iteration when decay ends\n",
    "        min_decay_factor=0,  # The minimum value that decay factor can take\n",
    "        rank=64,\n",
    "        alpha=32,\n",
    "        trainable=True,\n",
    "        **kwargs,\n",
    "    ):\n",
    "        original_layer_config = original_layer.get_config()\n",
    "        name = original_layer_config[\"name\"]\n",
    "        kwargs.pop(\"name\", None)\n",
    "\n",
    "        super().__init__(name=name, trainable=trainable, **kwargs)\n",
    "\n",
    "        self.rank = rank\n",
    "        self.alpha = alpha\n",
    "        self._scale = alpha / rank\n",
    "\n",
    "        self.original_layer = original_layer\n",
    "        self.original_layer.trainable = False\n",
    "\n",
    "\n",
    "        self.total_iteration = total_iteration\n",
    "        self.start_step = int(total_iteration * start_percent)\n",
    "        self.end_step = int(total_iteration * end_percent)\n",
    "        self.min_decay_factor = min_decay_factor\n",
    "\n",
    "        #trainable=False, 이 변수가 텐서플로우의 자동 미분 및 최적화 과정에 의해 업데이트되지 않는다는 뜻\n",
    "        #수동으로 업데이트될 수 있습니다. 예를 들어, 반복문 안에서 이 변수의 값을 업데이트하는 로직을 작성할 수 있음!\n",
    "        self.current_step = tf.Variable(0, dtype=tf.int32, trainable=False)\n",
    "        self.decay_factor = tf.Variable(1.0, dtype=tf.float32, trainable=False)\n",
    "\n",
    "\n",
    "    def build(self, inputs_shape):\n",
    "\n",
    "        kernel_shape = self.original_layer.kernel.shape\n",
    "        bias_shape = self.original_layer.bias.shape\n",
    "        self.A_weight = self.add_weight(\n",
    "            name=\"lora_A_weight\",\n",
    "            shape=(self.rank, kernel_shape[0]),\n",
    "            initializer=keras.initializers.VarianceScaling(\n",
    "                scale=math.sqrt(5), mode=\"fan_in\", distribution=\"uniform\"\n",
    "            ),\n",
    "            trainable=self.trainable,\n",
    "        )\n",
    "        \n",
    "        self.B_weight = self.add_weight(\n",
    "            name=\"lora_B_weight\",\n",
    "            shape=(self.rank,) + kernel_shape[1:],\n",
    "            initializer=\"zeros\",\n",
    "            trainable=self.trainable,\n",
    "        )\n",
    "        #self.C_weight = self.add_weight(\n",
    "        #    name=\"lora_C_weight\",\n",
    "        #    shape= bias_shape ,\n",
    "        #    initializer='zeros',\n",
    "        #    trainable=self.trainable,\n",
    "        #)\n",
    "        super().build(inputs_shape)  \n",
    "\n",
    "\n",
    "\n",
    "    def call(self, inputs, training=None):\n",
    "            if training is None:\n",
    "                training = self.trainable\n",
    "\n",
    "            # Calculate the linear decay factor\n",
    "            if self.current_step < self.start_step:\n",
    "                self.decay_factor.assign(1.0)  # Decay has not started yet\n",
    "            elif self.current_step > self.end_step:\n",
    "                self.decay_factor.assign(tf.cast(self.min_decay_factor, dtype=tf.float32))  # Ensure float32 type for consistency\n",
    "            else:\n",
    "                # Linear decay between start_step and end_step\n",
    "                self.decay_factor.assign(1.0 - ((tf.cast(self.current_step, dtype=tf.float32) - self.start_step) /\n",
    "                                        (self.end_step - self.start_step) *\n",
    "                                        (1.0 - tf.cast(self.min_decay_factor, dtype=tf.float32))))\n",
    "\n",
    "            # Matrix multiplication for A and B weights with inputs\n",
    "            lora_A_output = tf.matmul(inputs, tf.transpose(self.A_weight)) #xA\n",
    "            lora_output = tf.einsum(self.original_layer.equation, lora_A_output , self.B_weight) * self._scale  # BAx Transpose back to [batch_size, original_layer.units]\n",
    "            original_output = self.original_layer(inputs) * self.decay_factor\n",
    "\n",
    "            if training:\n",
    "                # Increment the step counter\n",
    "                self.current_step.assign_add(1)\n",
    "\n",
    "                return original_output + lora_output  #  (1 - self.decay_factor) // 곱하기로도..\n",
    "\n",
    "            else:\n",
    "                # 추론 모드에서는 LoRA 출력만 반환\n",
    "                # Modify lora_output based on decay_factor\n",
    "                #if tf.not_equal(self.decay_factor, 1.0):\n",
    "                  #lora_output /= (1 - self.decay_factor) // 곱하기로도..\n",
    "                return lora_output \n"
   ]
  },
  {
   "cell_type": "markdown",
   "metadata": {},
   "source": [
    "### Creating LoRA Bert  Epoch 10, batch size = 32\n"
   ]
  },
  {
   "cell_type": "code",
   "execution_count": 20,
   "metadata": {},
   "outputs": [],
   "source": [
    "epochs = 10\n",
    "batch_size = 32\n",
    "total_iteration= int(epochs * (dataset_size / batch_size))  # Total number of iterations for the decay"
   ]
  },
  {
   "cell_type": "code",
   "execution_count": 21,
   "metadata": {},
   "outputs": [],
   "source": [
    "# 원본 모델 우선 가져오기 \n",
    "lora_bert_0 = tf.keras.models.load_model(\"./model/bert-small-IMDB-original-model\")\n",
    "lora_bert_backbone = lora_bert_0.get_layer('bert_backbone_1')"
   ]
  },
  {
   "cell_type": "code",
   "execution_count": 22,
   "metadata": {},
   "outputs": [],
   "source": [
    "def replace_transformerblocks_with_lora(bert_backbone, layer_name, total_iteration, rank=32, alpha=32, input_shape = (None, 256, 128)):\n",
    "    # Access the specific transformer layer within the bert_backbone\n",
    "    transformer_layer = bert_backbone.get_layer(layer_name)\n",
    "\n",
    "\n",
    "    # Replace feedforward_intermediate_dense, feedforward_output_dense \n",
    "    #transformer_layer._feedforward_intermediate_dense = DenseLoraLayer(\n",
    "    #    original_layer=transformer_layer._feedforward_intermediate_dense,\n",
    "    #    rank=rank,\n",
    "    #    alpha=alpha,\n",
    "    #    total_iteration=total_iteration,\n",
    "    #    trainable=True\n",
    "    #)\n",
    "\n",
    "    #transformer_layer._feedforward_output_dense = DenseLoraLayer(\n",
    "    #    original_layer=transformer_layer._feedforward_output_dense,\n",
    "    #    rank=rank,\n",
    "    #    alpha=alpha,\n",
    "    #    total_iteration=total_iteration,\n",
    "    #    trainable=True\n",
    "    #)\n",
    "\n",
    "    # Replace query, key, value, and output dense layers with LoRA layers\n",
    "    self_attention_layer = transformer_layer._self_attention_layer\n",
    "\n",
    "    self_attention_layer._output_dense = EinsumLoraLayer_O(\n",
    "        original_layer=self_attention_layer._output_dense,\n",
    "        rank=rank,\n",
    "        alpha=alpha,\n",
    "        total_iteration=total_iteration,\n",
    "        trainable=True\n",
    "    )\n",
    "    self_attention_layer._query_dense = EinsumLoraLayer_QKV(\n",
    "        original_layer=self_attention_layer._query_dense,\n",
    "        rank=rank,\n",
    "        alpha=alpha,\n",
    "        total_iteration=total_iteration,\n",
    "        trainable=True\n",
    "    )\n",
    "    self_attention_layer._value_dense = EinsumLoraLayer_QKV(\n",
    "        original_layer=self_attention_layer._value_dense,\n",
    "        rank=rank,\n",
    "        alpha=alpha,\n",
    "        total_iteration=total_iteration,\n",
    "        trainable=True\n",
    "    )\n",
    "    self_attention_layer._key_dense = EinsumLoraLayer_QKV(\n",
    "        original_layer=self_attention_layer._key_dense,\n",
    "        rank=rank,\n",
    "        alpha=alpha,\n",
    "        total_iteration=total_iteration,\n",
    "        trainable=True\n",
    "    )\n",
    "\n",
    "    # Build the modified layers\n",
    "    #transformer_layer._feedforward_intermediate_dense.build(input_shape)\n",
    "    #transformer_layer._feedforward_output_dense.build(input_shape)\n",
    "    #문제해결 전까지 FREEZE\n",
    "    transformer_layer._feedforward_intermediate_dense.trainable = False \n",
    "    transformer_layer._feedforward_output_dense.trainable = False\n",
    "\n",
    "    self_attention_layer._output_dense.build(input_shape)\n",
    "    self_attention_layer._query_dense.build(input_shape)\n",
    "    self_attention_layer._key_dense.build(input_shape)\n",
    "    self_attention_layer._value_dense.build(input_shape)\n",
    "\n",
    "\n",
    "\n"
   ]
  },
  {
   "cell_type": "code",
   "execution_count": 23,
   "metadata": {},
   "outputs": [],
   "source": [
    "\n",
    "\n",
    "# Apply LoRA to pooled_dense layer\n",
    "#pooled_dense_layer = lora_bert_backbone.get_layer('pooled_dense')\n",
    "#pooled_dense_layer = DenseLoraLayer(\n",
    "#    original_layer=lora_bert_backbone.get_layer('pooled_dense'),\n",
    "#    rank=32,\n",
    "#    alpha=32,\n",
    "#    total_iteration=total_iteration,\n",
    "#    trainable=True\n",
    "#)\n",
    "#pooled_dense_layer.build((None, 256, 128))\n",
    "\n",
    "pooled_dense_layer = lora_bert_backbone.get_layer('pooled_dense')\n",
    "pooled_dense_layer.trainable = False \n",
    "\n",
    "\n",
    "\n"
   ]
  },
  {
   "cell_type": "code",
   "execution_count": 24,
   "metadata": {},
   "outputs": [],
   "source": [
    "\n",
    "# Apply LoRA Layers to Transformer Encoders and Freeze Layer Norm layer in Transformer Encoder \n",
    "\n",
    "num_transformer_layers = 4\n",
    "for i in range(num_transformer_layers):\n",
    "    layer_name = f\"transformer_layer_{i}\"\n",
    "    transformer_layer = lora_bert_backbone.get_layer(layer_name) # 해당 레이어를 가져옵니다.\n",
    "\n",
    "    # Set the self-attention layer normalization to be non-trainable\n",
    "    # transformer_layer._self_attention_layer_norm 레이어의 모든 가중치를 학습 불가능하게 설정\n",
    "    for weight in transformer_layer._self_attention_layer_norm.weights:\n",
    "        weight._trainable = False\n",
    "    for weight in transformer_layer._feedforward_layer_norm.weights:\n",
    "        weight._trainable = False\n",
    "\n",
    "\n",
    "    # LoRA 레이어 적용\n",
    "    replace_transformerblocks_with_lora(lora_bert_backbone, layer_name, total_iteration)\n"
   ]
  },
  {
   "cell_type": "code",
   "execution_count": 25,
   "metadata": {},
   "outputs": [],
   "source": [
    "# Freeze Logits \n",
    "logits = lora_bert_0.get_layer('logits')\n",
    "logits.trainable = False\n",
    "\n",
    "\n",
    "\n",
    "# Freeze Bert Backbone (Except Transformer Encdoer, PooledDense )\n",
    "token_embedding_layer = lora_bert_backbone.get_layer('token_embedding')\n",
    "position_embedding_layer = lora_bert_backbone.get_layer('position_embedding')\n",
    "segment_embedding_layer = lora_bert_backbone.get_layer('segment_embedding')\n",
    "embeddings_layer_norm_layer = lora_bert_backbone.get_layer('embeddings_layer_norm')\n",
    "\n",
    "token_embedding_layer.trainable = False\n",
    "position_embedding_layer.trainable = False\n",
    "segment_embedding_layer.trainable = False\n",
    "embeddings_layer_norm_layer.trainable = False\n"
   ]
  },
  {
   "cell_type": "code",
   "execution_count": 26,
   "metadata": {},
   "outputs": [
    {
     "name": "stdout",
     "output_type": "stream",
     "text": [
      "Layer: token_ids\n",
      "  Trainable parameters: 0.0\n",
      "  Non-trainable parameters: 0.0\n",
      "Layer: token_embedding\n",
      "  Trainable parameters: 0.0\n",
      "  Non-trainable parameters: 15627264\n",
      "Layer: segment_ids\n",
      "  Trainable parameters: 0.0\n",
      "  Non-trainable parameters: 0.0\n",
      "Layer: position_embedding\n",
      "  Trainable parameters: 0.0\n",
      "  Non-trainable parameters: 262144\n",
      "Layer: segment_embedding\n",
      "  Trainable parameters: 0.0\n",
      "  Non-trainable parameters: 1024\n",
      "Layer: add_1\n",
      "  Trainable parameters: 0.0\n",
      "  Non-trainable parameters: 0.0\n",
      "Layer: embeddings_layer_norm\n",
      "  Trainable parameters: 0.0\n",
      "  Non-trainable parameters: 1024\n",
      "Layer: embeddings_dropout\n",
      "  Trainable parameters: 0.0\n",
      "  Non-trainable parameters: 0.0\n",
      "Layer: padding_mask\n",
      "  Trainable parameters: 0.0\n",
      "  Non-trainable parameters: 0.0\n",
      "Layer: transformer_layer_0\n",
      "  Trainable parameters: 133120\n",
      "  Non-trainable parameters: 3150344\n",
      "Layer: transformer_layer_1\n",
      "  Trainable parameters: 133120\n",
      "  Non-trainable parameters: 3150344\n",
      "Layer: transformer_layer_2\n",
      "  Trainable parameters: 133120\n",
      "  Non-trainable parameters: 3150344\n",
      "Layer: transformer_layer_3\n",
      "  Trainable parameters: 133120\n",
      "  Non-trainable parameters: 3150344\n",
      "Layer: pooled_dense\n",
      "  Trainable parameters: 0.0\n",
      "  Non-trainable parameters: 262656\n",
      "Layer: tf.__operators__.getitem_1\n",
      "  Trainable parameters: 0.0\n",
      "  Non-trainable parameters: 0.0\n"
     ]
    }
   ],
   "source": [
    "import numpy as np\n",
    "import tensorflow as tf\n",
    "\n",
    "# 모델의 각 레이어를 순회하며 파라미터 수를 계산\n",
    "for layer in lora_bert_backbone.layers:\n",
    "    trainable_count = np.sum([tf.size(w).numpy() for w in layer.trainable_weights])\n",
    "    non_trainable_count = np.sum([tf.size(w).numpy() for w in layer.non_trainable_weights])\n",
    "\n",
    "    print(f\"Layer: {layer.name}\")\n",
    "    print(f\"  Trainable parameters: {trainable_count}\")\n",
    "    print(f\"  Non-trainable parameters: {non_trainable_count}\")\n"
   ]
  },
  {
   "cell_type": "code",
   "execution_count": 27,
   "metadata": {},
   "outputs": [
    {
     "data": {
      "text/html": [
       "<pre style=\"white-space:pre;overflow-x:auto;line-height:normal;font-family:Menlo,'DejaVu Sans Mono',consolas,'Courier New',monospace\"><span style=\"font-weight: bold\">Model: \"bert_classifier_1\"</span>\n",
       "</pre>\n"
      ],
      "text/plain": [
       "\u001b[1mModel: \"bert_classifier_1\"\u001b[0m\n"
      ]
     },
     "metadata": {},
     "output_type": "display_data"
    },
    {
     "data": {
      "text/html": [
       "<pre style=\"white-space:pre;overflow-x:auto;line-height:normal;font-family:Menlo,'DejaVu Sans Mono',consolas,'Courier New',monospace\">┏━━━━━━━━━━━━━━━━━━━━━━━━━━━━━━━━━━━━━━━━━━━━━━━┳━━━━━━━━━━━━━━━━━━━━━━━━━━━━━━━━━━━━━━━━┳━━━━━━━━━━━━━━━━━┓\n",
       "┃<span style=\"font-weight: bold\"> Layer (type)                                  </span>┃<span style=\"font-weight: bold\"> Output Shape                           </span>┃<span style=\"font-weight: bold\">         Param # </span>┃\n",
       "┡━━━━━━━━━━━━━━━━━━━━━━━━━━━━━━━━━━━━━━━━━━━━━━━╇━━━━━━━━━━━━━━━━━━━━━━━━━━━━━━━━━━━━━━━━╇━━━━━━━━━━━━━━━━━┩\n",
       "│ padding_mask (<span style=\"color: #0087ff; text-decoration-color: #0087ff\">InputLayer</span>)                     │ (<span style=\"color: #00d7ff; text-decoration-color: #00d7ff\">None</span>, <span style=\"color: #00d7ff; text-decoration-color: #00d7ff\">None</span>)                           │               <span style=\"color: #00af00; text-decoration-color: #00af00\">0</span> │\n",
       "├───────────────────────────────────────────────┼────────────────────────────────────────┼─────────────────┤\n",
       "│ segment_ids (<span style=\"color: #0087ff; text-decoration-color: #0087ff\">InputLayer</span>)                      │ (<span style=\"color: #00d7ff; text-decoration-color: #00d7ff\">None</span>, <span style=\"color: #00d7ff; text-decoration-color: #00d7ff\">None</span>)                           │               <span style=\"color: #00af00; text-decoration-color: #00af00\">0</span> │\n",
       "├───────────────────────────────────────────────┼────────────────────────────────────────┼─────────────────┤\n",
       "│ token_ids (<span style=\"color: #0087ff; text-decoration-color: #0087ff\">InputLayer</span>)                        │ (<span style=\"color: #00d7ff; text-decoration-color: #00d7ff\">None</span>, <span style=\"color: #00d7ff; text-decoration-color: #00d7ff\">None</span>)                           │               <span style=\"color: #00af00; text-decoration-color: #00af00\">0</span> │\n",
       "├───────────────────────────────────────────────┼────────────────────────────────────────┼─────────────────┤\n",
       "│ bert_backbone_1 (<span style=\"color: #0087ff; text-decoration-color: #0087ff\">BertBackbone</span>)                │ {sequence_output: (<span style=\"color: #00d7ff; text-decoration-color: #00d7ff\">None</span>, <span style=\"color: #00d7ff; text-decoration-color: #00d7ff\">None</span>, <span style=\"color: #00af00; text-decoration-color: #00af00\">512</span>),   │      <span style=\"color: #00af00; text-decoration-color: #00af00\">29,287,968</span> │\n",
       "│                                               │ pooled_output: (<span style=\"color: #00d7ff; text-decoration-color: #00d7ff\">None</span>, <span style=\"color: #00af00; text-decoration-color: #00af00\">512</span>)}            │                 │\n",
       "├───────────────────────────────────────────────┼────────────────────────────────────────┼─────────────────┤\n",
       "│ dropout_1 (<span style=\"color: #0087ff; text-decoration-color: #0087ff\">Dropout</span>)                           │ (<span style=\"color: #00d7ff; text-decoration-color: #00d7ff\">None</span>, <span style=\"color: #00af00; text-decoration-color: #00af00\">512</span>)                            │               <span style=\"color: #00af00; text-decoration-color: #00af00\">0</span> │\n",
       "├───────────────────────────────────────────────┼────────────────────────────────────────┼─────────────────┤\n",
       "│ logits (<span style=\"color: #0087ff; text-decoration-color: #0087ff\">Dense</span>)                                │ (<span style=\"color: #00d7ff; text-decoration-color: #00d7ff\">None</span>, <span style=\"color: #00af00; text-decoration-color: #00af00\">2</span>)                              │           <span style=\"color: #00af00; text-decoration-color: #00af00\">1,026</span> │\n",
       "└───────────────────────────────────────────────┴────────────────────────────────────────┴─────────────────┘\n",
       "</pre>\n"
      ],
      "text/plain": [
       "┏━━━━━━━━━━━━━━━━━━━━━━━━━━━━━━━━━━━━━━━━━━━━━━━┳━━━━━━━━━━━━━━━━━━━━━━━━━━━━━━━━━━━━━━━━┳━━━━━━━━━━━━━━━━━┓\n",
       "┃\u001b[1m \u001b[0m\u001b[1mLayer (type)                                 \u001b[0m\u001b[1m \u001b[0m┃\u001b[1m \u001b[0m\u001b[1mOutput Shape                          \u001b[0m\u001b[1m \u001b[0m┃\u001b[1m \u001b[0m\u001b[1m        Param #\u001b[0m\u001b[1m \u001b[0m┃\n",
       "┡━━━━━━━━━━━━━━━━━━━━━━━━━━━━━━━━━━━━━━━━━━━━━━━╇━━━━━━━━━━━━━━━━━━━━━━━━━━━━━━━━━━━━━━━━╇━━━━━━━━━━━━━━━━━┩\n",
       "│ padding_mask (\u001b[38;5;33mInputLayer\u001b[0m)                     │ (\u001b[38;5;45mNone\u001b[0m, \u001b[38;5;45mNone\u001b[0m)                           │               \u001b[38;5;34m0\u001b[0m │\n",
       "├───────────────────────────────────────────────┼────────────────────────────────────────┼─────────────────┤\n",
       "│ segment_ids (\u001b[38;5;33mInputLayer\u001b[0m)                      │ (\u001b[38;5;45mNone\u001b[0m, \u001b[38;5;45mNone\u001b[0m)                           │               \u001b[38;5;34m0\u001b[0m │\n",
       "├───────────────────────────────────────────────┼────────────────────────────────────────┼─────────────────┤\n",
       "│ token_ids (\u001b[38;5;33mInputLayer\u001b[0m)                        │ (\u001b[38;5;45mNone\u001b[0m, \u001b[38;5;45mNone\u001b[0m)                           │               \u001b[38;5;34m0\u001b[0m │\n",
       "├───────────────────────────────────────────────┼────────────────────────────────────────┼─────────────────┤\n",
       "│ bert_backbone_1 (\u001b[38;5;33mBertBackbone\u001b[0m)                │ {sequence_output: (\u001b[38;5;45mNone\u001b[0m, \u001b[38;5;45mNone\u001b[0m, \u001b[38;5;34m512\u001b[0m),   │      \u001b[38;5;34m29,287,968\u001b[0m │\n",
       "│                                               │ pooled_output: (\u001b[38;5;45mNone\u001b[0m, \u001b[38;5;34m512\u001b[0m)}            │                 │\n",
       "├───────────────────────────────────────────────┼────────────────────────────────────────┼─────────────────┤\n",
       "│ dropout_1 (\u001b[38;5;33mDropout\u001b[0m)                           │ (\u001b[38;5;45mNone\u001b[0m, \u001b[38;5;34m512\u001b[0m)                            │               \u001b[38;5;34m0\u001b[0m │\n",
       "├───────────────────────────────────────────────┼────────────────────────────────────────┼─────────────────┤\n",
       "│ logits (\u001b[38;5;33mDense\u001b[0m)                                │ (\u001b[38;5;45mNone\u001b[0m, \u001b[38;5;34m2\u001b[0m)                              │           \u001b[38;5;34m1,026\u001b[0m │\n",
       "└───────────────────────────────────────────────┴────────────────────────────────────────┴─────────────────┘\n"
      ]
     },
     "metadata": {},
     "output_type": "display_data"
    },
    {
     "data": {
      "text/html": [
       "<pre style=\"white-space:pre;overflow-x:auto;line-height:normal;font-family:Menlo,'DejaVu Sans Mono',consolas,'Courier New',monospace\"><span style=\"font-weight: bold\"> Total params: </span><span style=\"color: #00af00; text-decoration-color: #00af00\">29,288,994</span> (111.73 MB)\n",
       "</pre>\n"
      ],
      "text/plain": [
       "\u001b[1m Total params: \u001b[0m\u001b[38;5;34m29,288,994\u001b[0m (111.73 MB)\n"
      ]
     },
     "metadata": {},
     "output_type": "display_data"
    },
    {
     "data": {
      "text/html": [
       "<pre style=\"white-space:pre;overflow-x:auto;line-height:normal;font-family:Menlo,'DejaVu Sans Mono',consolas,'Courier New',monospace\"><span style=\"font-weight: bold\"> Trainable params: </span><span style=\"color: #00af00; text-decoration-color: #00af00\">532,480</span> (2.03 MB)\n",
       "</pre>\n"
      ],
      "text/plain": [
       "\u001b[1m Trainable params: \u001b[0m\u001b[38;5;34m532,480\u001b[0m (2.03 MB)\n"
      ]
     },
     "metadata": {},
     "output_type": "display_data"
    },
    {
     "data": {
      "text/html": [
       "<pre style=\"white-space:pre;overflow-x:auto;line-height:normal;font-family:Menlo,'DejaVu Sans Mono',consolas,'Courier New',monospace\"><span style=\"font-weight: bold\"> Non-trainable params: </span><span style=\"color: #00af00; text-decoration-color: #00af00\">28,756,514</span> (109.70 MB)\n",
       "</pre>\n"
      ],
      "text/plain": [
       "\u001b[1m Non-trainable params: \u001b[0m\u001b[38;5;34m28,756,514\u001b[0m (109.70 MB)\n"
      ]
     },
     "metadata": {},
     "output_type": "display_data"
    }
   ],
   "source": [
    "lora_bert_0.summary()"
   ]
  },
  {
   "cell_type": "code",
   "execution_count": 28,
   "metadata": {},
   "outputs": [],
   "source": [
    "model_name =  \"bert_small_en_uncased\"\n",
    "preprocessor = keras_nlp.models.BertPreprocessor.from_preset(\n",
    "    model_name,\n",
    "    sequence_length=256,\n",
    ")\n",
    "batch_size = 32\n",
    "train_cached = (\n",
    "    training_data\n",
    "    .map(preprocessor)  # Apply the preprocessor\n",
    "    .batch(batch_size)  # Batch the data\n",
    "    .cache()  # Cache the data\n",
    "    .prefetch(tf.data.experimental.AUTOTUNE)  # Prefetch for efficiency\n",
    ")\n",
    "test_cached = (\n",
    "    validation_data\n",
    "    .map(preprocessor)  # Apply the preprocessor\n",
    "    .batch(batch_size)  # Batch the data\n",
    "    .cache()  # Cache the data\n",
    "    .prefetch(tf.data.experimental.AUTOTUNE)  # Prefetch for efficiency\n",
    ")"
   ]
  },
  {
   "cell_type": "code",
   "execution_count": 29,
   "metadata": {},
   "outputs": [],
   "source": [
    "\n",
    "lora_bert_0.compile(\n",
    "    loss=keras.losses.BinaryCrossentropy(),\n",
    "    optimizer=keras.optimizers.Adam(learning_rate=5e-5),  \n",
    "    #jit_compile=True,\n",
    "    metrics=[\"accuracy\"],\n",
    ")"
   ]
  },
  {
   "cell_type": "code",
   "execution_count": 30,
   "metadata": {},
   "outputs": [
    {
     "name": "stdout",
     "output_type": "stream",
     "text": [
      "Epoch 1/10\n",
      "WARNING:tensorflow:Gradients do not exist for variables ['transformer_layer_0/gamma:0', 'transformer_layer_0/beta:0', 'transformer_layer_0/gamma:0', 'transformer_layer_0/beta:0', 'transformer_layer_1/gamma:0', 'transformer_layer_1/beta:0', 'transformer_layer_1/gamma:0', 'transformer_layer_1/beta:0', 'transformer_layer_2/gamma:0', 'transformer_layer_2/beta:0', 'transformer_layer_2/gamma:0', 'transformer_layer_2/beta:0', 'transformer_layer_3/gamma:0', 'transformer_layer_3/beta:0', 'transformer_layer_3/gamma:0', 'transformer_layer_3/beta:0'] when minimizing the loss. If you're using `model.compile()`, did you forget to provide a `loss` argument?\n",
      "WARNING:tensorflow:Gradients do not exist for variables ['transformer_layer_0/gamma:0', 'transformer_layer_0/beta:0', 'transformer_layer_0/gamma:0', 'transformer_layer_0/beta:0', 'transformer_layer_1/gamma:0', 'transformer_layer_1/beta:0', 'transformer_layer_1/gamma:0', 'transformer_layer_1/beta:0', 'transformer_layer_2/gamma:0', 'transformer_layer_2/beta:0', 'transformer_layer_2/gamma:0', 'transformer_layer_2/beta:0', 'transformer_layer_3/gamma:0', 'transformer_layer_3/beta:0', 'transformer_layer_3/gamma:0', 'transformer_layer_3/beta:0'] when minimizing the loss. If you're using `model.compile()`, did you forget to provide a `loss` argument?\n",
      "WARNING:tensorflow:Gradients do not exist for variables ['transformer_layer_0/gamma:0', 'transformer_layer_0/beta:0', 'transformer_layer_0/gamma:0', 'transformer_layer_0/beta:0', 'transformer_layer_1/gamma:0', 'transformer_layer_1/beta:0', 'transformer_layer_1/gamma:0', 'transformer_layer_1/beta:0', 'transformer_layer_2/gamma:0', 'transformer_layer_2/beta:0', 'transformer_layer_2/gamma:0', 'transformer_layer_2/beta:0', 'transformer_layer_3/gamma:0', 'transformer_layer_3/beta:0', 'transformer_layer_3/gamma:0', 'transformer_layer_3/beta:0'] when minimizing the loss. If you're using `model.compile()`, did you forget to provide a `loss` argument?\n",
      "WARNING:tensorflow:Gradients do not exist for variables ['transformer_layer_0/gamma:0', 'transformer_layer_0/beta:0', 'transformer_layer_0/gamma:0', 'transformer_layer_0/beta:0', 'transformer_layer_1/gamma:0', 'transformer_layer_1/beta:0', 'transformer_layer_1/gamma:0', 'transformer_layer_1/beta:0', 'transformer_layer_2/gamma:0', 'transformer_layer_2/beta:0', 'transformer_layer_2/gamma:0', 'transformer_layer_2/beta:0', 'transformer_layer_3/gamma:0', 'transformer_layer_3/beta:0', 'transformer_layer_3/gamma:0', 'transformer_layer_3/beta:0'] when minimizing the loss. If you're using `model.compile()`, did you forget to provide a `loss` argument?\n"
     ]
    },
    {
     "name": "stderr",
     "output_type": "stream",
     "text": [
      "2023-11-30 03:14:57.548426: I tensorflow/tsl/platform/default/subprocess.cc:304] Start cannot spawn child process: No such file or directory\n",
      "2023-11-30 03:15:00.595954: I tensorflow/compiler/xla/service/service.cc:168] XLA service 0x7f133446efc0 initialized for platform CUDA (this does not guarantee that XLA will be used). Devices:\n",
      "2023-11-30 03:15:00.596000: I tensorflow/compiler/xla/service/service.cc:176]   StreamExecutor device (0): NVIDIA RTX 4000 Ada Generation, Compute Capability 8.9\n",
      "2023-11-30 03:15:00.604568: I tensorflow/compiler/mlir/tensorflow/utils/dump_mlir_util.cc:269] disabling MLIR crash reproducer, set env var `MLIR_CRASH_REPRODUCER_DIRECTORY` to enable.\n",
      "2023-11-30 03:15:00.702372: I tensorflow/compiler/xla/stream_executor/cuda/cuda_dnn.cc:442] Loaded cuDNN version 8905\n",
      "2023-11-30 03:15:00.872263: I ./tensorflow/compiler/jit/device_compiler.h:186] Compiled cluster using XLA!  This line is logged at most once for the lifetime of the process.\n"
     ]
    },
    {
     "name": "stdout",
     "output_type": "stream",
     "text": [
      "782/782 [==============================] - 207s 244ms/step - loss: 0.1783 - accuracy: 0.9342 - val_loss: 0.6945 - val_accuracy: 0.5007\n",
      "Epoch 2/10\n",
      "782/782 [==============================] - 161s 207ms/step - loss: 0.1738 - accuracy: 0.9348 - val_loss: 0.6945 - val_accuracy: 0.5007\n",
      "Epoch 3/10\n",
      "782/782 [==============================] - 162s 207ms/step - loss: 0.1914 - accuracy: 0.9274 - val_loss: 0.6926 - val_accuracy: 0.5007\n",
      "Epoch 4/10\n",
      "782/782 [==============================] - 162s 207ms/step - loss: 0.2149 - accuracy: 0.9160 - val_loss: 0.6897 - val_accuracy: 0.5008\n",
      "Epoch 5/10\n",
      "782/782 [==============================] - 163s 208ms/step - loss: 0.2382 - accuracy: 0.9028 - val_loss: 0.6805 - val_accuracy: 0.5912\n",
      "Epoch 6/10\n",
      "782/782 [==============================] - 163s 208ms/step - loss: 0.2831 - accuracy: 0.8814 - val_loss: 0.5634 - val_accuracy: 0.7751\n",
      "Epoch 8/10\n",
      "782/782 [==============================] - 202s 258ms/step - loss: 0.3046 - accuracy: 0.8699 - val_loss: 0.3687 - val_accuracy: 0.8469\n",
      "Epoch 9/10\n",
      "782/782 [==============================] - 357s 456ms/step - loss: 0.3158 - accuracy: 0.8641 - val_loss: 0.3486 - val_accuracy: 0.8493\n",
      "Epoch 10/10\n",
      "782/782 [==============================] - 355s 455ms/step - loss: 0.3026 - accuracy: 0.8718 - val_loss: 0.3486 - val_accuracy: 0.8546\n"
     ]
    },
    {
     "data": {
      "image/png": "[encoded data removed]",
      "text/plain": [
       "<Figure size 1200x600 with 2 Axes>"
      ]
     },
     "metadata": {},
     "output_type": "display_data"
    }
   ],
   "source": [
    "history = lora_bert_0.fit(train_cached, validation_data=test_cached, epochs=10)\n",
    "plot_training_history(history)"
   ]
  },
  {
   "cell_type": "code",
   "execution_count": 31,
   "metadata": {},
   "outputs": [
    {
     "name": "stdout",
     "output_type": "stream",
     "text": [
      "782/782 [==============================] - 103s 132ms/step - loss: 0.3486 - accuracy: 0.8546\n"
     ]
    },
    {
     "data": {
      "text/plain": [
       "[0.3485821485519409, 0.8545600175857544]"
      ]
     },
     "execution_count": 31,
     "metadata": {},
     "output_type": "execute_result"
    }
   ],
   "source": [
    "lora_bert_0.evaluate(test_cached)"
   ]
  },
  {
   "cell_type": "markdown",
   "metadata": {},
   "source": [
    "## With Weight Decay Method + C_weight"
   ]
  },
  {
   "cell_type": "markdown",
   "metadata": {},
   "source": [
    "### Define Dense LoRa and Einsum LoRa Class"
   ]
  },
  {
   "cell_type": "code",
   "execution_count": 32,
   "metadata": {},
   "outputs": [],
   "source": [
    "import math \n",
    "\n",
    "class DenseLoraLayer(keras.layers.Layer):\n",
    "    def __init__(\n",
    "        self,\n",
    "        original_layer,\n",
    "        total_iteration = 1000 ,  # Total number of iterations for the decay\n",
    "        start_percent=0.05,  # The percentage of total_iteration when decay starts\n",
    "        end_percent=0.85,  # The percentage of total_iteration when decay ends\n",
    "        min_decay_factor=0,  # The minimum value that decay factor can take\n",
    "        rank=64,\n",
    "        alpha=32,\n",
    "        trainable=True,\n",
    "        **kwargs,\n",
    "    ):\n",
    "        original_layer_config = original_layer.get_config()\n",
    "        name = original_layer_config[\"name\"]\n",
    "        kwargs.pop(\"name\", None)\n",
    "\n",
    "        super().__init__(name=name, trainable=trainable, **kwargs)\n",
    "\n",
    "        self.rank = rank\n",
    "        self.alpha = alpha\n",
    "        self._scale = alpha / rank\n",
    "\n",
    "        self.original_layer = original_layer\n",
    "        self.original_layer.trainable = False\n",
    "\n",
    "\n",
    "        self.total_iteration = total_iteration\n",
    "        self.start_step = int(total_iteration * start_percent)\n",
    "        self.end_step = int(total_iteration * end_percent)\n",
    "        self.min_decay_factor = min_decay_factor\n",
    "\n",
    "        #trainable=False, 이 변수가 텐서플로우의 자동 미분 및 최적화 과정에 의해 업데이트되지 않는다는 뜻\n",
    "        #수동으로 업데이트될 수 있습니다. 예를 들어, 반복문 안에서 이 변수의 값을 업데이트하는 로직을 작성할 수 있음!\n",
    "        self.current_step = tf.Variable(0, dtype=tf.int32, trainable=False)\n",
    "        self.decay_factor = tf.Variable(1.0, dtype=tf.float32, trainable=False)\n",
    "    \n",
    "\n",
    "    def build(self, input_shape):\n",
    "        # LoRA weights.\n",
    "        kernel_shape = self.original_layer.kernel.shape\n",
    "        self.A_weight = self.add_weight(\n",
    "            name=\"lora_A_weight\",\n",
    "            shape=(self.rank, kernel_shape[0]),\n",
    "            initializer=keras.initializers.VarianceScaling(\n",
    "                scale=math.sqrt(5), mode=\"fan_in\", distribution=\"uniform\"\n",
    "            ),\n",
    "            trainable=self.trainable,\n",
    "        )\n",
    "\n",
    "        self.B_weight = self.add_weight(\n",
    "            name=\"lora_B_weight\",\n",
    "            shape=(self.original_layer.units, self.rank),\n",
    "            initializer='zeros',\n",
    "            trainable=self.trainable,\n",
    "        )\n",
    "        self.C_weight = self.add_weight(\n",
    "            name=\"lora_C_weight\",\n",
    "            shape=(self.original_layer.units,),\n",
    "            initializer='zeros',\n",
    "            trainable=self.trainable,\n",
    "        )\n",
    "        super().build(input_shape)\n",
    "\n",
    "    def call(self, inputs, training=None):\n",
    "            if training is None:\n",
    "                training = self.trainable\n",
    "\n",
    "            # Calculate the linear decay factor\n",
    "            if self.current_step < self.start_step:\n",
    "                self.decay_factor.assign(1.0)  # Decay has not started yet\n",
    "            elif self.current_step > self.end_step:\n",
    "                self.decay_factor.assign(tf.cast(self.min_decay_factor, dtype=tf.float32))  # Ensure float32 type for consistency\n",
    "            else:\n",
    "                # Linear decay between start_step and end_step\n",
    "                self.decay_factor.assign(1.0 - ((tf.cast(self.current_step, dtype=tf.float32) - self.start_step) /\n",
    "                                        (self.end_step - self.start_step) *\n",
    "                                        (1.0 - tf.cast(self.min_decay_factor, dtype=tf.float32))))\n",
    "\n",
    "            # Matrix multiplication for A and B weights with inputs\n",
    "            lora_A_output = tf.matmul(self.A_weight, tf.transpose(inputs))  # Ax\n",
    "            lora_output = tf.transpose(tf.matmul(self.B_weight, lora_A_output) * self._scale)  # BAx Transpose back to [batch_size, original_layer.units]\n",
    "            original_output = self.original_layer(inputs) * self.decay_factor\n",
    "\n",
    "            if training:\n",
    "                # Increment the step counter\n",
    "                self.current_step.assign_add(1)\n",
    "\n",
    "                return original_output + lora_output + self.C_weight #  (1 - self.decay_factor) // 곱하기로도..\n",
    "\n",
    "            else:\n",
    "                # 추론 모드에서는 LoRA 출력만 반환\n",
    "                # Modify lora_output based on decay_factor\n",
    "                #if tf.not_equal(self.decay_factor, 1.0):\n",
    "                  #lora_output /= (1 - self.decay_factor) // 곱하기로도..\n",
    "                return lora_output + self.C_weight "
   ]
  },
  {
   "cell_type": "code",
   "execution_count": 33,
   "metadata": {},
   "outputs": [],
   "source": [
    "# EinsumLoraLayer_O\n",
    "import math\n",
    "from tensorflow import keras\n",
    "\n",
    "class EinsumLoraLayer_O(keras.layers.Layer):\n",
    "    def __init__(\n",
    "        self,\n",
    "        original_layer,\n",
    "        total_iteration = 1000 ,  # Total number of iterations for the decay\n",
    "        start_percent=0.05,  # The percentage of total_iteration when decay starts\n",
    "        end_percent=0.85,  # The percentage of total_iteration when decay ends\n",
    "        min_decay_factor=0,  # The minimum value that decay factor can take\n",
    "        rank=64,\n",
    "        alpha=32,\n",
    "        trainable=True,\n",
    "        **kwargs,\n",
    "    ):\n",
    "        original_layer_config = original_layer.get_config()\n",
    "        name = original_layer_config[\"name\"]\n",
    "        kwargs.pop(\"name\", None)\n",
    "\n",
    "        super().__init__(name=name, trainable=trainable, **kwargs)\n",
    "\n",
    "        self.rank = rank\n",
    "        self.alpha = alpha\n",
    "        self._scale = alpha / rank\n",
    "\n",
    "        self.original_layer = original_layer\n",
    "        self.original_layer.trainable = False\n",
    "\n",
    "\n",
    "        self.total_iteration = total_iteration\n",
    "        self.start_step = int(total_iteration * start_percent)\n",
    "        self.end_step = int(total_iteration * end_percent)\n",
    "        self.min_decay_factor = min_decay_factor\n",
    "\n",
    "        #trainable=False, 이 변수가 텐서플로우의 자동 미분 및 최적화 과정에 의해 업데이트되지 않는다는 뜻\n",
    "        #수동으로 업데이트될 수 있습니다. 예를 들어, 반복문 안에서 이 변수의 값을 업데이트하는 로직을 작성할 수 있음!\n",
    "        self.current_step = tf.Variable(0, dtype=tf.int32, trainable=False)\n",
    "        self.decay_factor = tf.Variable(1.0, dtype=tf.float32, trainable=False)\n",
    "\n",
    "\n",
    "    def build(self, inputs_shape):\n",
    "\n",
    "        kernel_shape = self.original_layer.kernel.shape\n",
    "        bias_shape = self.original_layer.bias.shape\n",
    "        self.A_weight = self.add_weight(\n",
    "            name=\"lora_A_weight\",\n",
    "            shape= kernel_shape[:-1] + (self.rank,),\n",
    "            initializer=keras.initializers.VarianceScaling(\n",
    "                scale=math.sqrt(5), mode=\"fan_in\", distribution=\"uniform\"\n",
    "            ),\n",
    "            trainable=self.trainable,\n",
    "        )\n",
    "        \n",
    "        self.B_weight = self.add_weight(\n",
    "            name=\"lora_B_weight\",\n",
    "            shape=(self.rank, kernel_shape[-1]) ,\n",
    "            initializer=\"zeros\",\n",
    "            trainable=self.trainable,\n",
    "        )\n",
    "        self.C_weight = self.add_weight(\n",
    "            name=\"lora_C_weight\",\n",
    "            shape= bias_shape ,\n",
    "            initializer='zeros',\n",
    "            trainable=self.trainable,\n",
    "        )\n",
    "        super().build(inputs_shape)  \n",
    "\n",
    "\n",
    "\n",
    "    def call(self, inputs, training=None):\n",
    "            if training is None:\n",
    "                training = self.trainable\n",
    "\n",
    "            # Calculate the linear decay factor\n",
    "            if self.current_step < self.start_step:\n",
    "                self.decay_factor.assign(1.0)  # Decay has not started yet\n",
    "            elif self.current_step > self.end_step:\n",
    "                self.decay_factor.assign(tf.cast(self.min_decay_factor, dtype=tf.float32))  # Ensure float32 type for consistency\n",
    "            else:\n",
    "                # Linear decay between start_step and end_step\n",
    "                self.decay_factor.assign(1.0 - ((tf.cast(self.current_step, dtype=tf.float32) - self.start_step) /\n",
    "                                        (self.end_step - self.start_step) *\n",
    "                                        (1.0 - tf.cast(self.min_decay_factor, dtype=tf.float32))))\n",
    "\n",
    "            # Matrix multiplication for A and B weights with inputs\n",
    "            lora_A_output = tf.einsum(self.original_layer.equation, inputs , self.A_weight)\n",
    "            lora_output = tf.matmul(lora_A_output, self.B_weight) * self._scale \n",
    "            original_output = self.original_layer(inputs) * self.decay_factor\n",
    "\n",
    "            if training:\n",
    "                # Increment the step counter\n",
    "                self.current_step.assign_add(1)\n",
    "\n",
    "                return original_output + lora_output + self.C_weight #  (1 - self.decay_factor) // 곱하기로도..\n",
    "\n",
    "            else:\n",
    "                # 추론 모드에서는 LoRA 출력만 반환\n",
    "                # Modify lora_output based on decay_factor\n",
    "                #if tf.not_equal(self.decay_factor, 1.0):\n",
    "                  #lora_output /= (1 - self.decay_factor) // 곱하기로도..\n",
    "                return lora_output + self.C_weight "
   ]
  },
  {
   "cell_type": "code",
   "execution_count": 34,
   "metadata": {},
   "outputs": [],
   "source": [
    "#EinsumLoraLayer_QKV\n",
    "import math\n",
    "from tensorflow import keras\n",
    "\n",
    "class EinsumLoraLayer_QKV(keras.layers.Layer):\n",
    "    def __init__(\n",
    "        self,\n",
    "        original_layer,\n",
    "        total_iteration = 1000 ,  # Total number of iterations for the decay\n",
    "        start_percent=0.05,  # The percentage of total_iteration when decay starts\n",
    "        end_percent=0.85,  # The percentage of total_iteration when decay ends\n",
    "        min_decay_factor=0,  # The minimum value that decay factor can take\n",
    "        rank=64,\n",
    "        alpha=32,\n",
    "        trainable=True,\n",
    "        **kwargs,\n",
    "    ):\n",
    "        original_layer_config = original_layer.get_config()\n",
    "        name = original_layer_config[\"name\"]\n",
    "        kwargs.pop(\"name\", None)\n",
    "\n",
    "        super().__init__(name=name, trainable=trainable, **kwargs)\n",
    "\n",
    "        self.rank = rank\n",
    "        self.alpha = alpha\n",
    "        self._scale = alpha / rank\n",
    "\n",
    "        self.original_layer = original_layer\n",
    "        self.original_layer.trainable = False\n",
    "\n",
    "\n",
    "        self.total_iteration = total_iteration\n",
    "        self.start_step = int(total_iteration * start_percent)\n",
    "        self.end_step = int(total_iteration * end_percent)\n",
    "        self.min_decay_factor = min_decay_factor\n",
    "\n",
    "        #trainable=False, 이 변수가 텐서플로우의 자동 미분 및 최적화 과정에 의해 업데이트되지 않는다는 뜻\n",
    "        #수동으로 업데이트될 수 있습니다. 예를 들어, 반복문 안에서 이 변수의 값을 업데이트하는 로직을 작성할 수 있음!\n",
    "        self.current_step = tf.Variable(0, dtype=tf.int32, trainable=False)\n",
    "        self.decay_factor = tf.Variable(1.0, dtype=tf.float32, trainable=False)\n",
    "\n",
    "\n",
    "    def build(self, inputs_shape):\n",
    "\n",
    "        kernel_shape = self.original_layer.kernel.shape\n",
    "        bias_shape = self.original_layer.bias.shape\n",
    "        self.A_weight = self.add_weight(\n",
    "            name=\"lora_A_weight\",\n",
    "            shape=(self.rank, kernel_shape[0]),\n",
    "            initializer=keras.initializers.VarianceScaling(\n",
    "                scale=math.sqrt(5), mode=\"fan_in\", distribution=\"uniform\"\n",
    "            ),\n",
    "            trainable=self.trainable,\n",
    "        )\n",
    "        \n",
    "        self.B_weight = self.add_weight(\n",
    "            name=\"lora_B_weight\",\n",
    "            shape=(self.rank,) + kernel_shape[1:],\n",
    "            initializer=\"zeros\",\n",
    "            trainable=self.trainable,\n",
    "        )\n",
    "        self.C_weight = self.add_weight(\n",
    "            name=\"lora_C_weight\",\n",
    "            shape= bias_shape ,\n",
    "            initializer='zeros',\n",
    "            trainable=self.trainable,\n",
    "        )\n",
    "        super().build(inputs_shape)  \n",
    "\n",
    "\n",
    "\n",
    "    def call(self, inputs, training=None):\n",
    "            if training is None:\n",
    "                training = self.trainable\n",
    "\n",
    "            # Calculate the linear decay factor\n",
    "            if self.current_step < self.start_step:\n",
    "                self.decay_factor.assign(1.0)  # Decay has not started yet\n",
    "            elif self.current_step > self.end_step:\n",
    "                self.decay_factor.assign(tf.cast(self.min_decay_factor, dtype=tf.float32))  # Ensure float32 type for consistency\n",
    "            else:\n",
    "                # Linear decay between start_step and end_step\n",
    "                self.decay_factor.assign(1.0 - ((tf.cast(self.current_step, dtype=tf.float32) - self.start_step) /\n",
    "                                        (self.end_step - self.start_step) *\n",
    "                                        (1.0 - tf.cast(self.min_decay_factor, dtype=tf.float32))))\n",
    "\n",
    "            # Matrix multiplication for A and B weights with inputs\n",
    "            lora_A_output = tf.matmul(inputs, tf.transpose(self.A_weight)) #xA\n",
    "            lora_output = tf.einsum(self.original_layer.equation, lora_A_output , self.B_weight) * self._scale  # BAx Transpose back to [batch_size, original_layer.units]\n",
    "            original_output = self.original_layer(inputs) * self.decay_factor\n",
    "\n",
    "            if training:\n",
    "                # Increment the step counter\n",
    "                self.current_step.assign_add(1)\n",
    "\n",
    "                return original_output + lora_output + self.C_weight #  (1 - self.decay_factor) // 곱하기로도..\n",
    "\n",
    "            else:\n",
    "                # 추론 모드에서는 LoRA 출력만 반환\n",
    "                # Modify lora_output based on decay_factor\n",
    "                #if tf.not_equal(self.decay_factor, 1.0):\n",
    "                  #lora_output /= (1 - self.decay_factor) // 곱하기로도..\n",
    "                return lora_output + self.C_weight \n"
   ]
  },
  {
   "cell_type": "markdown",
   "metadata": {},
   "source": [
    "### Creating LoRA Bert  Epoch 10, batch size = 32 rank = 32 \n"
   ]
  },
  {
   "cell_type": "code",
   "execution_count": 35,
   "metadata": {},
   "outputs": [],
   "source": [
    "epochs = 10\n",
    "batch_size = 32\n",
    "total_iteration= int(epochs * (dataset_size / batch_size))  # Total number of iterations for the decay"
   ]
  },
  {
   "cell_type": "code",
   "execution_count": 36,
   "metadata": {},
   "outputs": [],
   "source": [
    "# 원본 모델 우선 가져오기 \n",
    "lora_bert_2 = tf.keras.models.load_model(\"./model/bert-small-IMDB-original-model\")\n",
    "lora_bert_backbone = lora_bert_2.get_layer('bert_backbone_1')"
   ]
  },
  {
   "cell_type": "code",
   "execution_count": 37,
   "metadata": {},
   "outputs": [],
   "source": [
    "def replace_transformerblocks_with_lora(bert_backbone, layer_name, total_iteration, rank=32, alpha=32, input_shape = (None, 256, 128)):\n",
    "    # Access the specific transformer layer within the bert_backbone\n",
    "    transformer_layer = bert_backbone.get_layer(layer_name)\n",
    "\n",
    "\n",
    "    # Replace feedforward_intermediate_dense, feedforward_output_dense \n",
    "    #transformer_layer._feedforward_intermediate_dense = DenseLoraLayer(\n",
    "    #    original_layer=transformer_layer._feedforward_intermediate_dense,\n",
    "    #    rank=rank,\n",
    "    #    alpha=alpha,\n",
    "    #    total_iteration=total_iteration,\n",
    "    #    trainable=True\n",
    "    #)\n",
    "\n",
    "    #transformer_layer._feedforward_output_dense = DenseLoraLayer(\n",
    "    #    original_layer=transformer_layer._feedforward_output_dense,\n",
    "    #    rank=rank,\n",
    "    #    alpha=alpha,\n",
    "    #    total_iteration=total_iteration,\n",
    "    #    trainable=True\n",
    "    #)\n",
    "\n",
    "    # Replace query, key, value, and output dense layers with LoRA layers\n",
    "    self_attention_layer = transformer_layer._self_attention_layer\n",
    "\n",
    "    self_attention_layer._output_dense = EinsumLoraLayer_O(\n",
    "        original_layer=self_attention_layer._output_dense,\n",
    "        rank=rank,\n",
    "        alpha=alpha,\n",
    "        total_iteration=total_iteration,\n",
    "        trainable=True\n",
    "    )\n",
    "    self_attention_layer._query_dense = EinsumLoraLayer_QKV(\n",
    "        original_layer=self_attention_layer._query_dense,\n",
    "        rank=rank,\n",
    "        alpha=alpha,\n",
    "        total_iteration=total_iteration,\n",
    "        trainable=True\n",
    "    )\n",
    "    self_attention_layer._value_dense = EinsumLoraLayer_QKV(\n",
    "        original_layer=self_attention_layer._value_dense,\n",
    "        rank=rank,\n",
    "        alpha=alpha,\n",
    "        total_iteration=total_iteration,\n",
    "        trainable=True\n",
    "    )\n",
    "    self_attention_layer._key_dense = EinsumLoraLayer_QKV(\n",
    "        original_layer=self_attention_layer._key_dense,\n",
    "        rank=rank,\n",
    "        alpha=alpha,\n",
    "        total_iteration=total_iteration,\n",
    "        trainable=True\n",
    "    )\n",
    "\n",
    "    # Build the modified layers\n",
    "    #transformer_layer._feedforward_intermediate_dense.build(input_shape)\n",
    "    #transformer_layer._feedforward_output_dense.build(input_shape)\n",
    "    #문제해결 전까지 FREEZE\n",
    "    transformer_layer._feedforward_intermediate_dense.trainable = False \n",
    "    transformer_layer._feedforward_output_dense.trainable = False\n",
    "\n",
    "    self_attention_layer._output_dense.build(input_shape)\n",
    "    self_attention_layer._query_dense.build(input_shape)\n",
    "    self_attention_layer._key_dense.build(input_shape)\n",
    "    self_attention_layer._value_dense.build(input_shape)\n",
    "\n",
    "\n",
    "\n"
   ]
  },
  {
   "cell_type": "code",
   "execution_count": 38,
   "metadata": {},
   "outputs": [],
   "source": [
    "\n",
    "\n",
    "# Apply LoRA to pooled_dense layer\n",
    "#pooled_dense_layer = lora_bert_backbone.get_layer('pooled_dense')\n",
    "#pooled_dense_layer = DenseLoraLayer(\n",
    "#    original_layer=lora_bert_backbone.get_layer('pooled_dense'),\n",
    "#    rank=32,\n",
    "#    alpha=32,\n",
    "#    total_iteration=total_iteration,\n",
    "#    trainable=True\n",
    "#)\n",
    "#pooled_dense_layer.build((None, 256, 128))\n",
    "\n",
    "pooled_dense_layer = lora_bert_backbone.get_layer('pooled_dense')\n",
    "pooled_dense_layer.trainable = False \n",
    "\n",
    "\n",
    "\n"
   ]
  },
  {
   "cell_type": "code",
   "execution_count": 39,
   "metadata": {},
   "outputs": [],
   "source": [
    "\n",
    "# Apply LoRA Layers to Transformer Encoders and Freeze Layer Norm layer in Transformer Encoder \n",
    "\n",
    "num_transformer_layers = 4\n",
    "for i in range(num_transformer_layers):\n",
    "    layer_name = f\"transformer_layer_{i}\"\n",
    "    transformer_layer = lora_bert_backbone.get_layer(layer_name) # 해당 레이어를 가져옵니다.\n",
    "\n",
    "    # Set the self-attention layer normalization to be non-trainable\n",
    "    # transformer_layer._self_attention_layer_norm 레이어의 모든 가중치를 학습 불가능하게 설정\n",
    "    for weight in transformer_layer._self_attention_layer_norm.weights:\n",
    "        weight._trainable = False\n",
    "    for weight in transformer_layer._feedforward_layer_norm.weights:\n",
    "        weight._trainable = False\n",
    "\n",
    "\n",
    "    # LoRA 레이어 적용\n",
    "    replace_transformerblocks_with_lora(lora_bert_backbone, layer_name, total_iteration)\n"
   ]
  },
  {
   "cell_type": "code",
   "execution_count": 40,
   "metadata": {},
   "outputs": [],
   "source": [
    "# Freeze Logits \n",
    "logits = lora_bert_2.get_layer('logits')\n",
    "logits.trainable = False\n",
    "\n",
    "\n",
    "\n",
    "# Freeze Bert Backbone (Except Transformer Encdoer, PooledDense )\n",
    "token_embedding_layer = lora_bert_backbone.get_layer('token_embedding')\n",
    "position_embedding_layer = lora_bert_backbone.get_layer('position_embedding')\n",
    "segment_embedding_layer = lora_bert_backbone.get_layer('segment_embedding')\n",
    "embeddings_layer_norm_layer = lora_bert_backbone.get_layer('embeddings_layer_norm')\n",
    "\n",
    "token_embedding_layer.trainable = False\n",
    "position_embedding_layer.trainable = False\n",
    "segment_embedding_layer.trainable = False\n",
    "embeddings_layer_norm_layer.trainable = False\n"
   ]
  },
  {
   "cell_type": "code",
   "execution_count": 41,
   "metadata": {},
   "outputs": [
    {
     "name": "stdout",
     "output_type": "stream",
     "text": [
      "Layer: token_ids\n",
      "  Trainable parameters: 0.0\n",
      "  Non-trainable parameters: 0.0\n",
      "Layer: token_embedding\n",
      "  Trainable parameters: 0.0\n",
      "  Non-trainable parameters: 15627264\n",
      "Layer: segment_ids\n",
      "  Trainable parameters: 0.0\n",
      "  Non-trainable parameters: 0.0\n",
      "Layer: position_embedding\n",
      "  Trainable parameters: 0.0\n",
      "  Non-trainable parameters: 262144\n",
      "Layer: segment_embedding\n",
      "  Trainable parameters: 0.0\n",
      "  Non-trainable parameters: 1024\n",
      "Layer: add_2\n",
      "  Trainable parameters: 0.0\n",
      "  Non-trainable parameters: 0.0\n",
      "Layer: embeddings_layer_norm\n",
      "  Trainable parameters: 0.0\n",
      "  Non-trainable parameters: 1024\n",
      "Layer: embeddings_dropout\n",
      "  Trainable parameters: 0.0\n",
      "  Non-trainable parameters: 0.0\n",
      "Layer: padding_mask\n",
      "  Trainable parameters: 0.0\n",
      "  Non-trainable parameters: 0.0\n",
      "Layer: transformer_layer_0\n",
      "  Trainable parameters: 135168\n",
      "  Non-trainable parameters: 3150344\n",
      "Layer: transformer_layer_1\n",
      "  Trainable parameters: 135168\n",
      "  Non-trainable parameters: 3150344\n",
      "Layer: transformer_layer_2\n",
      "  Trainable parameters: 135168\n",
      "  Non-trainable parameters: 3150344\n",
      "Layer: transformer_layer_3\n",
      "  Trainable parameters: 135168\n",
      "  Non-trainable parameters: 3150344\n",
      "Layer: pooled_dense\n",
      "  Trainable parameters: 0.0\n",
      "  Non-trainable parameters: 262656\n",
      "Layer: tf.__operators__.getitem_2\n",
      "  Trainable parameters: 0.0\n",
      "  Non-trainable parameters: 0.0\n"
     ]
    }
   ],
   "source": [
    "import numpy as np\n",
    "import tensorflow as tf\n",
    "\n",
    "# 모델의 각 레이어를 순회하며 파라미터 수를 계산\n",
    "for layer in lora_bert_backbone.layers:\n",
    "    trainable_count = np.sum([tf.size(w).numpy() for w in layer.trainable_weights])\n",
    "    non_trainable_count = np.sum([tf.size(w).numpy() for w in layer.non_trainable_weights])\n",
    "\n",
    "    print(f\"Layer: {layer.name}\")\n",
    "    print(f\"  Trainable parameters: {trainable_count}\")\n",
    "    print(f\"  Non-trainable parameters: {non_trainable_count}\")\n"
   ]
  },
  {
   "cell_type": "code",
   "execution_count": 42,
   "metadata": {},
   "outputs": [
    {
     "data": {
      "text/html": [
       "<pre style=\"white-space:pre;overflow-x:auto;line-height:normal;font-family:Menlo,'DejaVu Sans Mono',consolas,'Courier New',monospace\"><span style=\"font-weight: bold\">Model: \"bert_classifier_1\"</span>\n",
       "</pre>\n"
      ],
      "text/plain": [
       "\u001b[1mModel: \"bert_classifier_1\"\u001b[0m\n"
      ]
     },
     "metadata": {},
     "output_type": "display_data"
    },
    {
     "data": {
      "text/html": [
       "<pre style=\"white-space:pre;overflow-x:auto;line-height:normal;font-family:Menlo,'DejaVu Sans Mono',consolas,'Courier New',monospace\">┏━━━━━━━━━━━━━━━━━━━━━━━━━━━━━━━━━━━━━━━━━━━━━━━┳━━━━━━━━━━━━━━━━━━━━━━━━━━━━━━━━━━━━━━━━┳━━━━━━━━━━━━━━━━━┓\n",
       "┃<span style=\"font-weight: bold\"> Layer (type)                                  </span>┃<span style=\"font-weight: bold\"> Output Shape                           </span>┃<span style=\"font-weight: bold\">         Param # </span>┃\n",
       "┡━━━━━━━━━━━━━━━━━━━━━━━━━━━━━━━━━━━━━━━━━━━━━━━╇━━━━━━━━━━━━━━━━━━━━━━━━━━━━━━━━━━━━━━━━╇━━━━━━━━━━━━━━━━━┩\n",
       "│ padding_mask (<span style=\"color: #0087ff; text-decoration-color: #0087ff\">InputLayer</span>)                     │ (<span style=\"color: #00d7ff; text-decoration-color: #00d7ff\">None</span>, <span style=\"color: #00d7ff; text-decoration-color: #00d7ff\">None</span>)                           │               <span style=\"color: #00af00; text-decoration-color: #00af00\">0</span> │\n",
       "├───────────────────────────────────────────────┼────────────────────────────────────────┼─────────────────┤\n",
       "│ segment_ids (<span style=\"color: #0087ff; text-decoration-color: #0087ff\">InputLayer</span>)                      │ (<span style=\"color: #00d7ff; text-decoration-color: #00d7ff\">None</span>, <span style=\"color: #00d7ff; text-decoration-color: #00d7ff\">None</span>)                           │               <span style=\"color: #00af00; text-decoration-color: #00af00\">0</span> │\n",
       "├───────────────────────────────────────────────┼────────────────────────────────────────┼─────────────────┤\n",
       "│ token_ids (<span style=\"color: #0087ff; text-decoration-color: #0087ff\">InputLayer</span>)                        │ (<span style=\"color: #00d7ff; text-decoration-color: #00d7ff\">None</span>, <span style=\"color: #00d7ff; text-decoration-color: #00d7ff\">None</span>)                           │               <span style=\"color: #00af00; text-decoration-color: #00af00\">0</span> │\n",
       "├───────────────────────────────────────────────┼────────────────────────────────────────┼─────────────────┤\n",
       "│ bert_backbone_1 (<span style=\"color: #0087ff; text-decoration-color: #0087ff\">BertBackbone</span>)                │ {sequence_output: (<span style=\"color: #00d7ff; text-decoration-color: #00d7ff\">None</span>, <span style=\"color: #00d7ff; text-decoration-color: #00d7ff\">None</span>, <span style=\"color: #00af00; text-decoration-color: #00af00\">512</span>),   │      <span style=\"color: #00af00; text-decoration-color: #00af00\">29,296,160</span> │\n",
       "│                                               │ pooled_output: (<span style=\"color: #00d7ff; text-decoration-color: #00d7ff\">None</span>, <span style=\"color: #00af00; text-decoration-color: #00af00\">512</span>)}            │                 │\n",
       "├───────────────────────────────────────────────┼────────────────────────────────────────┼─────────────────┤\n",
       "│ dropout_2 (<span style=\"color: #0087ff; text-decoration-color: #0087ff\">Dropout</span>)                           │ (<span style=\"color: #00d7ff; text-decoration-color: #00d7ff\">None</span>, <span style=\"color: #00af00; text-decoration-color: #00af00\">512</span>)                            │               <span style=\"color: #00af00; text-decoration-color: #00af00\">0</span> │\n",
       "├───────────────────────────────────────────────┼────────────────────────────────────────┼─────────────────┤\n",
       "│ logits (<span style=\"color: #0087ff; text-decoration-color: #0087ff\">Dense</span>)                                │ (<span style=\"color: #00d7ff; text-decoration-color: #00d7ff\">None</span>, <span style=\"color: #00af00; text-decoration-color: #00af00\">2</span>)                              │           <span style=\"color: #00af00; text-decoration-color: #00af00\">1,026</span> │\n",
       "└───────────────────────────────────────────────┴────────────────────────────────────────┴─────────────────┘\n",
       "</pre>\n"
      ],
      "text/plain": [
       "┏━━━━━━━━━━━━━━━━━━━━━━━━━━━━━━━━━━━━━━━━━━━━━━━┳━━━━━━━━━━━━━━━━━━━━━━━━━━━━━━━━━━━━━━━━┳━━━━━━━━━━━━━━━━━┓\n",
       "┃\u001b[1m \u001b[0m\u001b[1mLayer (type)                                 \u001b[0m\u001b[1m \u001b[0m┃\u001b[1m \u001b[0m\u001b[1mOutput Shape                          \u001b[0m\u001b[1m \u001b[0m┃\u001b[1m \u001b[0m\u001b[1m        Param #\u001b[0m\u001b[1m \u001b[0m┃\n",
       "┡━━━━━━━━━━━━━━━━━━━━━━━━━━━━━━━━━━━━━━━━━━━━━━━╇━━━━━━━━━━━━━━━━━━━━━━━━━━━━━━━━━━━━━━━━╇━━━━━━━━━━━━━━━━━┩\n",
       "│ padding_mask (\u001b[38;5;33mInputLayer\u001b[0m)                     │ (\u001b[38;5;45mNone\u001b[0m, \u001b[38;5;45mNone\u001b[0m)                           │               \u001b[38;5;34m0\u001b[0m │\n",
       "├───────────────────────────────────────────────┼────────────────────────────────────────┼─────────────────┤\n",
       "│ segment_ids (\u001b[38;5;33mInputLayer\u001b[0m)                      │ (\u001b[38;5;45mNone\u001b[0m, \u001b[38;5;45mNone\u001b[0m)                           │               \u001b[38;5;34m0\u001b[0m │\n",
       "├───────────────────────────────────────────────┼────────────────────────────────────────┼─────────────────┤\n",
       "│ token_ids (\u001b[38;5;33mInputLayer\u001b[0m)                        │ (\u001b[38;5;45mNone\u001b[0m, \u001b[38;5;45mNone\u001b[0m)                           │               \u001b[38;5;34m0\u001b[0m │\n",
       "├───────────────────────────────────────────────┼────────────────────────────────────────┼─────────────────┤\n",
       "│ bert_backbone_1 (\u001b[38;5;33mBertBackbone\u001b[0m)                │ {sequence_output: (\u001b[38;5;45mNone\u001b[0m, \u001b[38;5;45mNone\u001b[0m, \u001b[38;5;34m512\u001b[0m),   │      \u001b[38;5;34m29,296,160\u001b[0m │\n",
       "│                                               │ pooled_output: (\u001b[38;5;45mNone\u001b[0m, \u001b[38;5;34m512\u001b[0m)}            │                 │\n",
       "├───────────────────────────────────────────────┼────────────────────────────────────────┼─────────────────┤\n",
       "│ dropout_2 (\u001b[38;5;33mDropout\u001b[0m)                           │ (\u001b[38;5;45mNone\u001b[0m, \u001b[38;5;34m512\u001b[0m)                            │               \u001b[38;5;34m0\u001b[0m │\n",
       "├───────────────────────────────────────────────┼────────────────────────────────────────┼─────────────────┤\n",
       "│ logits (\u001b[38;5;33mDense\u001b[0m)                                │ (\u001b[38;5;45mNone\u001b[0m, \u001b[38;5;34m2\u001b[0m)                              │           \u001b[38;5;34m1,026\u001b[0m │\n",
       "└───────────────────────────────────────────────┴────────────────────────────────────────┴─────────────────┘\n"
      ]
     },
     "metadata": {},
     "output_type": "display_data"
    },
    {
     "data": {
      "text/html": [
       "<pre style=\"white-space:pre;overflow-x:auto;line-height:normal;font-family:Menlo,'DejaVu Sans Mono',consolas,'Courier New',monospace\"><span style=\"font-weight: bold\"> Total params: </span><span style=\"color: #00af00; text-decoration-color: #00af00\">29,297,186</span> (111.76 MB)\n",
       "</pre>\n"
      ],
      "text/plain": [
       "\u001b[1m Total params: \u001b[0m\u001b[38;5;34m29,297,186\u001b[0m (111.76 MB)\n"
      ]
     },
     "metadata": {},
     "output_type": "display_data"
    },
    {
     "data": {
      "text/html": [
       "<pre style=\"white-space:pre;overflow-x:auto;line-height:normal;font-family:Menlo,'DejaVu Sans Mono',consolas,'Courier New',monospace\"><span style=\"font-weight: bold\"> Trainable params: </span><span style=\"color: #00af00; text-decoration-color: #00af00\">540,672</span> (2.06 MB)\n",
       "</pre>\n"
      ],
      "text/plain": [
       "\u001b[1m Trainable params: \u001b[0m\u001b[38;5;34m540,672\u001b[0m (2.06 MB)\n"
      ]
     },
     "metadata": {},
     "output_type": "display_data"
    },
    {
     "data": {
      "text/html": [
       "<pre style=\"white-space:pre;overflow-x:auto;line-height:normal;font-family:Menlo,'DejaVu Sans Mono',consolas,'Courier New',monospace\"><span style=\"font-weight: bold\"> Non-trainable params: </span><span style=\"color: #00af00; text-decoration-color: #00af00\">28,756,514</span> (109.70 MB)\n",
       "</pre>\n"
      ],
      "text/plain": [
       "\u001b[1m Non-trainable params: \u001b[0m\u001b[38;5;34m28,756,514\u001b[0m (109.70 MB)\n"
      ]
     },
     "metadata": {},
     "output_type": "display_data"
    }
   ],
   "source": [
    "lora_bert_2.summary()"
   ]
  },
  {
   "cell_type": "code",
   "execution_count": 43,
   "metadata": {},
   "outputs": [],
   "source": [
    "model_name =  \"bert_small_en_uncased\"\n",
    "preprocessor = keras_nlp.models.BertPreprocessor.from_preset(\n",
    "    model_name,\n",
    "    sequence_length=256,\n",
    ")\n",
    "batch_size = 32\n",
    "train_cached = (\n",
    "    training_data\n",
    "    .map(preprocessor)  # Apply the preprocessor\n",
    "    .batch(batch_size)  # Batch the data\n",
    "    .cache()  # Cache the data\n",
    "    .prefetch(tf.data.experimental.AUTOTUNE)  # Prefetch for efficiency\n",
    ")\n",
    "test_cached = (\n",
    "    validation_data\n",
    "    .map(preprocessor)  # Apply the preprocessor\n",
    "    .batch(batch_size)  # Batch the data\n",
    "    .cache()  # Cache the data\n",
    "    .prefetch(tf.data.experimental.AUTOTUNE)  # Prefetch for efficiency\n",
    ")"
   ]
  },
  {
   "cell_type": "code",
   "execution_count": 44,
   "metadata": {},
   "outputs": [],
   "source": [
    "\n",
    "lora_bert_2.compile(\n",
    "    loss=keras.losses.BinaryCrossentropy(),\n",
    "    optimizer=keras.optimizers.Adam(learning_rate=5e-5),  \n",
    "    #jit_compile=True,\n",
    "    metrics=[\"accuracy\"],\n",
    ")"
   ]
  },
  {
   "cell_type": "code",
   "execution_count": 45,
   "metadata": {},
   "outputs": [
    {
     "name": "stdout",
     "output_type": "stream",
     "text": [
      "Epoch 1/10\n",
      "WARNING:tensorflow:Gradients do not exist for variables ['transformer_layer_0/gamma:0', 'transformer_layer_0/beta:0', 'transformer_layer_0/gamma:0', 'transformer_layer_0/beta:0', 'transformer_layer_1/gamma:0', 'transformer_layer_1/beta:0', 'transformer_layer_1/gamma:0', 'transformer_layer_1/beta:0', 'transformer_layer_2/gamma:0', 'transformer_layer_2/beta:0', 'transformer_layer_2/gamma:0', 'transformer_layer_2/beta:0', 'transformer_layer_3/gamma:0', 'transformer_layer_3/beta:0', 'transformer_layer_3/gamma:0', 'transformer_layer_3/beta:0'] when minimizing the loss. If you're using `model.compile()`, did you forget to provide a `loss` argument?\n",
      "WARNING:tensorflow:Gradients do not exist for variables ['transformer_layer_0/gamma:0', 'transformer_layer_0/beta:0', 'transformer_layer_0/gamma:0', 'transformer_layer_0/beta:0', 'transformer_layer_1/gamma:0', 'transformer_layer_1/beta:0', 'transformer_layer_1/gamma:0', 'transformer_layer_1/beta:0', 'transformer_layer_2/gamma:0', 'transformer_layer_2/beta:0', 'transformer_layer_2/gamma:0', 'transformer_layer_2/beta:0', 'transformer_layer_3/gamma:0', 'transformer_layer_3/beta:0', 'transformer_layer_3/gamma:0', 'transformer_layer_3/beta:0'] when minimizing the loss. If you're using `model.compile()`, did you forget to provide a `loss` argument?\n",
      "WARNING:tensorflow:Gradients do not exist for variables ['transformer_layer_0/gamma:0', 'transformer_layer_0/beta:0', 'transformer_layer_0/gamma:0', 'transformer_layer_0/beta:0', 'transformer_layer_1/gamma:0', 'transformer_layer_1/beta:0', 'transformer_layer_1/gamma:0', 'transformer_layer_1/beta:0', 'transformer_layer_2/gamma:0', 'transformer_layer_2/beta:0', 'transformer_layer_2/gamma:0', 'transformer_layer_2/beta:0', 'transformer_layer_3/gamma:0', 'transformer_layer_3/beta:0', 'transformer_layer_3/gamma:0', 'transformer_layer_3/beta:0'] when minimizing the loss. If you're using `model.compile()`, did you forget to provide a `loss` argument?\n",
      "WARNING:tensorflow:Gradients do not exist for variables ['transformer_layer_0/gamma:0', 'transformer_layer_0/beta:0', 'transformer_layer_0/gamma:0', 'transformer_layer_0/beta:0', 'transformer_layer_1/gamma:0', 'transformer_layer_1/beta:0', 'transformer_layer_1/gamma:0', 'transformer_layer_1/beta:0', 'transformer_layer_2/gamma:0', 'transformer_layer_2/beta:0', 'transformer_layer_2/gamma:0', 'transformer_layer_2/beta:0', 'transformer_layer_3/gamma:0', 'transformer_layer_3/beta:0', 'transformer_layer_3/gamma:0', 'transformer_layer_3/beta:0'] when minimizing the loss. If you're using `model.compile()`, did you forget to provide a `loss` argument?\n",
      "782/782 [==============================] - 390s 480ms/step - loss: 0.1774 - accuracy: 0.9336 - val_loss: 0.6945 - val_accuracy: 0.5007\n",
      "Epoch 2/10\n",
      "782/782 [==============================] - 298s 381ms/step - loss: 0.1759 - accuracy: 0.9327 - val_loss: 0.6955 - val_accuracy: 0.5007\n",
      "Epoch 3/10\n",
      "782/782 [==============================] - 169s 216ms/step - loss: 0.1920 - accuracy: 0.9264 - val_loss: 0.6964 - val_accuracy: 0.5007\n",
      "Epoch 4/10\n",
      "782/782 [==============================] - 167s 213ms/step - loss: 0.2117 - accuracy: 0.9179 - val_loss: 0.7060 - val_accuracy: 0.5007\n",
      "Epoch 5/10\n",
      "782/782 [==============================] - 168s 215ms/step - loss: 0.2336 - accuracy: 0.9061 - val_loss: 0.7348 - val_accuracy: 0.5007\n",
      "Epoch 6/10\n",
      "782/782 [==============================] - 167s 213ms/step - loss: 0.2603 - accuracy: 0.8921 - val_loss: 0.7689 - val_accuracy: 0.5007\n",
      "Epoch 7/10\n",
      "782/782 [==============================] - 168s 215ms/step - loss: 0.2852 - accuracy: 0.8806 - val_loss: 0.7918 - val_accuracy: 0.5059\n",
      "Epoch 8/10\n",
      "782/782 [==============================] - 168s 214ms/step - loss: 0.3077 - accuracy: 0.8682 - val_loss: 0.4862 - val_accuracy: 0.7529\n",
      "Epoch 9/10\n",
      "782/782 [==============================] - 167s 214ms/step - loss: 0.3160 - accuracy: 0.8647 - val_loss: 0.3356 - val_accuracy: 0.8547\n",
      "Epoch 10/10\n",
      "782/782 [==============================] - 167s 213ms/step - loss: 0.3027 - accuracy: 0.8714 - val_loss: 0.3350 - val_accuracy: 0.8581\n"
     ]
    },
    {
     "data": {
      "image/png": "[encoded data removed]",
      "text/plain": [
       "<Figure size 1200x600 with 2 Axes>"
      ]
     },
     "metadata": {},
     "output_type": "display_data"
    }
   ],
   "source": [
    "history = lora_bert_2.fit(train_cached, validation_data=test_cached, epochs=10)\n",
    "plot_training_history(history)"
   ]
  },
  {
   "cell_type": "code",
   "execution_count": 46,
   "metadata": {},
   "outputs": [
    {
     "name": "stdout",
     "output_type": "stream",
     "text": [
      "782/782 [==============================] - 49s 62ms/step - loss: 0.3350 - accuracy: 0.8581\n"
     ]
    },
    {
     "data": {
      "text/plain": [
       "[0.3349620997905731, 0.8580800294876099]"
      ]
     },
     "execution_count": 46,
     "metadata": {},
     "output_type": "execute_result"
    }
   ],
   "source": [
    "lora_bert_2.evaluate(test_cached)"
   ]
  },
  {
   "cell_type": "markdown",
   "metadata": {},
   "source": [
    "## With Weight Decay Method + C_weight + Noise "
   ]
  },
  {
   "cell_type": "markdown",
   "metadata": {},
   "source": [
    "### Define Dense LoRa and Einsum LoRa Class"
   ]
  },
  {
   "cell_type": "code",
   "execution_count": 47,
   "metadata": {},
   "outputs": [],
   "source": [
    "import math \n",
    "\n",
    "class DenseLoraLayer(keras.layers.Layer):\n",
    "    def __init__(\n",
    "        self,\n",
    "        original_layer,\n",
    "        total_iteration = 1000 ,  # Total number of iterations for the decay\n",
    "        start_percent=0.05,  # The percentage of total_iteration when decay starts\n",
    "        end_percent=0.85,  # The percentage of total_iteration when decay ends\n",
    "        min_decay_factor=0,  # The minimum value that decay factor can take\n",
    "        rank=64,\n",
    "        alpha=32,\n",
    "        trainable=True,\n",
    "        **kwargs,\n",
    "    ):\n",
    "        original_layer_config = original_layer.get_config()\n",
    "        name = original_layer_config[\"name\"]\n",
    "        kwargs.pop(\"name\", None)\n",
    "\n",
    "        super().__init__(name=name, trainable=trainable, **kwargs)\n",
    "\n",
    "        self.rank = rank\n",
    "        self.alpha = alpha\n",
    "        self._scale = alpha / rank\n",
    "\n",
    "        self.original_layer = original_layer\n",
    "        self.original_layer.trainable = False\n",
    "\n",
    "\n",
    "        self.total_iteration = total_iteration\n",
    "        self.start_step = int(total_iteration * start_percent)\n",
    "        self.end_step = int(total_iteration * end_percent)\n",
    "        self.min_decay_factor = min_decay_factor\n",
    "\n",
    "        #trainable=False, 이 변수가 텐서플로우의 자동 미분 및 최적화 과정에 의해 업데이트되지 않는다는 뜻\n",
    "        #수동으로 업데이트될 수 있습니다. 예를 들어, 반복문 안에서 이 변수의 값을 업데이트하는 로직을 작성할 수 있음!\n",
    "        self.current_step = tf.Variable(0, dtype=tf.int32, trainable=False)\n",
    "        self.decay_factor = tf.Variable(1.0, dtype=tf.float32, trainable=False)\n",
    "    \n",
    "\n",
    "    def build(self, input_shape):\n",
    "        # LoRA weights.\n",
    "        kernel_shape = self.original_layer.kernel.shape\n",
    "        self.A_weight = self.add_weight(\n",
    "            name=\"lora_A_weight\",\n",
    "            shape=(self.rank, kernel_shape[0]),\n",
    "            initializer=keras.initializers.VarianceScaling(\n",
    "                scale=math.sqrt(5), mode=\"fan_in\", distribution=\"uniform\"\n",
    "            ),\n",
    "            trainable=self.trainable,\n",
    "        )\n",
    "\n",
    "        self.B_weight = self.add_weight(\n",
    "            name=\"lora_B_weight\",\n",
    "            shape=(self.original_layer.units, self.rank),\n",
    "            initializer='zeros',\n",
    "            trainable=self.trainable,\n",
    "        )\n",
    "        self.C_weight = self.add_weight(\n",
    "            name=\"lora_C_weight\",\n",
    "            shape=(self.original_layer.units,),\n",
    "            initializer='zeros',\n",
    "            trainable=self.trainable,\n",
    "        )\n",
    "        super().build(input_shape)\n",
    "\n",
    "    def call(self, inputs, training=None):\n",
    "            if training is None:\n",
    "                training = self.trainable\n",
    "\n",
    "            # Calculate the linear decay factor\n",
    "            if self.current_step < self.start_step:\n",
    "                self.decay_factor.assign(1.0)  # Decay has not started yet\n",
    "            elif self.current_step > self.end_step:\n",
    "                self.decay_factor.assign(tf.cast(self.min_decay_factor, dtype=tf.float32))  # Ensure float32 type for consistency\n",
    "            else:\n",
    "                # Linear decay between start_step and end_step\n",
    "                self.decay_factor.assign(1.0 - ((tf.cast(self.current_step, dtype=tf.float32) - self.start_step) /\n",
    "                                        (self.end_step - self.start_step) *\n",
    "                                        (1.0 - tf.cast(self.min_decay_factor, dtype=tf.float32))))\n",
    "\n",
    "            # Matrix multiplication for A and B weights with inputs\n",
    "            lora_A_output = tf.matmul(self.A_weight, tf.transpose(inputs))  # Ax\n",
    "            lora_output = tf.transpose(tf.matmul(self.B_weight, lora_A_output) * self._scale)  # BAx Transpose back to [batch_size, original_layer.units]\n",
    "\n",
    "            #lora_output *= (1 - self.decay_factor) # 멘토링 때 나온 의견\n",
    "\n",
    "            if training:\n",
    "                original_output = self.original_layer(inputs)\n",
    "                # 평균과 표준편차 계산\n",
    "                original_weight_matrix = self.original_layer.weights[0]\n",
    "                original_mean = tf.reduce_mean(original_weight_matrix, axis=0)\n",
    "                original_variance = tf.reduce_mean(tf.square(original_weight_matrix - original_mean), axis=0)\n",
    "                original_stddev = tf.sqrt(original_variance)\n",
    "\n",
    "                # decay_factor가 0.3보다 작으면 noise_mean과 noise_std를 0으로 설정\n",
    "                noise_mean = tf.where(self.decay_factor < 0.3, 0.0, original_mean * (1 - self.decay_factor))\n",
    "                noise_std = tf.where(self.decay_factor < 0.3, 0.0, original_stddev * tf.sqrt(1 - tf.square(self.decay_factor)))\n",
    "                noise = tf.random.normal(tf.shape(original_weight_matrix), mean=noise_mean, stddev=noise_std)\n",
    "\n",
    "                self.current_step.assign_add(1)\n",
    "\n",
    "                return original_output * self.decay_factor + (inputs @ noise) + lora_output + self.C_weight\n",
    "\n",
    "            else:\n",
    "                # 추론 모드에서는 LoRA 출력만 반환\n",
    "                return lora_output + self.C_weight\n",
    "\n"
   ]
  },
  {
   "cell_type": "code",
   "execution_count": 48,
   "metadata": {},
   "outputs": [],
   "source": [
    "# EinsumLoraLayer_O\n",
    "import math\n",
    "from tensorflow import keras\n",
    "\n",
    "class EinsumLoraLayer_O(keras.layers.Layer):\n",
    "    def __init__(\n",
    "        self,\n",
    "        original_layer,\n",
    "        total_iteration = 1000 ,  # Total number of iterations for the decay\n",
    "        start_percent=0.05,  # The percentage of total_iteration when decay starts\n",
    "        end_percent=0.85,  # The percentage of total_iteration when decay ends\n",
    "        min_decay_factor=0,  # The minimum value that decay factor can take\n",
    "        rank=64,\n",
    "        alpha=32,\n",
    "        trainable=True,\n",
    "        **kwargs,\n",
    "    ):\n",
    "        original_layer_config = original_layer.get_config()\n",
    "        name = original_layer_config[\"name\"]\n",
    "        kwargs.pop(\"name\", None)\n",
    "\n",
    "        super().__init__(name=name, trainable=trainable, **kwargs)\n",
    "\n",
    "        self.rank = rank\n",
    "        self.alpha = alpha\n",
    "        self._scale = alpha / rank\n",
    "\n",
    "        self.original_layer = original_layer\n",
    "        self.original_layer.trainable = False\n",
    "\n",
    "\n",
    "        self.total_iteration = total_iteration\n",
    "        self.start_step = int(total_iteration * start_percent)\n",
    "        self.end_step = int(total_iteration * end_percent)\n",
    "        self.min_decay_factor = min_decay_factor\n",
    "\n",
    "        #trainable=False, 이 변수가 텐서플로우의 자동 미분 및 최적화 과정에 의해 업데이트되지 않는다는 뜻\n",
    "        #수동으로 업데이트될 수 있습니다. 예를 들어, 반복문 안에서 이 변수의 값을 업데이트하는 로직을 작성할 수 있음!\n",
    "        self.current_step = tf.Variable(0, dtype=tf.int32, trainable=False)\n",
    "        self.decay_factor = tf.Variable(1.0, dtype=tf.float32, trainable=False)\n",
    "\n",
    "\n",
    "    def build(self, inputs_shape):\n",
    "\n",
    "        kernel_shape = self.original_layer.kernel.shape\n",
    "        bias_shape = self.original_layer.bias.shape\n",
    "        self.A_weight = self.add_weight(\n",
    "            name=\"lora_A_weight\",\n",
    "            shape= kernel_shape[:-1] + (self.rank,),\n",
    "            initializer=keras.initializers.VarianceScaling(\n",
    "                scale=math.sqrt(5), mode=\"fan_in\", distribution=\"uniform\"\n",
    "            ),\n",
    "            trainable=self.trainable,\n",
    "        )\n",
    "        \n",
    "        self.B_weight = self.add_weight(\n",
    "            name=\"lora_B_weight\",\n",
    "            shape=(self.rank, kernel_shape[-1]) ,\n",
    "            initializer=\"zeros\",\n",
    "            trainable=self.trainable,\n",
    "        )\n",
    "        self.C_weight = self.add_weight(\n",
    "            name=\"lora_C_weight\",\n",
    "            shape= bias_shape ,\n",
    "            initializer='zeros',\n",
    "            trainable=self.trainable,\n",
    "        )\n",
    "        super().build(inputs_shape)  \n",
    "\n",
    "\n",
    "\n",
    "    def call(self, inputs, training=None):\n",
    "            if training is None:\n",
    "                training = self.trainable\n",
    "            \n",
    "            lora_A_output = tf.einsum(self.original_layer.equation, inputs , self.A_weight)\n",
    "            lora_output = tf.matmul(lora_A_output, self.B_weight) * self._scale \n",
    "            \n",
    "            if training:\n",
    "                # Calculate the linear decay factor\n",
    "                if self.current_step < self.start_step:\n",
    "                    self.decay_factor.assign(1.0)  # Decay has not started yet\n",
    "                elif self.current_step > self.end_step:\n",
    "                    self.decay_factor.assign(tf.cast(self.min_decay_factor, dtype=tf.float32))  # Ensure float32 type for consistency\n",
    "                else:\n",
    "                # Linear decay between start_step and end_step\n",
    "                    self.decay_factor.assign(1.0 - ((tf.cast(self.current_step, dtype=tf.float32) - self.start_step) /\n",
    "                                        (self.end_step - self.start_step) *\n",
    "                                        (1.0 - tf.cast(self.min_decay_factor, dtype=tf.float32))))\n",
    "                \n",
    "\n",
    "                # Matrix multiplication for A and B weights with inputs\n",
    "                original_output = self.original_layer(inputs) * self.decay_factor\n",
    "                # 평균과 표준편차 계산\n",
    "                original_weight_matrix = self.original_layer.weights[0]\n",
    "                original_mean = tf.reduce_mean(original_weight_matrix, axis=0)\n",
    "                original_variance = tf.reduce_mean(tf.square(original_weight_matrix - original_mean), axis=0)\n",
    "                original_stddev = tf.sqrt(original_variance)\n",
    "\n",
    "                # decay_factor가 0.3보다 작으면 noise_mean과 noise_std를 0으로 설정\n",
    "                noise_mean = tf.where(self.decay_factor < 0.3, 0.0, original_mean * (1 - self.decay_factor))\n",
    "                noise_std = tf.where(self.decay_factor < 0.3, 0.0, original_stddev * tf.sqrt(1 - tf.square(self.decay_factor)))\n",
    "                noise = tf.random.normal(tf.shape(original_weight_matrix), mean=noise_mean, stddev=noise_std)\n",
    "\n",
    "                # Increment the step counter\n",
    "                self.current_step.assign_add(1)\n",
    "\n",
    "                return original_output * self.decay_factor + tf.einsum(self.original_layer.equation, inputs , noise ) + lora_output + self.C_weight\n",
    "\n",
    "            else:\n",
    "                # 추론 모드에서는 LoRA 출력만 반환\n",
    "                return lora_output + self.C_weight "
   ]
  },
  {
   "cell_type": "code",
   "execution_count": 49,
   "metadata": {},
   "outputs": [],
   "source": [
    "#EinsumLoraLayer_QKV\n",
    "import math\n",
    "from tensorflow import keras\n",
    "\n",
    "class EinsumLoraLayer_QKV(keras.layers.Layer):\n",
    "    def __init__(\n",
    "        self,\n",
    "        original_layer,\n",
    "        total_iteration = 1000 ,  # Total number of iterations for the decay\n",
    "        start_percent=0.05,  # The percentage of total_iteration when decay starts\n",
    "        end_percent=0.85,  # The percentage of total_iteration when decay ends\n",
    "        min_decay_factor=0,  # The minimum value that decay factor can take\n",
    "        rank=64,\n",
    "        alpha=32,\n",
    "        trainable=True,\n",
    "        **kwargs,\n",
    "    ):\n",
    "        original_layer_config = original_layer.get_config()\n",
    "        name = original_layer_config[\"name\"]\n",
    "        kwargs.pop(\"name\", None)\n",
    "\n",
    "        super().__init__(name=name, trainable=trainable, **kwargs)\n",
    "\n",
    "        self.rank = rank\n",
    "        self.alpha = alpha\n",
    "        self._scale = alpha / rank\n",
    "\n",
    "        self.original_layer = original_layer\n",
    "        self.original_layer.trainable = False\n",
    "\n",
    "\n",
    "        self.total_iteration = total_iteration\n",
    "        self.start_step = int(total_iteration * start_percent)\n",
    "        self.end_step = int(total_iteration * end_percent)\n",
    "        self.min_decay_factor = min_decay_factor\n",
    "\n",
    "        #trainable=False, 이 변수가 텐서플로우의 자동 미분 및 최적화 과정에 의해 업데이트되지 않는다는 뜻\n",
    "        #수동으로 업데이트될 수 있습니다. 예를 들어, 반복문 안에서 이 변수의 값을 업데이트하는 로직을 작성할 수 있음!\n",
    "        self.current_step = tf.Variable(0, dtype=tf.int32, trainable=False)\n",
    "        self.decay_factor = tf.Variable(1.0, dtype=tf.float32, trainable=False)\n",
    "\n",
    "\n",
    "    def build(self, inputs_shape):\n",
    "\n",
    "        kernel_shape = self.original_layer.kernel.shape\n",
    "        bias_shape = self.original_layer.bias.shape\n",
    "        self.A_weight = self.add_weight(\n",
    "            name=\"lora_A_weight\",\n",
    "            shape=(self.rank, kernel_shape[0]),\n",
    "            initializer=keras.initializers.VarianceScaling(\n",
    "                scale=math.sqrt(5), mode=\"fan_in\", distribution=\"uniform\"\n",
    "            ),\n",
    "            trainable=self.trainable,\n",
    "        )\n",
    "        \n",
    "        self.B_weight = self.add_weight(\n",
    "            name=\"lora_B_weight\",\n",
    "            shape=(self.rank,) + kernel_shape[1:],\n",
    "            initializer=\"zeros\",\n",
    "            trainable=self.trainable,\n",
    "        )\n",
    "        self.C_weight = self.add_weight(\n",
    "            name=\"lora_C_weight\",\n",
    "            shape= bias_shape ,\n",
    "            initializer='zeros',\n",
    "            trainable=self.trainable,\n",
    "        )\n",
    "        super().build(inputs_shape)  \n",
    "\n",
    "\n",
    "\n",
    "    def call(self, inputs, training=None):\n",
    "            if training is None:\n",
    "                training = self.trainable\n",
    "            \n",
    "            # Matrix multiplication for A and B weights with inputs\n",
    "            lora_A_output = tf.matmul(inputs, tf.transpose(self.A_weight)) #xA\n",
    "            lora_output = tf.einsum(self.original_layer.equation, lora_A_output , self.B_weight) * self._scale  # BAx Transpose back to [batch_size, original_layer.units]\n",
    "            \n",
    "            if training:\n",
    "                # Calculate the linear decay factor\n",
    "                if self.current_step < self.start_step:\n",
    "                    self.decay_factor.assign(1.0)  # Decay has not started yet\n",
    "                elif self.current_step > self.end_step:\n",
    "                    self.decay_factor.assign(tf.cast(self.min_decay_factor, dtype=tf.float32))  # Ensure float32 type for consistency\n",
    "                else:\n",
    "                # Linear decay between start_step and end_step\n",
    "                    self.decay_factor.assign(1.0 - ((tf.cast(self.current_step, dtype=tf.float32) - self.start_step) /\n",
    "                                        (self.end_step - self.start_step) *\n",
    "                                        (1.0 - tf.cast(self.min_decay_factor, dtype=tf.float32))))\n",
    "                \n",
    "\n",
    "                # Matrix multiplication for A and B weights with inputs\n",
    "                original_output = self.original_layer(inputs) * self.decay_factor\n",
    "                # 평균과 표준편차 계산\n",
    "                original_weight_matrix = self.original_layer.weights[0]\n",
    "                original_mean = tf.reduce_mean(original_weight_matrix, axis=0)\n",
    "                original_variance = tf.reduce_mean(tf.square(original_weight_matrix - original_mean), axis=0)\n",
    "                original_stddev = tf.sqrt(original_variance)\n",
    "\n",
    "                # decay_factor가 0.3보다 작으면 noise_mean과 noise_std를 0으로 설정\n",
    "                noise_mean = tf.where(self.decay_factor < 0.3, 0.0, original_mean * (1 - self.decay_factor))\n",
    "                noise_std = tf.where(self.decay_factor < 0.3, 0.0, original_stddev * tf.sqrt(1 - tf.square(self.decay_factor)))\n",
    "                noise = tf.random.normal(tf.shape(original_weight_matrix), mean=noise_mean, stddev=noise_std)\n",
    "\n",
    "                # Increment the step counter\n",
    "                self.current_step.assign_add(1)\n",
    "\n",
    "                return original_output * self.decay_factor +  tf.einsum(self.original_layer.equation, inputs , noise ) + lora_output + self.C_weight \n",
    "\n",
    "            else:\n",
    "                # 추론 모드에서는 LoRA 출력만 반환\n",
    "                return lora_output + self.C_weight "
   ]
  },
  {
   "cell_type": "markdown",
   "metadata": {},
   "source": [
    "### Creating LoRA Bert  Epoch 10, batch size = 32 rank = 32 \n"
   ]
  },
  {
   "cell_type": "code",
   "execution_count": 50,
   "metadata": {},
   "outputs": [],
   "source": [
    "epochs = 10\n",
    "batch_size = 32\n",
    "total_iteration= int(epochs * (dataset_size / batch_size))  # Total number of iterations for the decay"
   ]
  },
  {
   "cell_type": "code",
   "execution_count": 51,
   "metadata": {},
   "outputs": [],
   "source": [
    "# 원본 모델 우선 가져오기 \n",
    "lora_bert_3 = tf.keras.models.load_model(\"./model/bert-small-IMDB-original-model\")\n",
    "lora_bert_backbone = lora_bert_3.get_layer('bert_backbone_1')"
   ]
  },
  {
   "cell_type": "code",
   "execution_count": 52,
   "metadata": {},
   "outputs": [],
   "source": [
    "def replace_transformerblocks_with_lora(bert_backbone, layer_name, total_iteration, rank=32, alpha=32, input_shape = (None, 256, 128)):\n",
    "    # Access the specific transformer layer within the bert_backbone\n",
    "    transformer_layer = bert_backbone.get_layer(layer_name)\n",
    "\n",
    "\n",
    "    # Replace feedforward_intermediate_dense, feedforward_output_dense \n",
    "    #transformer_layer._feedforward_intermediate_dense = DenseLoraLayer(\n",
    "    #    original_layer=transformer_layer._feedforward_intermediate_dense,\n",
    "    #    rank=rank,\n",
    "    #    alpha=alpha,\n",
    "    #    total_iteration=total_iteration,\n",
    "    #    trainable=True\n",
    "    #)\n",
    "\n",
    "    #transformer_layer._feedforward_output_dense = DenseLoraLayer(\n",
    "    #    original_layer=transformer_layer._feedforward_output_dense,\n",
    "    #    rank=rank,\n",
    "    #    alpha=alpha,\n",
    "    #    total_iteration=total_iteration,\n",
    "    #    trainable=True\n",
    "    #)\n",
    "\n",
    "    # Replace query, key, value, and output dense layers with LoRA layers\n",
    "    self_attention_layer = transformer_layer._self_attention_layer\n",
    "\n",
    "    self_attention_layer._output_dense = EinsumLoraLayer_O(\n",
    "        original_layer=self_attention_layer._output_dense,\n",
    "        rank=rank,\n",
    "        alpha=alpha,\n",
    "        total_iteration=total_iteration,\n",
    "        trainable=True\n",
    "    )\n",
    "    self_attention_layer._query_dense = EinsumLoraLayer_QKV(\n",
    "        original_layer=self_attention_layer._query_dense,\n",
    "        rank=rank,\n",
    "        alpha=alpha,\n",
    "        total_iteration=total_iteration,\n",
    "        trainable=True\n",
    "    )\n",
    "    self_attention_layer._value_dense = EinsumLoraLayer_QKV(\n",
    "        original_layer=self_attention_layer._value_dense,\n",
    "        rank=rank,\n",
    "        alpha=alpha,\n",
    "        total_iteration=total_iteration,\n",
    "        trainable=True\n",
    "    )\n",
    "    self_attention_layer._key_dense = EinsumLoraLayer_QKV(\n",
    "        original_layer=self_attention_layer._key_dense,\n",
    "        rank=rank,\n",
    "        alpha=alpha,\n",
    "        total_iteration=total_iteration,\n",
    "        trainable=True\n",
    "    )\n",
    "\n",
    "    # Build the modified layers\n",
    "    #transformer_layer._feedforward_intermediate_dense.build(input_shape)\n",
    "    #transformer_layer._feedforward_output_dense.build(input_shape)\n",
    "    #문제해결 전까지 FREEZE\n",
    "    transformer_layer._feedforward_intermediate_dense.trainable = False \n",
    "    transformer_layer._feedforward_output_dense.trainable = False\n",
    "\n",
    "    self_attention_layer._output_dense.build(input_shape)\n",
    "    self_attention_layer._query_dense.build(input_shape)\n",
    "    self_attention_layer._key_dense.build(input_shape)\n",
    "    self_attention_layer._value_dense.build(input_shape)\n",
    "\n",
    "\n",
    "\n"
   ]
  },
  {
   "cell_type": "code",
   "execution_count": 53,
   "metadata": {},
   "outputs": [],
   "source": [
    "\n",
    "\n",
    "# Apply LoRA to pooled_dense layer\n",
    "#pooled_dense_layer = lora_bert_backbone.get_layer('pooled_dense')\n",
    "#pooled_dense_layer = DenseLoraLayer(\n",
    "#    original_layer=lora_bert_backbone.get_layer('pooled_dense'),\n",
    "#    rank=32,\n",
    "#    alpha=32,\n",
    "#    total_iteration=total_iteration,\n",
    "#    trainable=True\n",
    "#)\n",
    "#pooled_dense_layer.build((None, 256, 128))\n",
    "\n",
    "pooled_dense_layer = lora_bert_backbone.get_layer('pooled_dense')\n",
    "pooled_dense_layer.trainable = False \n",
    "\n",
    "\n",
    "\n"
   ]
  },
  {
   "cell_type": "code",
   "execution_count": 54,
   "metadata": {},
   "outputs": [],
   "source": [
    "\n",
    "# Apply LoRA Layers to Transformer Encoders and Freeze Layer Norm layer in Transformer Encoder \n",
    "\n",
    "num_transformer_layers = 4\n",
    "for i in range(num_transformer_layers):\n",
    "    layer_name = f\"transformer_layer_{i}\"\n",
    "    transformer_layer = lora_bert_backbone.get_layer(layer_name) # 해당 레이어를 가져옵니다.\n",
    "\n",
    "    # Set the self-attention layer normalization to be non-trainable\n",
    "    # transformer_layer._self_attention_layer_norm 레이어의 모든 가중치를 학습 불가능하게 설정\n",
    "    for weight in transformer_layer._self_attention_layer_norm.weights:\n",
    "        weight._trainable = False\n",
    "    for weight in transformer_layer._feedforward_layer_norm.weights:\n",
    "        weight._trainable = False\n",
    "\n",
    "\n",
    "    # LoRA 레이어 적용\n",
    "    replace_transformerblocks_with_lora(lora_bert_backbone, layer_name, total_iteration)\n"
   ]
  },
  {
   "cell_type": "code",
   "execution_count": 55,
   "metadata": {},
   "outputs": [],
   "source": [
    "# Freeze Logits \n",
    "logits = lora_bert_3.get_layer('logits')\n",
    "logits.trainable = False\n",
    "\n",
    "\n",
    "\n",
    "# Freeze Bert Backbone (Except Transformer Encdoer, PooledDense )\n",
    "token_embedding_layer = lora_bert_backbone.get_layer('token_embedding')\n",
    "position_embedding_layer = lora_bert_backbone.get_layer('position_embedding')\n",
    "segment_embedding_layer = lora_bert_backbone.get_layer('segment_embedding')\n",
    "embeddings_layer_norm_layer = lora_bert_backbone.get_layer('embeddings_layer_norm')\n",
    "\n",
    "token_embedding_layer.trainable = False\n",
    "position_embedding_layer.trainable = False\n",
    "segment_embedding_layer.trainable = False\n",
    "embeddings_layer_norm_layer.trainable = False\n"
   ]
  },
  {
   "cell_type": "code",
   "execution_count": 56,
   "metadata": {},
   "outputs": [
    {
     "name": "stdout",
     "output_type": "stream",
     "text": [
      "Layer: token_ids\n",
      "  Trainable parameters: 0.0\n",
      "  Non-trainable parameters: 0.0\n",
      "Layer: token_embedding\n",
      "  Trainable parameters: 0.0\n",
      "  Non-trainable parameters: 15627264\n",
      "Layer: segment_ids\n",
      "  Trainable parameters: 0.0\n",
      "  Non-trainable parameters: 0.0\n",
      "Layer: position_embedding\n",
      "  Trainable parameters: 0.0\n",
      "  Non-trainable parameters: 262144\n",
      "Layer: segment_embedding\n",
      "  Trainable parameters: 0.0\n",
      "  Non-trainable parameters: 1024\n",
      "Layer: add_3\n",
      "  Trainable parameters: 0.0\n",
      "  Non-trainable parameters: 0.0\n",
      "Layer: embeddings_layer_norm\n",
      "  Trainable parameters: 0.0\n",
      "  Non-trainable parameters: 1024\n",
      "Layer: embeddings_dropout\n",
      "  Trainable parameters: 0.0\n",
      "  Non-trainable parameters: 0.0\n",
      "Layer: padding_mask\n",
      "  Trainable parameters: 0.0\n",
      "  Non-trainable parameters: 0.0\n",
      "Layer: transformer_layer_0\n",
      "  Trainable parameters: 135168\n",
      "  Non-trainable parameters: 3150344\n",
      "Layer: transformer_layer_1\n",
      "  Trainable parameters: 135168\n",
      "  Non-trainable parameters: 3150344\n",
      "Layer: transformer_layer_2\n",
      "  Trainable parameters: 135168\n",
      "  Non-trainable parameters: 3150344\n",
      "Layer: transformer_layer_3\n",
      "  Trainable parameters: 135168\n",
      "  Non-trainable parameters: 3150344\n",
      "Layer: pooled_dense\n",
      "  Trainable parameters: 0.0\n",
      "  Non-trainable parameters: 262656\n",
      "Layer: tf.__operators__.getitem_3\n",
      "  Trainable parameters: 0.0\n",
      "  Non-trainable parameters: 0.0\n"
     ]
    }
   ],
   "source": [
    "import numpy as np\n",
    "import tensorflow as tf\n",
    "\n",
    "# 모델의 각 레이어를 순회하며 파라미터 수를 계산\n",
    "for layer in lora_bert_backbone.layers:\n",
    "    trainable_count = np.sum([tf.size(w).numpy() for w in layer.trainable_weights])\n",
    "    non_trainable_count = np.sum([tf.size(w).numpy() for w in layer.non_trainable_weights])\n",
    "\n",
    "    print(f\"Layer: {layer.name}\")\n",
    "    print(f\"  Trainable parameters: {trainable_count}\")\n",
    "    print(f\"  Non-trainable parameters: {non_trainable_count}\")\n"
   ]
  },
  {
   "cell_type": "code",
   "execution_count": 57,
   "metadata": {},
   "outputs": [
    {
     "data": {
      "text/html": [
       "<pre style=\"white-space:pre;overflow-x:auto;line-height:normal;font-family:Menlo,'DejaVu Sans Mono',consolas,'Courier New',monospace\"><span style=\"font-weight: bold\">Model: \"bert_classifier_1\"</span>\n",
       "</pre>\n"
      ],
      "text/plain": [
       "\u001b[1mModel: \"bert_classifier_1\"\u001b[0m\n"
      ]
     },
     "metadata": {},
     "output_type": "display_data"
    },
    {
     "data": {
      "text/html": [
       "<pre style=\"white-space:pre;overflow-x:auto;line-height:normal;font-family:Menlo,'DejaVu Sans Mono',consolas,'Courier New',monospace\">┏━━━━━━━━━━━━━━━━━━━━━━━━━━━━━━━━━━━━━━━━━━━━━━━┳━━━━━━━━━━━━━━━━━━━━━━━━━━━━━━━━━━━━━━━━┳━━━━━━━━━━━━━━━━━┓\n",
       "┃<span style=\"font-weight: bold\"> Layer (type)                                  </span>┃<span style=\"font-weight: bold\"> Output Shape                           </span>┃<span style=\"font-weight: bold\">         Param # </span>┃\n",
       "┡━━━━━━━━━━━━━━━━━━━━━━━━━━━━━━━━━━━━━━━━━━━━━━━╇━━━━━━━━━━━━━━━━━━━━━━━━━━━━━━━━━━━━━━━━╇━━━━━━━━━━━━━━━━━┩\n",
       "│ padding_mask (<span style=\"color: #0087ff; text-decoration-color: #0087ff\">InputLayer</span>)                     │ (<span style=\"color: #00d7ff; text-decoration-color: #00d7ff\">None</span>, <span style=\"color: #00d7ff; text-decoration-color: #00d7ff\">None</span>)                           │               <span style=\"color: #00af00; text-decoration-color: #00af00\">0</span> │\n",
       "├───────────────────────────────────────────────┼────────────────────────────────────────┼─────────────────┤\n",
       "│ segment_ids (<span style=\"color: #0087ff; text-decoration-color: #0087ff\">InputLayer</span>)                      │ (<span style=\"color: #00d7ff; text-decoration-color: #00d7ff\">None</span>, <span style=\"color: #00d7ff; text-decoration-color: #00d7ff\">None</span>)                           │               <span style=\"color: #00af00; text-decoration-color: #00af00\">0</span> │\n",
       "├───────────────────────────────────────────────┼────────────────────────────────────────┼─────────────────┤\n",
       "│ token_ids (<span style=\"color: #0087ff; text-decoration-color: #0087ff\">InputLayer</span>)                        │ (<span style=\"color: #00d7ff; text-decoration-color: #00d7ff\">None</span>, <span style=\"color: #00d7ff; text-decoration-color: #00d7ff\">None</span>)                           │               <span style=\"color: #00af00; text-decoration-color: #00af00\">0</span> │\n",
       "├───────────────────────────────────────────────┼────────────────────────────────────────┼─────────────────┤\n",
       "│ bert_backbone_1 (<span style=\"color: #0087ff; text-decoration-color: #0087ff\">BertBackbone</span>)                │ {sequence_output: (<span style=\"color: #00d7ff; text-decoration-color: #00d7ff\">None</span>, <span style=\"color: #00d7ff; text-decoration-color: #00d7ff\">None</span>, <span style=\"color: #00af00; text-decoration-color: #00af00\">512</span>),   │      <span style=\"color: #00af00; text-decoration-color: #00af00\">29,296,160</span> │\n",
       "│                                               │ pooled_output: (<span style=\"color: #00d7ff; text-decoration-color: #00d7ff\">None</span>, <span style=\"color: #00af00; text-decoration-color: #00af00\">512</span>)}            │                 │\n",
       "├───────────────────────────────────────────────┼────────────────────────────────────────┼─────────────────┤\n",
       "│ dropout_3 (<span style=\"color: #0087ff; text-decoration-color: #0087ff\">Dropout</span>)                           │ (<span style=\"color: #00d7ff; text-decoration-color: #00d7ff\">None</span>, <span style=\"color: #00af00; text-decoration-color: #00af00\">512</span>)                            │               <span style=\"color: #00af00; text-decoration-color: #00af00\">0</span> │\n",
       "├───────────────────────────────────────────────┼────────────────────────────────────────┼─────────────────┤\n",
       "│ logits (<span style=\"color: #0087ff; text-decoration-color: #0087ff\">Dense</span>)                                │ (<span style=\"color: #00d7ff; text-decoration-color: #00d7ff\">None</span>, <span style=\"color: #00af00; text-decoration-color: #00af00\">2</span>)                              │           <span style=\"color: #00af00; text-decoration-color: #00af00\">1,026</span> │\n",
       "└───────────────────────────────────────────────┴────────────────────────────────────────┴─────────────────┘\n",
       "</pre>\n"
      ],
      "text/plain": [
       "┏━━━━━━━━━━━━━━━━━━━━━━━━━━━━━━━━━━━━━━━━━━━━━━━┳━━━━━━━━━━━━━━━━━━━━━━━━━━━━━━━━━━━━━━━━┳━━━━━━━━━━━━━━━━━┓\n",
       "┃\u001b[1m \u001b[0m\u001b[1mLayer (type)                                 \u001b[0m\u001b[1m \u001b[0m┃\u001b[1m \u001b[0m\u001b[1mOutput Shape                          \u001b[0m\u001b[1m \u001b[0m┃\u001b[1m \u001b[0m\u001b[1m        Param #\u001b[0m\u001b[1m \u001b[0m┃\n",
       "┡━━━━━━━━━━━━━━━━━━━━━━━━━━━━━━━━━━━━━━━━━━━━━━━╇━━━━━━━━━━━━━━━━━━━━━━━━━━━━━━━━━━━━━━━━╇━━━━━━━━━━━━━━━━━┩\n",
       "│ padding_mask (\u001b[38;5;33mInputLayer\u001b[0m)                     │ (\u001b[38;5;45mNone\u001b[0m, \u001b[38;5;45mNone\u001b[0m)                           │               \u001b[38;5;34m0\u001b[0m │\n",
       "├───────────────────────────────────────────────┼────────────────────────────────────────┼─────────────────┤\n",
       "│ segment_ids (\u001b[38;5;33mInputLayer\u001b[0m)                      │ (\u001b[38;5;45mNone\u001b[0m, \u001b[38;5;45mNone\u001b[0m)                           │               \u001b[38;5;34m0\u001b[0m │\n",
       "├───────────────────────────────────────────────┼────────────────────────────────────────┼─────────────────┤\n",
       "│ token_ids (\u001b[38;5;33mInputLayer\u001b[0m)                        │ (\u001b[38;5;45mNone\u001b[0m, \u001b[38;5;45mNone\u001b[0m)                           │               \u001b[38;5;34m0\u001b[0m │\n",
       "├───────────────────────────────────────────────┼────────────────────────────────────────┼─────────────────┤\n",
       "│ bert_backbone_1 (\u001b[38;5;33mBertBackbone\u001b[0m)                │ {sequence_output: (\u001b[38;5;45mNone\u001b[0m, \u001b[38;5;45mNone\u001b[0m, \u001b[38;5;34m512\u001b[0m),   │      \u001b[38;5;34m29,296,160\u001b[0m │\n",
       "│                                               │ pooled_output: (\u001b[38;5;45mNone\u001b[0m, \u001b[38;5;34m512\u001b[0m)}            │                 │\n",
       "├───────────────────────────────────────────────┼────────────────────────────────────────┼─────────────────┤\n",
       "│ dropout_3 (\u001b[38;5;33mDropout\u001b[0m)                           │ (\u001b[38;5;45mNone\u001b[0m, \u001b[38;5;34m512\u001b[0m)                            │               \u001b[38;5;34m0\u001b[0m │\n",
       "├───────────────────────────────────────────────┼────────────────────────────────────────┼─────────────────┤\n",
       "│ logits (\u001b[38;5;33mDense\u001b[0m)                                │ (\u001b[38;5;45mNone\u001b[0m, \u001b[38;5;34m2\u001b[0m)                              │           \u001b[38;5;34m1,026\u001b[0m │\n",
       "└───────────────────────────────────────────────┴────────────────────────────────────────┴─────────────────┘\n"
      ]
     },
     "metadata": {},
     "output_type": "display_data"
    },
    {
     "data": {
      "text/html": [
       "<pre style=\"white-space:pre;overflow-x:auto;line-height:normal;font-family:Menlo,'DejaVu Sans Mono',consolas,'Courier New',monospace\"><span style=\"font-weight: bold\"> Total params: </span><span style=\"color: #00af00; text-decoration-color: #00af00\">29,297,186</span> (111.76 MB)\n",
       "</pre>\n"
      ],
      "text/plain": [
       "\u001b[1m Total params: \u001b[0m\u001b[38;5;34m29,297,186\u001b[0m (111.76 MB)\n"
      ]
     },
     "metadata": {},
     "output_type": "display_data"
    },
    {
     "data": {
      "text/html": [
       "<pre style=\"white-space:pre;overflow-x:auto;line-height:normal;font-family:Menlo,'DejaVu Sans Mono',consolas,'Courier New',monospace\"><span style=\"font-weight: bold\"> Trainable params: </span><span style=\"color: #00af00; text-decoration-color: #00af00\">540,672</span> (2.06 MB)\n",
       "</pre>\n"
      ],
      "text/plain": [
       "\u001b[1m Trainable params: \u001b[0m\u001b[38;5;34m540,672\u001b[0m (2.06 MB)\n"
      ]
     },
     "metadata": {},
     "output_type": "display_data"
    },
    {
     "data": {
      "text/html": [
       "<pre style=\"white-space:pre;overflow-x:auto;line-height:normal;font-family:Menlo,'DejaVu Sans Mono',consolas,'Courier New',monospace\"><span style=\"font-weight: bold\"> Non-trainable params: </span><span style=\"color: #00af00; text-decoration-color: #00af00\">28,756,514</span> (109.70 MB)\n",
       "</pre>\n"
      ],
      "text/plain": [
       "\u001b[1m Non-trainable params: \u001b[0m\u001b[38;5;34m28,756,514\u001b[0m (109.70 MB)\n"
      ]
     },
     "metadata": {},
     "output_type": "display_data"
    }
   ],
   "source": [
    "lora_bert_3.summary()"
   ]
  },
  {
   "cell_type": "code",
   "execution_count": 58,
   "metadata": {},
   "outputs": [],
   "source": [
    "model_name =  \"bert_small_en_uncased\"\n",
    "preprocessor = keras_nlp.models.BertPreprocessor.from_preset(\n",
    "    model_name,\n",
    "    sequence_length=256,\n",
    ")\n",
    "batch_size = 32\n",
    "train_cached = (\n",
    "    training_data\n",
    "    .map(preprocessor)  # Apply the preprocessor\n",
    "    .batch(batch_size)  # Batch the data\n",
    "    .cache()  # Cache the data\n",
    "    .prefetch(tf.data.experimental.AUTOTUNE)  # Prefetch for efficiency\n",
    ")\n",
    "test_cached = (\n",
    "    validation_data\n",
    "    .map(preprocessor)  # Apply the preprocessor\n",
    "    .batch(batch_size)  # Batch the data\n",
    "    .cache()  # Cache the data\n",
    "    .prefetch(tf.data.experimental.AUTOTUNE)  # Prefetch for efficiency\n",
    ")"
   ]
  },
  {
   "cell_type": "code",
   "execution_count": 59,
   "metadata": {},
   "outputs": [],
   "source": [
    "\n",
    "lora_bert_3.compile(\n",
    "    loss=keras.losses.BinaryCrossentropy(),\n",
    "    optimizer=keras.optimizers.Adam(learning_rate=5e-5),  \n",
    "    #jit_compile=True,\n",
    "    metrics=[\"accuracy\"],\n",
    ")"
   ]
  },
  {
   "cell_type": "code",
   "execution_count": 60,
   "metadata": {},
   "outputs": [
    {
     "name": "stdout",
     "output_type": "stream",
     "text": [
      "Epoch 1/10\n",
      "WARNING:tensorflow:Gradients do not exist for variables ['transformer_layer_0/gamma:0', 'transformer_layer_0/beta:0', 'transformer_layer_0/gamma:0', 'transformer_layer_0/beta:0', 'transformer_layer_1/gamma:0', 'transformer_layer_1/beta:0', 'transformer_layer_1/gamma:0', 'transformer_layer_1/beta:0', 'transformer_layer_2/gamma:0', 'transformer_layer_2/beta:0', 'transformer_layer_2/gamma:0', 'transformer_layer_2/beta:0', 'transformer_layer_3/gamma:0', 'transformer_layer_3/beta:0', 'transformer_layer_3/gamma:0', 'transformer_layer_3/beta:0'] when minimizing the loss. If you're using `model.compile()`, did you forget to provide a `loss` argument?\n",
      "WARNING:tensorflow:Gradients do not exist for variables ['transformer_layer_0/gamma:0', 'transformer_layer_0/beta:0', 'transformer_layer_0/gamma:0', 'transformer_layer_0/beta:0', 'transformer_layer_1/gamma:0', 'transformer_layer_1/beta:0', 'transformer_layer_1/gamma:0', 'transformer_layer_1/beta:0', 'transformer_layer_2/gamma:0', 'transformer_layer_2/beta:0', 'transformer_layer_2/gamma:0', 'transformer_layer_2/beta:0', 'transformer_layer_3/gamma:0', 'transformer_layer_3/beta:0', 'transformer_layer_3/gamma:0', 'transformer_layer_3/beta:0'] when minimizing the loss. If you're using `model.compile()`, did you forget to provide a `loss` argument?\n",
      "WARNING:tensorflow:Gradients do not exist for variables ['transformer_layer_0/gamma:0', 'transformer_layer_0/beta:0', 'transformer_layer_0/gamma:0', 'transformer_layer_0/beta:0', 'transformer_layer_1/gamma:0', 'transformer_layer_1/beta:0', 'transformer_layer_1/gamma:0', 'transformer_layer_1/beta:0', 'transformer_layer_2/gamma:0', 'transformer_layer_2/beta:0', 'transformer_layer_2/gamma:0', 'transformer_layer_2/beta:0', 'transformer_layer_3/gamma:0', 'transformer_layer_3/beta:0', 'transformer_layer_3/gamma:0', 'transformer_layer_3/beta:0'] when minimizing the loss. If you're using `model.compile()`, did you forget to provide a `loss` argument?\n",
      "WARNING:tensorflow:Gradients do not exist for variables ['transformer_layer_0/gamma:0', 'transformer_layer_0/beta:0', 'transformer_layer_0/gamma:0', 'transformer_layer_0/beta:0', 'transformer_layer_1/gamma:0', 'transformer_layer_1/beta:0', 'transformer_layer_1/gamma:0', 'transformer_layer_1/beta:0', 'transformer_layer_2/gamma:0', 'transformer_layer_2/beta:0', 'transformer_layer_2/gamma:0', 'transformer_layer_2/beta:0', 'transformer_layer_3/gamma:0', 'transformer_layer_3/beta:0', 'transformer_layer_3/gamma:0', 'transformer_layer_3/beta:0'] when minimizing the loss. If you're using `model.compile()`, did you forget to provide a `loss` argument?\n",
      "782/782 [==============================] - 203s 236ms/step - loss: 0.1847 - accuracy: 0.9299 - val_loss: 0.6962 - val_accuracy: 0.5007\n",
      "Epoch 2/10\n",
      "782/782 [==============================] - 179s 229ms/step - loss: 0.2533 - accuracy: 0.8982 - val_loss: 0.7000 - val_accuracy: 0.5007\n",
      "Epoch 3/10\n",
      "782/782 [==============================] - 179s 229ms/step - loss: 0.3351 - accuracy: 0.8552 - val_loss: 0.6943 - val_accuracy: 0.5007\n",
      "Epoch 4/10\n",
      "782/782 [==============================] - 179s 229ms/step - loss: 0.3758 - accuracy: 0.8324 - val_loss: 0.6352 - val_accuracy: 0.5288\n",
      "Epoch 5/10\n",
      "782/782 [==============================] - 230s 295ms/step - loss: 0.3828 - accuracy: 0.8305 - val_loss: 0.4506 - val_accuracy: 0.8001\n",
      "Epoch 6/10\n",
      "782/782 [==============================] - 179s 229ms/step - loss: 0.3736 - accuracy: 0.8366 - val_loss: 0.3591 - val_accuracy: 0.8427\n",
      "Epoch 7/10\n",
      "782/782 [==============================] - 178s 228ms/step - loss: 0.3229 - accuracy: 0.8618 - val_loss: 0.3380 - val_accuracy: 0.8535\n",
      "Epoch 8/10\n",
      "782/782 [==============================] - 178s 228ms/step - loss: 0.3132 - accuracy: 0.8666 - val_loss: 0.3359 - val_accuracy: 0.8562\n",
      "Epoch 9/10\n",
      "782/782 [==============================] - 178s 228ms/step - loss: 0.3072 - accuracy: 0.8690 - val_loss: 0.3342 - val_accuracy: 0.8584\n",
      "Epoch 10/10\n",
      "782/782 [==============================] - 178s 227ms/step - loss: 0.3042 - accuracy: 0.8704 - val_loss: 0.3338 - val_accuracy: 0.8581\n"
     ]
    },
    {
     "data": {
      "image/png": "[encoded data removed]",
      "text/plain": [
       "<Figure size 1200x600 with 2 Axes>"
      ]
     },
     "metadata": {},
     "output_type": "display_data"
    }
   ],
   "source": [
    "history = lora_bert_3.fit(train_cached, validation_data=test_cached, epochs=10)\n",
    "plot_training_history(history)"
   ]
  },
  {
   "cell_type": "code",
   "execution_count": 61,
   "metadata": {},
   "outputs": [
    {
     "name": "stdout",
     "output_type": "stream",
     "text": [
      "216/782 [=======>......................] - ETA: 33s - loss: 0.3244 - accuracy: 0.8575"
     ]
    },
    {
     "ename": "KeyboardInterrupt",
     "evalue": "",
     "output_type": "error",
     "traceback": [
      "\u001b[0;31m---------------------------------------------------------------------------\u001b[0m",
      "\u001b[0;31mKeyboardInterrupt\u001b[0m                         Traceback (most recent call last)",
      "Cell \u001b[0;32mIn[61], line 1\u001b[0m\n\u001b[0;32m----> 1\u001b[0m \u001b[43mlora_bert_3\u001b[49m\u001b[38;5;241;43m.\u001b[39;49m\u001b[43mevaluate\u001b[49m\u001b[43m(\u001b[49m\u001b[43mtest_cached\u001b[49m\u001b[43m)\u001b[49m\n",
      "File \u001b[0;32m/usr/local/lib/python3.11/dist-packages/keras_nlp/src/utils/pipeline_model.py:228\u001b[0m, in \u001b[0;36mPipelineModel.evaluate\u001b[0;34m(self, x, y, batch_size, sample_weight, **kwargs)\u001b[0m\n\u001b[1;32m    224\u001b[0m \u001b[38;5;28;01mif\u001b[39;00m \u001b[38;5;28mself\u001b[39m\u001b[38;5;241m.\u001b[39minclude_preprocessing:\n\u001b[1;32m    225\u001b[0m     x \u001b[38;5;241m=\u001b[39m x\u001b[38;5;241m.\u001b[39mmap(\n\u001b[1;32m    226\u001b[0m         \u001b[38;5;28mself\u001b[39m\u001b[38;5;241m.\u001b[39mpreprocess_samples, num_parallel_calls\u001b[38;5;241m=\u001b[39mtf\u001b[38;5;241m.\u001b[39mdata\u001b[38;5;241m.\u001b[39mAUTOTUNE\n\u001b[1;32m    227\u001b[0m     )\u001b[38;5;241m.\u001b[39mprefetch(tf\u001b[38;5;241m.\u001b[39mdata\u001b[38;5;241m.\u001b[39mAUTOTUNE)\n\u001b[0;32m--> 228\u001b[0m \u001b[38;5;28;01mreturn\u001b[39;00m \u001b[38;5;28;43msuper\u001b[39;49m\u001b[43m(\u001b[49m\u001b[43m)\u001b[49m\u001b[38;5;241;43m.\u001b[39;49m\u001b[43mevaluate\u001b[49m\u001b[43m(\u001b[49m\n\u001b[1;32m    229\u001b[0m \u001b[43m    \u001b[49m\u001b[43mx\u001b[49m\u001b[38;5;241;43m=\u001b[39;49m\u001b[43mx\u001b[49m\u001b[43m,\u001b[49m\n\u001b[1;32m    230\u001b[0m \u001b[43m    \u001b[49m\u001b[43my\u001b[49m\u001b[38;5;241;43m=\u001b[39;49m\u001b[38;5;28;43;01mNone\u001b[39;49;00m\u001b[43m,\u001b[49m\n\u001b[1;32m    231\u001b[0m \u001b[43m    \u001b[49m\u001b[43mbatch_size\u001b[49m\u001b[38;5;241;43m=\u001b[39;49m\u001b[38;5;28;43;01mNone\u001b[39;49;00m\u001b[43m,\u001b[49m\n\u001b[1;32m    232\u001b[0m \u001b[43m    \u001b[49m\u001b[38;5;241;43m*\u001b[39;49m\u001b[38;5;241;43m*\u001b[39;49m\u001b[43mkwargs\u001b[49m\u001b[43m,\u001b[49m\n\u001b[1;32m    233\u001b[0m \u001b[43m\u001b[49m\u001b[43m)\u001b[49m\n",
      "File \u001b[0;32m/usr/local/lib/python3.11/dist-packages/keras/src/utils/traceback_utils.py:65\u001b[0m, in \u001b[0;36mfilter_traceback.<locals>.error_handler\u001b[0;34m(*args, **kwargs)\u001b[0m\n\u001b[1;32m     63\u001b[0m filtered_tb \u001b[38;5;241m=\u001b[39m \u001b[38;5;28;01mNone\u001b[39;00m\n\u001b[1;32m     64\u001b[0m \u001b[38;5;28;01mtry\u001b[39;00m:\n\u001b[0;32m---> 65\u001b[0m     \u001b[38;5;28;01mreturn\u001b[39;00m \u001b[43mfn\u001b[49m\u001b[43m(\u001b[49m\u001b[38;5;241;43m*\u001b[39;49m\u001b[43margs\u001b[49m\u001b[43m,\u001b[49m\u001b[43m \u001b[49m\u001b[38;5;241;43m*\u001b[39;49m\u001b[38;5;241;43m*\u001b[39;49m\u001b[43mkwargs\u001b[49m\u001b[43m)\u001b[49m\n\u001b[1;32m     66\u001b[0m \u001b[38;5;28;01mexcept\u001b[39;00m \u001b[38;5;167;01mException\u001b[39;00m \u001b[38;5;28;01mas\u001b[39;00m e:\n\u001b[1;32m     67\u001b[0m     filtered_tb \u001b[38;5;241m=\u001b[39m _process_traceback_frames(e\u001b[38;5;241m.\u001b[39m__traceback__)\n",
      "File \u001b[0;32m/usr/local/lib/python3.11/dist-packages/keras/src/engine/training.py:2272\u001b[0m, in \u001b[0;36mModel.evaluate\u001b[0;34m(self, x, y, batch_size, verbose, sample_weight, steps, callbacks, max_queue_size, workers, use_multiprocessing, return_dict, **kwargs)\u001b[0m\n\u001b[1;32m   2268\u001b[0m             \u001b[38;5;28;01mwith\u001b[39;00m tf\u001b[38;5;241m.\u001b[39mprofiler\u001b[38;5;241m.\u001b[39mexperimental\u001b[38;5;241m.\u001b[39mTrace(\n\u001b[1;32m   2269\u001b[0m                 \u001b[38;5;124m\"\u001b[39m\u001b[38;5;124mtest\u001b[39m\u001b[38;5;124m\"\u001b[39m, step_num\u001b[38;5;241m=\u001b[39mstep, _r\u001b[38;5;241m=\u001b[39m\u001b[38;5;241m1\u001b[39m\n\u001b[1;32m   2270\u001b[0m             ):\n\u001b[1;32m   2271\u001b[0m                 callbacks\u001b[38;5;241m.\u001b[39mon_test_batch_begin(step)\n\u001b[0;32m-> 2272\u001b[0m                 logs \u001b[38;5;241m=\u001b[39m \u001b[43mtest_function_runner\u001b[49m\u001b[38;5;241;43m.\u001b[39;49m\u001b[43mrun_step\u001b[49m\u001b[43m(\u001b[49m\n\u001b[1;32m   2273\u001b[0m \u001b[43m                    \u001b[49m\u001b[43mdataset_or_iterator\u001b[49m\u001b[43m,\u001b[49m\n\u001b[1;32m   2274\u001b[0m \u001b[43m                    \u001b[49m\u001b[43mdata_handler\u001b[49m\u001b[43m,\u001b[49m\n\u001b[1;32m   2275\u001b[0m \u001b[43m                    \u001b[49m\u001b[43mstep\u001b[49m\u001b[43m,\u001b[49m\n\u001b[1;32m   2276\u001b[0m \u001b[43m                    \u001b[49m\u001b[38;5;28;43mself\u001b[39;49m\u001b[38;5;241;43m.\u001b[39;49m\u001b[43m_pss_evaluation_shards\u001b[49m\u001b[43m,\u001b[49m\n\u001b[1;32m   2277\u001b[0m \u001b[43m                \u001b[49m\u001b[43m)\u001b[49m\n\u001b[1;32m   2279\u001b[0m logs \u001b[38;5;241m=\u001b[39m tf_utils\u001b[38;5;241m.\u001b[39msync_to_numpy_or_python_type(logs)\n\u001b[1;32m   2280\u001b[0m \u001b[38;5;66;03m# Override with model metrics instead of last step logs\u001b[39;00m\n",
      "File \u001b[0;32m/usr/local/lib/python3.11/dist-packages/keras/src/engine/training.py:4079\u001b[0m, in \u001b[0;36m_TestFunction.run_step\u001b[0;34m(self, dataset_or_iterator, data_handler, step, unused_shards)\u001b[0m\n\u001b[1;32m   4078\u001b[0m \u001b[38;5;28;01mdef\u001b[39;00m \u001b[38;5;21mrun_step\u001b[39m(\u001b[38;5;28mself\u001b[39m, dataset_or_iterator, data_handler, step, unused_shards):\n\u001b[0;32m-> 4079\u001b[0m     tmp_logs \u001b[38;5;241m=\u001b[39m \u001b[38;5;28;43mself\u001b[39;49m\u001b[38;5;241;43m.\u001b[39;49m\u001b[43m_function\u001b[49m\u001b[43m(\u001b[49m\u001b[43mdataset_or_iterator\u001b[49m\u001b[43m)\u001b[49m\n\u001b[1;32m   4080\u001b[0m     \u001b[38;5;28;01mif\u001b[39;00m data_handler\u001b[38;5;241m.\u001b[39mshould_sync:\n\u001b[1;32m   4081\u001b[0m         context\u001b[38;5;241m.\u001b[39masync_wait()\n",
      "File \u001b[0;32m/usr/local/lib/python3.11/dist-packages/tensorflow/python/util/traceback_utils.py:150\u001b[0m, in \u001b[0;36mfilter_traceback.<locals>.error_handler\u001b[0;34m(*args, **kwargs)\u001b[0m\n\u001b[1;32m    148\u001b[0m filtered_tb \u001b[38;5;241m=\u001b[39m \u001b[38;5;28;01mNone\u001b[39;00m\n\u001b[1;32m    149\u001b[0m \u001b[38;5;28;01mtry\u001b[39;00m:\n\u001b[0;32m--> 150\u001b[0m   \u001b[38;5;28;01mreturn\u001b[39;00m \u001b[43mfn\u001b[49m\u001b[43m(\u001b[49m\u001b[38;5;241;43m*\u001b[39;49m\u001b[43margs\u001b[49m\u001b[43m,\u001b[49m\u001b[43m \u001b[49m\u001b[38;5;241;43m*\u001b[39;49m\u001b[38;5;241;43m*\u001b[39;49m\u001b[43mkwargs\u001b[49m\u001b[43m)\u001b[49m\n\u001b[1;32m    151\u001b[0m \u001b[38;5;28;01mexcept\u001b[39;00m \u001b[38;5;167;01mException\u001b[39;00m \u001b[38;5;28;01mas\u001b[39;00m e:\n\u001b[1;32m    152\u001b[0m   filtered_tb \u001b[38;5;241m=\u001b[39m _process_traceback_frames(e\u001b[38;5;241m.\u001b[39m__traceback__)\n",
      "File \u001b[0;32m/usr/local/lib/python3.11/dist-packages/tensorflow/python/eager/polymorphic_function/polymorphic_function.py:831\u001b[0m, in \u001b[0;36mFunction.__call__\u001b[0;34m(self, *args, **kwds)\u001b[0m\n\u001b[1;32m    828\u001b[0m compiler \u001b[38;5;241m=\u001b[39m \u001b[38;5;124m\"\u001b[39m\u001b[38;5;124mxla\u001b[39m\u001b[38;5;124m\"\u001b[39m \u001b[38;5;28;01mif\u001b[39;00m \u001b[38;5;28mself\u001b[39m\u001b[38;5;241m.\u001b[39m_jit_compile \u001b[38;5;28;01melse\u001b[39;00m \u001b[38;5;124m\"\u001b[39m\u001b[38;5;124mnonXla\u001b[39m\u001b[38;5;124m\"\u001b[39m\n\u001b[1;32m    830\u001b[0m \u001b[38;5;28;01mwith\u001b[39;00m OptionalXlaContext(\u001b[38;5;28mself\u001b[39m\u001b[38;5;241m.\u001b[39m_jit_compile):\n\u001b[0;32m--> 831\u001b[0m   result \u001b[38;5;241m=\u001b[39m \u001b[38;5;28;43mself\u001b[39;49m\u001b[38;5;241;43m.\u001b[39;49m\u001b[43m_call\u001b[49m\u001b[43m(\u001b[49m\u001b[38;5;241;43m*\u001b[39;49m\u001b[43margs\u001b[49m\u001b[43m,\u001b[49m\u001b[43m \u001b[49m\u001b[38;5;241;43m*\u001b[39;49m\u001b[38;5;241;43m*\u001b[39;49m\u001b[43mkwds\u001b[49m\u001b[43m)\u001b[49m\n\u001b[1;32m    833\u001b[0m new_tracing_count \u001b[38;5;241m=\u001b[39m \u001b[38;5;28mself\u001b[39m\u001b[38;5;241m.\u001b[39mexperimental_get_tracing_count()\n\u001b[1;32m    834\u001b[0m without_tracing \u001b[38;5;241m=\u001b[39m (tracing_count \u001b[38;5;241m==\u001b[39m new_tracing_count)\n",
      "File \u001b[0;32m/usr/local/lib/python3.11/dist-packages/tensorflow/python/eager/polymorphic_function/polymorphic_function.py:876\u001b[0m, in \u001b[0;36mFunction._call\u001b[0;34m(self, *args, **kwds)\u001b[0m\n\u001b[1;32m    873\u001b[0m \u001b[38;5;28mself\u001b[39m\u001b[38;5;241m.\u001b[39m_lock\u001b[38;5;241m.\u001b[39mrelease()\n\u001b[1;32m    874\u001b[0m \u001b[38;5;66;03m# In this case we have not created variables on the first call. So we can\u001b[39;00m\n\u001b[1;32m    875\u001b[0m \u001b[38;5;66;03m# run the first trace but we should fail if variables are created.\u001b[39;00m\n\u001b[0;32m--> 876\u001b[0m results \u001b[38;5;241m=\u001b[39m \u001b[43mtracing_compilation\u001b[49m\u001b[38;5;241;43m.\u001b[39;49m\u001b[43mcall_function\u001b[49m\u001b[43m(\u001b[49m\n\u001b[1;32m    877\u001b[0m \u001b[43m    \u001b[49m\u001b[43margs\u001b[49m\u001b[43m,\u001b[49m\u001b[43m \u001b[49m\u001b[43mkwds\u001b[49m\u001b[43m,\u001b[49m\u001b[43m \u001b[49m\u001b[38;5;28;43mself\u001b[39;49m\u001b[38;5;241;43m.\u001b[39;49m\u001b[43m_variable_creation_config\u001b[49m\n\u001b[1;32m    878\u001b[0m \u001b[43m\u001b[49m\u001b[43m)\u001b[49m\n\u001b[1;32m    879\u001b[0m \u001b[38;5;28;01mif\u001b[39;00m \u001b[38;5;28mself\u001b[39m\u001b[38;5;241m.\u001b[39m_created_variables:\n\u001b[1;32m    880\u001b[0m   \u001b[38;5;28;01mraise\u001b[39;00m \u001b[38;5;167;01mValueError\u001b[39;00m(\u001b[38;5;124m\"\u001b[39m\u001b[38;5;124mCreating variables on a non-first call to a function\u001b[39m\u001b[38;5;124m\"\u001b[39m\n\u001b[1;32m    881\u001b[0m                    \u001b[38;5;124m\"\u001b[39m\u001b[38;5;124m decorated with tf.function.\u001b[39m\u001b[38;5;124m\"\u001b[39m)\n",
      "File \u001b[0;32m/usr/local/lib/python3.11/dist-packages/tensorflow/python/eager/polymorphic_function/tracing_compilation.py:139\u001b[0m, in \u001b[0;36mcall_function\u001b[0;34m(args, kwargs, tracing_options)\u001b[0m\n\u001b[1;32m    137\u001b[0m bound_args \u001b[38;5;241m=\u001b[39m function\u001b[38;5;241m.\u001b[39mfunction_type\u001b[38;5;241m.\u001b[39mbind(\u001b[38;5;241m*\u001b[39margs, \u001b[38;5;241m*\u001b[39m\u001b[38;5;241m*\u001b[39mkwargs)\n\u001b[1;32m    138\u001b[0m flat_inputs \u001b[38;5;241m=\u001b[39m function\u001b[38;5;241m.\u001b[39mfunction_type\u001b[38;5;241m.\u001b[39munpack_inputs(bound_args)\n\u001b[0;32m--> 139\u001b[0m \u001b[38;5;28;01mreturn\u001b[39;00m \u001b[43mfunction\u001b[49m\u001b[38;5;241;43m.\u001b[39;49m\u001b[43m_call_flat\u001b[49m\u001b[43m(\u001b[49m\u001b[43m  \u001b[49m\u001b[38;5;66;43;03m# pylint: disable=protected-access\u001b[39;49;00m\n\u001b[1;32m    140\u001b[0m \u001b[43m    \u001b[49m\u001b[43mflat_inputs\u001b[49m\u001b[43m,\u001b[49m\u001b[43m \u001b[49m\u001b[43mcaptured_inputs\u001b[49m\u001b[38;5;241;43m=\u001b[39;49m\u001b[43mfunction\u001b[49m\u001b[38;5;241;43m.\u001b[39;49m\u001b[43mcaptured_inputs\u001b[49m\n\u001b[1;32m    141\u001b[0m \u001b[43m\u001b[49m\u001b[43m)\u001b[49m\n",
      "File \u001b[0;32m/usr/local/lib/python3.11/dist-packages/tensorflow/python/eager/polymorphic_function/concrete_function.py:1264\u001b[0m, in \u001b[0;36mConcreteFunction._call_flat\u001b[0;34m(self, tensor_inputs, captured_inputs)\u001b[0m\n\u001b[1;32m   1260\u001b[0m possible_gradient_type \u001b[38;5;241m=\u001b[39m gradients_util\u001b[38;5;241m.\u001b[39mPossibleTapeGradientTypes(args)\n\u001b[1;32m   1261\u001b[0m \u001b[38;5;28;01mif\u001b[39;00m (possible_gradient_type \u001b[38;5;241m==\u001b[39m gradients_util\u001b[38;5;241m.\u001b[39mPOSSIBLE_GRADIENT_TYPES_NONE\n\u001b[1;32m   1262\u001b[0m     \u001b[38;5;129;01mand\u001b[39;00m executing_eagerly):\n\u001b[1;32m   1263\u001b[0m   \u001b[38;5;66;03m# No tape is watching; skip to running the function.\u001b[39;00m\n\u001b[0;32m-> 1264\u001b[0m   \u001b[38;5;28;01mreturn\u001b[39;00m \u001b[38;5;28;43mself\u001b[39;49m\u001b[38;5;241;43m.\u001b[39;49m\u001b[43m_inference_function\u001b[49m\u001b[38;5;241;43m.\u001b[39;49m\u001b[43mflat_call\u001b[49m\u001b[43m(\u001b[49m\u001b[43margs\u001b[49m\u001b[43m)\u001b[49m\n\u001b[1;32m   1265\u001b[0m forward_backward \u001b[38;5;241m=\u001b[39m \u001b[38;5;28mself\u001b[39m\u001b[38;5;241m.\u001b[39m_select_forward_and_backward_functions(\n\u001b[1;32m   1266\u001b[0m     args,\n\u001b[1;32m   1267\u001b[0m     possible_gradient_type,\n\u001b[1;32m   1268\u001b[0m     executing_eagerly)\n\u001b[1;32m   1269\u001b[0m forward_function, args_with_tangents \u001b[38;5;241m=\u001b[39m forward_backward\u001b[38;5;241m.\u001b[39mforward()\n",
      "File \u001b[0;32m/usr/local/lib/python3.11/dist-packages/tensorflow/python/eager/polymorphic_function/atomic_function.py:217\u001b[0m, in \u001b[0;36mAtomicFunction.flat_call\u001b[0;34m(self, args)\u001b[0m\n\u001b[1;32m    215\u001b[0m \u001b[38;5;28;01mdef\u001b[39;00m \u001b[38;5;21mflat_call\u001b[39m(\u001b[38;5;28mself\u001b[39m, args: Sequence[core\u001b[38;5;241m.\u001b[39mTensor]) \u001b[38;5;241m-\u001b[39m\u001b[38;5;241m>\u001b[39m Any:\n\u001b[1;32m    216\u001b[0m \u001b[38;5;250m  \u001b[39m\u001b[38;5;124;03m\"\"\"Calls with tensor inputs and returns the structured output.\"\"\"\u001b[39;00m\n\u001b[0;32m--> 217\u001b[0m   flat_outputs \u001b[38;5;241m=\u001b[39m \u001b[38;5;28;43mself\u001b[39;49m\u001b[43m(\u001b[49m\u001b[38;5;241;43m*\u001b[39;49m\u001b[43margs\u001b[49m\u001b[43m)\u001b[49m\n\u001b[1;32m    218\u001b[0m   \u001b[38;5;28;01mreturn\u001b[39;00m \u001b[38;5;28mself\u001b[39m\u001b[38;5;241m.\u001b[39mfunction_type\u001b[38;5;241m.\u001b[39mpack_output(flat_outputs)\n",
      "File \u001b[0;32m/usr/local/lib/python3.11/dist-packages/tensorflow/python/eager/polymorphic_function/atomic_function.py:252\u001b[0m, in \u001b[0;36mAtomicFunction.__call__\u001b[0;34m(self, *args)\u001b[0m\n\u001b[1;32m    250\u001b[0m \u001b[38;5;28;01mwith\u001b[39;00m record\u001b[38;5;241m.\u001b[39mstop_recording():\n\u001b[1;32m    251\u001b[0m   \u001b[38;5;28;01mif\u001b[39;00m \u001b[38;5;28mself\u001b[39m\u001b[38;5;241m.\u001b[39m_bound_context\u001b[38;5;241m.\u001b[39mexecuting_eagerly():\n\u001b[0;32m--> 252\u001b[0m     outputs \u001b[38;5;241m=\u001b[39m \u001b[38;5;28;43mself\u001b[39;49m\u001b[38;5;241;43m.\u001b[39;49m\u001b[43m_bound_context\u001b[49m\u001b[38;5;241;43m.\u001b[39;49m\u001b[43mcall_function\u001b[49m\u001b[43m(\u001b[49m\n\u001b[1;32m    253\u001b[0m \u001b[43m        \u001b[49m\u001b[38;5;28;43mself\u001b[39;49m\u001b[38;5;241;43m.\u001b[39;49m\u001b[43mname\u001b[49m\u001b[43m,\u001b[49m\n\u001b[1;32m    254\u001b[0m \u001b[43m        \u001b[49m\u001b[38;5;28;43mlist\u001b[39;49m\u001b[43m(\u001b[49m\u001b[43margs\u001b[49m\u001b[43m)\u001b[49m\u001b[43m,\u001b[49m\n\u001b[1;32m    255\u001b[0m \u001b[43m        \u001b[49m\u001b[38;5;28;43mlen\u001b[39;49m\u001b[43m(\u001b[49m\u001b[38;5;28;43mself\u001b[39;49m\u001b[38;5;241;43m.\u001b[39;49m\u001b[43mfunction_type\u001b[49m\u001b[38;5;241;43m.\u001b[39;49m\u001b[43mflat_outputs\u001b[49m\u001b[43m)\u001b[49m\u001b[43m,\u001b[49m\n\u001b[1;32m    256\u001b[0m \u001b[43m    \u001b[49m\u001b[43m)\u001b[49m\n\u001b[1;32m    257\u001b[0m   \u001b[38;5;28;01melse\u001b[39;00m:\n\u001b[1;32m    258\u001b[0m     outputs \u001b[38;5;241m=\u001b[39m make_call_op_in_graph(\n\u001b[1;32m    259\u001b[0m         \u001b[38;5;28mself\u001b[39m,\n\u001b[1;32m    260\u001b[0m         \u001b[38;5;28mlist\u001b[39m(args),\n\u001b[1;32m    261\u001b[0m         \u001b[38;5;28mself\u001b[39m\u001b[38;5;241m.\u001b[39m_bound_context\u001b[38;5;241m.\u001b[39mfunction_call_options\u001b[38;5;241m.\u001b[39mas_attrs(),\n\u001b[1;32m    262\u001b[0m     )\n",
      "File \u001b[0;32m/usr/local/lib/python3.11/dist-packages/tensorflow/python/eager/context.py:1479\u001b[0m, in \u001b[0;36mContext.call_function\u001b[0;34m(self, name, tensor_inputs, num_outputs)\u001b[0m\n\u001b[1;32m   1477\u001b[0m cancellation_context \u001b[38;5;241m=\u001b[39m cancellation\u001b[38;5;241m.\u001b[39mcontext()\n\u001b[1;32m   1478\u001b[0m \u001b[38;5;28;01mif\u001b[39;00m cancellation_context \u001b[38;5;129;01mis\u001b[39;00m \u001b[38;5;28;01mNone\u001b[39;00m:\n\u001b[0;32m-> 1479\u001b[0m   outputs \u001b[38;5;241m=\u001b[39m \u001b[43mexecute\u001b[49m\u001b[38;5;241;43m.\u001b[39;49m\u001b[43mexecute\u001b[49m\u001b[43m(\u001b[49m\n\u001b[1;32m   1480\u001b[0m \u001b[43m      \u001b[49m\u001b[43mname\u001b[49m\u001b[38;5;241;43m.\u001b[39;49m\u001b[43mdecode\u001b[49m\u001b[43m(\u001b[49m\u001b[38;5;124;43m\"\u001b[39;49m\u001b[38;5;124;43mutf-8\u001b[39;49m\u001b[38;5;124;43m\"\u001b[39;49m\u001b[43m)\u001b[49m\u001b[43m,\u001b[49m\n\u001b[1;32m   1481\u001b[0m \u001b[43m      \u001b[49m\u001b[43mnum_outputs\u001b[49m\u001b[38;5;241;43m=\u001b[39;49m\u001b[43mnum_outputs\u001b[49m\u001b[43m,\u001b[49m\n\u001b[1;32m   1482\u001b[0m \u001b[43m      \u001b[49m\u001b[43minputs\u001b[49m\u001b[38;5;241;43m=\u001b[39;49m\u001b[43mtensor_inputs\u001b[49m\u001b[43m,\u001b[49m\n\u001b[1;32m   1483\u001b[0m \u001b[43m      \u001b[49m\u001b[43mattrs\u001b[49m\u001b[38;5;241;43m=\u001b[39;49m\u001b[43mattrs\u001b[49m\u001b[43m,\u001b[49m\n\u001b[1;32m   1484\u001b[0m \u001b[43m      \u001b[49m\u001b[43mctx\u001b[49m\u001b[38;5;241;43m=\u001b[39;49m\u001b[38;5;28;43mself\u001b[39;49m\u001b[43m,\u001b[49m\n\u001b[1;32m   1485\u001b[0m \u001b[43m  \u001b[49m\u001b[43m)\u001b[49m\n\u001b[1;32m   1486\u001b[0m \u001b[38;5;28;01melse\u001b[39;00m:\n\u001b[1;32m   1487\u001b[0m   outputs \u001b[38;5;241m=\u001b[39m execute\u001b[38;5;241m.\u001b[39mexecute_with_cancellation(\n\u001b[1;32m   1488\u001b[0m       name\u001b[38;5;241m.\u001b[39mdecode(\u001b[38;5;124m\"\u001b[39m\u001b[38;5;124mutf-8\u001b[39m\u001b[38;5;124m\"\u001b[39m),\n\u001b[1;32m   1489\u001b[0m       num_outputs\u001b[38;5;241m=\u001b[39mnum_outputs,\n\u001b[0;32m   (...)\u001b[0m\n\u001b[1;32m   1493\u001b[0m       cancellation_manager\u001b[38;5;241m=\u001b[39mcancellation_context,\n\u001b[1;32m   1494\u001b[0m   )\n",
      "File \u001b[0;32m/usr/local/lib/python3.11/dist-packages/tensorflow/python/eager/execute.py:60\u001b[0m, in \u001b[0;36mquick_execute\u001b[0;34m(op_name, num_outputs, inputs, attrs, ctx, name)\u001b[0m\n\u001b[1;32m     53\u001b[0m   \u001b[38;5;66;03m# Convert any objects of type core_types.Tensor to Tensor.\u001b[39;00m\n\u001b[1;32m     54\u001b[0m   inputs \u001b[38;5;241m=\u001b[39m [\n\u001b[1;32m     55\u001b[0m       tensor_conversion_registry\u001b[38;5;241m.\u001b[39mconvert(t)\n\u001b[1;32m     56\u001b[0m       \u001b[38;5;28;01mif\u001b[39;00m \u001b[38;5;28misinstance\u001b[39m(t, core_types\u001b[38;5;241m.\u001b[39mTensor)\n\u001b[1;32m     57\u001b[0m       \u001b[38;5;28;01melse\u001b[39;00m t\n\u001b[1;32m     58\u001b[0m       \u001b[38;5;28;01mfor\u001b[39;00m t \u001b[38;5;129;01min\u001b[39;00m inputs\n\u001b[1;32m     59\u001b[0m   ]\n\u001b[0;32m---> 60\u001b[0m   tensors \u001b[38;5;241m=\u001b[39m \u001b[43mpywrap_tfe\u001b[49m\u001b[38;5;241;43m.\u001b[39;49m\u001b[43mTFE_Py_Execute\u001b[49m\u001b[43m(\u001b[49m\u001b[43mctx\u001b[49m\u001b[38;5;241;43m.\u001b[39;49m\u001b[43m_handle\u001b[49m\u001b[43m,\u001b[49m\u001b[43m \u001b[49m\u001b[43mdevice_name\u001b[49m\u001b[43m,\u001b[49m\u001b[43m \u001b[49m\u001b[43mop_name\u001b[49m\u001b[43m,\u001b[49m\n\u001b[1;32m     61\u001b[0m \u001b[43m                                      \u001b[49m\u001b[43minputs\u001b[49m\u001b[43m,\u001b[49m\u001b[43m \u001b[49m\u001b[43mattrs\u001b[49m\u001b[43m,\u001b[49m\u001b[43m \u001b[49m\u001b[43mnum_outputs\u001b[49m\u001b[43m)\u001b[49m\n\u001b[1;32m     62\u001b[0m \u001b[38;5;28;01mexcept\u001b[39;00m core\u001b[38;5;241m.\u001b[39m_NotOkStatusException \u001b[38;5;28;01mas\u001b[39;00m e:\n\u001b[1;32m     63\u001b[0m   \u001b[38;5;28;01mif\u001b[39;00m name \u001b[38;5;129;01mis\u001b[39;00m \u001b[38;5;129;01mnot\u001b[39;00m \u001b[38;5;28;01mNone\u001b[39;00m:\n",
      "\u001b[0;31mKeyboardInterrupt\u001b[0m: "
     ]
    }
   ],
   "source": [
    "lora_bert_3.evaluate(test_cached)"
   ]
  },
  {
   "cell_type": "markdown",
   "metadata": {},
   "source": [
    "## With Weight Decay Method + Noise "
   ]
  },
  {
   "cell_type": "markdown",
   "metadata": {},
   "source": [
    "### Define Dense LoRa and Einsum LoRa Class"
   ]
  },
  {
   "cell_type": "code",
   "execution_count": null,
   "metadata": {},
   "outputs": [],
   "source": [
    "import math \n",
    "\n",
    "class DenseLoraLayer(keras.layers.Layer):\n",
    "    def __init__(\n",
    "        self,\n",
    "        original_layer,\n",
    "        total_iteration = 1000 ,  # Total number of iterations for the decay\n",
    "        start_percent=0.05,  # The percentage of total_iteration when decay starts\n",
    "        end_percent=0.85,  # The percentage of total_iteration when decay ends\n",
    "        min_decay_factor=0,  # The minimum value that decay factor can take\n",
    "        rank=64,\n",
    "        alpha=32,\n",
    "        trainable=True,\n",
    "        **kwargs,\n",
    "    ):\n",
    "        original_layer_config = original_layer.get_config()\n",
    "        name = original_layer_config[\"name\"]\n",
    "        kwargs.pop(\"name\", None)\n",
    "\n",
    "        super().__init__(name=name, trainable=trainable, **kwargs)\n",
    "\n",
    "        self.rank = rank\n",
    "        self.alpha = alpha\n",
    "        self._scale = alpha / rank\n",
    "\n",
    "        self.original_layer = original_layer\n",
    "        self.original_layer.trainable = False\n",
    "\n",
    "\n",
    "        self.total_iteration = total_iteration\n",
    "        self.start_step = int(total_iteration * start_percent)\n",
    "        self.end_step = int(total_iteration * end_percent)\n",
    "        self.min_decay_factor = min_decay_factor\n",
    "\n",
    "        #trainable=False, 이 변수가 텐서플로우의 자동 미분 및 최적화 과정에 의해 업데이트되지 않는다는 뜻\n",
    "        #수동으로 업데이트될 수 있습니다. 예를 들어, 반복문 안에서 이 변수의 값을 업데이트하는 로직을 작성할 수 있음!\n",
    "        self.current_step = tf.Variable(0, dtype=tf.int32, trainable=False)\n",
    "        self.decay_factor = tf.Variable(1.0, dtype=tf.float32, trainable=False)\n",
    "    \n",
    "\n",
    "    def build(self, input_shape):\n",
    "        # LoRA weights.\n",
    "        kernel_shape = self.original_layer.kernel.shape\n",
    "        self.A_weight = self.add_weight(\n",
    "            name=\"lora_A_weight\",\n",
    "            shape=(self.rank, kernel_shape[0]),\n",
    "            initializer=keras.initializers.VarianceScaling(\n",
    "                scale=math.sqrt(5), mode=\"fan_in\", distribution=\"uniform\"\n",
    "            ),\n",
    "            trainable=self.trainable,\n",
    "        )\n",
    "\n",
    "        self.B_weight = self.add_weight(\n",
    "            name=\"lora_B_weight\",\n",
    "            shape=(self.original_layer.units, self.rank),\n",
    "            initializer='zeros',\n",
    "            trainable=self.trainable,\n",
    "        )\n",
    "\n",
    "        super().build(input_shape)\n",
    "\n",
    "    def call(self, inputs, training=None):\n",
    "            if training is None:\n",
    "                training = self.trainable\n",
    "\n",
    "            # Calculate the linear decay factor\n",
    "            if self.current_step < self.start_step:\n",
    "                self.decay_factor.assign(1.0)  # Decay has not started yet\n",
    "            elif self.current_step > self.end_step:\n",
    "                self.decay_factor.assign(tf.cast(self.min_decay_factor, dtype=tf.float32))  # Ensure float32 type for consistency\n",
    "            else:\n",
    "                # Linear decay between start_step and end_step\n",
    "                self.decay_factor.assign(1.0 - ((tf.cast(self.current_step, dtype=tf.float32) - self.start_step) /\n",
    "                                        (self.end_step - self.start_step) *\n",
    "                                        (1.0 - tf.cast(self.min_decay_factor, dtype=tf.float32))))\n",
    "\n",
    "            # Matrix multiplication for A and B weights with inputs\n",
    "            lora_A_output = tf.matmul(self.A_weight, tf.transpose(inputs))  # Ax\n",
    "            lora_output = tf.transpose(tf.matmul(self.B_weight, lora_A_output) * self._scale)  # BAx Transpose back to [batch_size, original_layer.units]\n",
    "\n",
    "            #lora_output *= (1 - self.decay_factor) # 멘토링 때 나온 의견\n",
    "\n",
    "            if training:\n",
    "                original_output = self.original_layer(inputs)\n",
    "                # 평균과 표준편차 계산\n",
    "                original_weight_matrix = self.original_layer.weights[0]\n",
    "                original_mean = tf.reduce_mean(original_weight_matrix, axis=0)\n",
    "                original_variance = tf.reduce_mean(tf.square(original_weight_matrix - original_mean), axis=0)\n",
    "                original_stddev = tf.sqrt(original_variance)\n",
    "\n",
    "                # decay_factor가 0.3보다 작으면 noise_mean과 noise_std를 0으로 설정\n",
    "                noise_mean = tf.where(self.decay_factor < 0.3, 0.0, original_mean * (1 - self.decay_factor))\n",
    "                noise_std = tf.where(self.decay_factor < 0.3, 0.0, original_stddev * tf.sqrt(1 - tf.square(self.decay_factor)))\n",
    "                noise = tf.random.normal(tf.shape(original_weight_matrix), mean=noise_mean, stddev=noise_std)\n",
    "\n",
    "                self.current_step.assign_add(1)\n",
    "\n",
    "                return original_output * self.decay_factor + (inputs @ noise) + lora_output \n",
    "\n",
    "            else:\n",
    "                # 추론 모드에서는 LoRA 출력만 반환\n",
    "                return lora_output \n",
    "\n"
   ]
  },
  {
   "cell_type": "code",
   "execution_count": null,
   "metadata": {},
   "outputs": [],
   "source": [
    "# EinsumLoraLayer_O\n",
    "import math\n",
    "from tensorflow import keras\n",
    "\n",
    "class EinsumLoraLayer_O(keras.layers.Layer):\n",
    "    def __init__(\n",
    "        self,\n",
    "        original_layer,\n",
    "        total_iteration = 1000 ,  # Total number of iterations for the decay\n",
    "        start_percent=0.05,  # The percentage of total_iteration when decay starts\n",
    "        end_percent=0.85,  # The percentage of total_iteration when decay ends\n",
    "        min_decay_factor=0,  # The minimum value that decay factor can take\n",
    "        rank=64,\n",
    "        alpha=32,\n",
    "        trainable=True,\n",
    "        **kwargs,\n",
    "    ):\n",
    "        original_layer_config = original_layer.get_config()\n",
    "        name = original_layer_config[\"name\"]\n",
    "        kwargs.pop(\"name\", None)\n",
    "\n",
    "        super().__init__(name=name, trainable=trainable, **kwargs)\n",
    "\n",
    "        self.rank = rank\n",
    "        self.alpha = alpha\n",
    "        self._scale = alpha / rank\n",
    "\n",
    "        self.original_layer = original_layer\n",
    "        self.original_layer.trainable = False\n",
    "\n",
    "\n",
    "        self.total_iteration = total_iteration\n",
    "        self.start_step = int(total_iteration * start_percent)\n",
    "        self.end_step = int(total_iteration * end_percent)\n",
    "        self.min_decay_factor = min_decay_factor\n",
    "\n",
    "        #trainable=False, 이 변수가 텐서플로우의 자동 미분 및 최적화 과정에 의해 업데이트되지 않는다는 뜻\n",
    "        #수동으로 업데이트될 수 있습니다. 예를 들어, 반복문 안에서 이 변수의 값을 업데이트하는 로직을 작성할 수 있음!\n",
    "        self.current_step = tf.Variable(0, dtype=tf.int32, trainable=False)\n",
    "        self.decay_factor = tf.Variable(1.0, dtype=tf.float32, trainable=False)\n",
    "\n",
    "\n",
    "    def build(self, inputs_shape):\n",
    "\n",
    "        kernel_shape = self.original_layer.kernel.shape\n",
    "        bias_shape = self.original_layer.bias.shape\n",
    "        self.A_weight = self.add_weight(\n",
    "            name=\"lora_A_weight\",\n",
    "            shape= kernel_shape[:-1] + (self.rank,),\n",
    "            initializer=keras.initializers.VarianceScaling(\n",
    "                scale=math.sqrt(5), mode=\"fan_in\", distribution=\"uniform\"\n",
    "            ),\n",
    "            trainable=self.trainable,\n",
    "        )\n",
    "        \n",
    "        self.B_weight = self.add_weight(\n",
    "            name=\"lora_B_weight\",\n",
    "            shape=(self.rank, kernel_shape[-1]) ,\n",
    "            initializer=\"zeros\",\n",
    "            trainable=self.trainable,\n",
    "        )\n",
    "        super().build(inputs_shape)  \n",
    "\n",
    "\n",
    "\n",
    "    def call(self, inputs, training=None):\n",
    "            if training is None:\n",
    "                training = self.trainable\n",
    "            \n",
    "            lora_A_output = tf.einsum(self.original_layer.equation, inputs , self.A_weight)\n",
    "            lora_output = tf.matmul(lora_A_output, self.B_weight) * self._scale \n",
    "            \n",
    "            if training:\n",
    "                # Calculate the linear decay factor\n",
    "                if self.current_step < self.start_step:\n",
    "                    self.decay_factor.assign(1.0)  # Decay has not started yet\n",
    "                elif self.current_step > self.end_step:\n",
    "                    self.decay_factor.assign(tf.cast(self.min_decay_factor, dtype=tf.float32))  # Ensure float32 type for consistency\n",
    "                else:\n",
    "                # Linear decay between start_step and end_step\n",
    "                    self.decay_factor.assign(1.0 - ((tf.cast(self.current_step, dtype=tf.float32) - self.start_step) /\n",
    "                                        (self.end_step - self.start_step) *\n",
    "                                        (1.0 - tf.cast(self.min_decay_factor, dtype=tf.float32))))\n",
    "                \n",
    "\n",
    "                # Matrix multiplication for A and B weights with inputs\n",
    "                original_output = self.original_layer(inputs) * self.decay_factor\n",
    "                # 평균과 표준편차 계산\n",
    "                original_weight_matrix = self.original_layer.weights[0]\n",
    "                original_mean = tf.reduce_mean(original_weight_matrix, axis=0)\n",
    "                original_variance = tf.reduce_mean(tf.square(original_weight_matrix - original_mean), axis=0)\n",
    "                original_stddev = tf.sqrt(original_variance)\n",
    "\n",
    "                # decay_factor가 0.3보다 작으면 noise_mean과 noise_std를 0으로 설정\n",
    "                noise_mean = tf.where(self.decay_factor < 0.3, 0.0, original_mean * (1 - self.decay_factor))\n",
    "                noise_std = tf.where(self.decay_factor < 0.3, 0.0, original_stddev * tf.sqrt(1 - tf.square(self.decay_factor)))\n",
    "                noise = tf.random.normal(tf.shape(original_weight_matrix), mean=noise_mean, stddev=noise_std)\n",
    "\n",
    "                # Increment the step counter\n",
    "                self.current_step.assign_add(1)\n",
    "\n",
    "                return original_output * self.decay_factor + tf.einsum(self.original_layer.equation, inputs , noise ) + lora_output \n",
    "\n",
    "            else:\n",
    "                # 추론 모드에서는 LoRA 출력만 반환\n",
    "                return lora_output "
   ]
  },
  {
   "cell_type": "code",
   "execution_count": null,
   "metadata": {},
   "outputs": [],
   "source": [
    "#EinsumLoraLayer_QKV\n",
    "import math\n",
    "from tensorflow import keras\n",
    "\n",
    "class EinsumLoraLayer_QKV(keras.layers.Layer):\n",
    "    def __init__(\n",
    "        self,\n",
    "        original_layer,\n",
    "        total_iteration = 1000 ,  # Total number of iterations for the decay\n",
    "        start_percent=0.05,  # The percentage of total_iteration when decay starts\n",
    "        end_percent=0.85,  # The percentage of total_iteration when decay ends\n",
    "        min_decay_factor=0,  # The minimum value that decay factor can take\n",
    "        rank=64,\n",
    "        alpha=32,\n",
    "        trainable=True,\n",
    "        **kwargs,\n",
    "    ):\n",
    "        original_layer_config = original_layer.get_config()\n",
    "        name = original_layer_config[\"name\"]\n",
    "        kwargs.pop(\"name\", None)\n",
    "\n",
    "        super().__init__(name=name, trainable=trainable, **kwargs)\n",
    "\n",
    "        self.rank = rank\n",
    "        self.alpha = alpha\n",
    "        self._scale = alpha / rank\n",
    "\n",
    "        self.original_layer = original_layer\n",
    "        self.original_layer.trainable = False\n",
    "\n",
    "\n",
    "        self.total_iteration = total_iteration\n",
    "        self.start_step = int(total_iteration * start_percent)\n",
    "        self.end_step = int(total_iteration * end_percent)\n",
    "        self.min_decay_factor = min_decay_factor\n",
    "\n",
    "        #trainable=False, 이 변수가 텐서플로우의 자동 미분 및 최적화 과정에 의해 업데이트되지 않는다는 뜻\n",
    "        #수동으로 업데이트될 수 있습니다. 예를 들어, 반복문 안에서 이 변수의 값을 업데이트하는 로직을 작성할 수 있음!\n",
    "        self.current_step = tf.Variable(0, dtype=tf.int32, trainable=False)\n",
    "        self.decay_factor = tf.Variable(1.0, dtype=tf.float32, trainable=False)\n",
    "\n",
    "\n",
    "    def build(self, inputs_shape):\n",
    "\n",
    "        kernel_shape = self.original_layer.kernel.shape\n",
    "        bias_shape = self.original_layer.bias.shape\n",
    "        self.A_weight = self.add_weight(\n",
    "            name=\"lora_A_weight\",\n",
    "            shape=(self.rank, kernel_shape[0]),\n",
    "            initializer=keras.initializers.VarianceScaling(\n",
    "                scale=math.sqrt(5), mode=\"fan_in\", distribution=\"uniform\"\n",
    "            ),\n",
    "            trainable=self.trainable,\n",
    "        )\n",
    "        \n",
    "        self.B_weight = self.add_weight(\n",
    "            name=\"lora_B_weight\",\n",
    "            shape=(self.rank,) + kernel_shape[1:],\n",
    "            initializer=\"zeros\",\n",
    "            trainable=self.trainable,\n",
    "        )\n",
    "        super().build(inputs_shape)  \n",
    "\n",
    "\n",
    "\n",
    "    def call(self, inputs, training=None):\n",
    "            if training is None:\n",
    "                training = self.trainable\n",
    "            \n",
    "            # Matrix multiplication for A and B weights with inputs\n",
    "            lora_A_output = tf.matmul(inputs, tf.transpose(self.A_weight)) #xA\n",
    "            lora_output = tf.einsum(self.original_layer.equation, lora_A_output , self.B_weight) * self._scale  # BAx Transpose back to [batch_size, original_layer.units]\n",
    "            \n",
    "            if training:\n",
    "                # Calculate the linear decay factor\n",
    "                if self.current_step < self.start_step:\n",
    "                    self.decay_factor.assign(1.0)  # Decay has not started yet\n",
    "                elif self.current_step > self.end_step:\n",
    "                    self.decay_factor.assign(tf.cast(self.min_decay_factor, dtype=tf.float32))  # Ensure float32 type for consistency\n",
    "                else:\n",
    "                # Linear decay between start_step and end_step\n",
    "                    self.decay_factor.assign(1.0 - ((tf.cast(self.current_step, dtype=tf.float32) - self.start_step) /\n",
    "                                        (self.end_step - self.start_step) *\n",
    "                                        (1.0 - tf.cast(self.min_decay_factor, dtype=tf.float32))))\n",
    "                \n",
    "\n",
    "                # Matrix multiplication for A and B weights with inputs\n",
    "                original_output = self.original_layer(inputs) * self.decay_factor\n",
    "                # 평균과 표준편차 계산\n",
    "                original_weight_matrix = self.original_layer.weights[0]\n",
    "                original_mean = tf.reduce_mean(original_weight_matrix, axis=0)\n",
    "                original_variance = tf.reduce_mean(tf.square(original_weight_matrix - original_mean), axis=0)\n",
    "                original_stddev = tf.sqrt(original_variance)\n",
    "\n",
    "                # decay_factor가 0.3보다 작으면 noise_mean과 noise_std를 0으로 설정\n",
    "                noise_mean = tf.where(self.decay_factor < 0.3, 0.0, original_mean * (1 - self.decay_factor))\n",
    "                noise_std = tf.where(self.decay_factor < 0.3, 0.0, original_stddev * tf.sqrt(1 - tf.square(self.decay_factor)))\n",
    "                noise = tf.random.normal(tf.shape(original_weight_matrix), mean=noise_mean, stddev=noise_std)\n",
    "\n",
    "                # Increment the step counter\n",
    "                self.current_step.assign_add(1)\n",
    "\n",
    "                return original_output * self.decay_factor +  tf.einsum(self.original_layer.equation, inputs , noise ) + lora_output \n",
    "\n",
    "            else:\n",
    "                # 추론 모드에서는 LoRA 출력만 반환\n",
    "                return lora_output "
   ]
  },
  {
   "cell_type": "markdown",
   "metadata": {},
   "source": [
    "### Creating LoRA Bert  Epoch 10, batch size = 32 rank = 32 \n"
   ]
  },
  {
   "cell_type": "code",
   "execution_count": null,
   "metadata": {},
   "outputs": [],
   "source": [
    "epochs = 10\n",
    "batch_size = 32\n",
    "total_iteration= int(epochs * (dataset_size / batch_size))  # Total number of iterations for the decay"
   ]
  },
  {
   "cell_type": "code",
   "execution_count": null,
   "metadata": {},
   "outputs": [],
   "source": [
    "# 원본 모델 우선 가져오기 \n",
    "lora_bert_4 = tf.keras.models.load_model(\"./model/bert-small-IMDB-original-model\")\n",
    "lora_bert_backbone = lora_bert_4.get_layer('bert_backbone_1')"
   ]
  },
  {
   "cell_type": "code",
   "execution_count": null,
   "metadata": {},
   "outputs": [],
   "source": [
    "def replace_transformerblocks_with_lora(bert_backbone, layer_name, total_iteration, rank=32, alpha=32, input_shape = (None, 256, 128)):\n",
    "    # Access the specific transformer layer within the bert_backbone\n",
    "    transformer_layer = bert_backbone.get_layer(layer_name)\n",
    "\n",
    "\n",
    "    # Replace feedforward_intermediate_dense, feedforward_output_dense \n",
    "    #transformer_layer._feedforward_intermediate_dense = DenseLoraLayer(\n",
    "    #    original_layer=transformer_layer._feedforward_intermediate_dense,\n",
    "    #    rank=rank,\n",
    "    #    alpha=alpha,\n",
    "    #    total_iteration=total_iteration,\n",
    "    #    trainable=True\n",
    "    #)\n",
    "\n",
    "    #transformer_layer._feedforward_output_dense = DenseLoraLayer(\n",
    "    #    original_layer=transformer_layer._feedforward_output_dense,\n",
    "    #    rank=rank,\n",
    "    #    alpha=alpha,\n",
    "    #    total_iteration=total_iteration,\n",
    "    #    trainable=True\n",
    "    #)\n",
    "\n",
    "    # Replace query, key, value, and output dense layers with LoRA layers\n",
    "    self_attention_layer = transformer_layer._self_attention_layer\n",
    "\n",
    "    self_attention_layer._output_dense = EinsumLoraLayer_O(\n",
    "        original_layer=self_attention_layer._output_dense,\n",
    "        rank=rank,\n",
    "        alpha=alpha,\n",
    "        total_iteration=total_iteration,\n",
    "        trainable=True\n",
    "    )\n",
    "    self_attention_layer._query_dense = EinsumLoraLayer_QKV(\n",
    "        original_layer=self_attention_layer._query_dense,\n",
    "        rank=rank,\n",
    "        alpha=alpha,\n",
    "        total_iteration=total_iteration,\n",
    "        trainable=True\n",
    "    )\n",
    "    self_attention_layer._value_dense = EinsumLoraLayer_QKV(\n",
    "        original_layer=self_attention_layer._value_dense,\n",
    "        rank=rank,\n",
    "        alpha=alpha,\n",
    "        total_iteration=total_iteration,\n",
    "        trainable=True\n",
    "    )\n",
    "    self_attention_layer._key_dense = EinsumLoraLayer_QKV(\n",
    "        original_layer=self_attention_layer._key_dense,\n",
    "        rank=rank,\n",
    "        alpha=alpha,\n",
    "        total_iteration=total_iteration,\n",
    "        trainable=True\n",
    "    )\n",
    "\n",
    "    # Build the modified layers\n",
    "    #transformer_layer._feedforward_intermediate_dense.build(input_shape)\n",
    "    #transformer_layer._feedforward_output_dense.build(input_shape)\n",
    "    #문제해결 전까지 FREEZE\n",
    "    transformer_layer._feedforward_intermediate_dense.trainable = False \n",
    "    transformer_layer._feedforward_output_dense.trainable = False\n",
    "\n",
    "    self_attention_layer._output_dense.build(input_shape)\n",
    "    self_attention_layer._query_dense.build(input_shape)\n",
    "    self_attention_layer._key_dense.build(input_shape)\n",
    "    self_attention_layer._value_dense.build(input_shape)\n",
    "\n",
    "\n",
    "\n"
   ]
  },
  {
   "cell_type": "code",
   "execution_count": null,
   "metadata": {},
   "outputs": [],
   "source": [
    "\n",
    "# Apply LoRA Layers to Transformer Encoders and Freeze Layer Norm layer in Transformer Encoder \n",
    "\n",
    "num_transformer_layers = 4\n",
    "for i in range(num_transformer_layers):\n",
    "    layer_name = f\"transformer_layer_{i}\"\n",
    "    transformer_layer = lora_bert_backbone.get_layer(layer_name) # 해당 레이어를 가져옵니다.\n",
    "\n",
    "    # Set the self-attention layer normalization to be non-trainable\n",
    "    # transformer_layer._self_attention_layer_norm 레이어의 모든 가중치를 학습 불가능하게 설정\n",
    "    for weight in transformer_layer._self_attention_layer_norm.weights:\n",
    "        weight._trainable = False\n",
    "    for weight in transformer_layer._feedforward_layer_norm.weights:\n",
    "        weight._trainable = False\n",
    "\n",
    "\n",
    "    # LoRA 레이어 적용\n",
    "    replace_transformerblocks_with_lora(lora_bert_backbone, layer_name, total_iteration)\n"
   ]
  },
  {
   "cell_type": "code",
   "execution_count": null,
   "metadata": {},
   "outputs": [],
   "source": [
    "# Freeze Logits \n",
    "logits = lora_bert_4.get_layer('logits')\n",
    "logits.trainable = False\n",
    "\n",
    "\n",
    "\n",
    "# Freeze Bert Backbone (Except Transformer Encdoer, PooledDense )\n",
    "token_embedding_layer = lora_bert_backbone.get_layer('token_embedding')\n",
    "position_embedding_layer = lora_bert_backbone.get_layer('position_embedding')\n",
    "segment_embedding_layer = lora_bert_backbone.get_layer('segment_embedding')\n",
    "embeddings_layer_norm_layer = lora_bert_backbone.get_layer('embeddings_layer_norm')\n",
    "\n",
    "token_embedding_layer.trainable = False\n",
    "position_embedding_layer.trainable = False\n",
    "segment_embedding_layer.trainable = False\n",
    "embeddings_layer_norm_layer.trainable = False\n"
   ]
  },
  {
   "cell_type": "code",
   "execution_count": null,
   "metadata": {},
   "outputs": [],
   "source": [
    "import numpy as np\n",
    "import tensorflow as tf\n",
    "\n",
    "# 모델의 각 레이어를 순회하며 파라미터 수를 계산\n",
    "for layer in lora_bert_backbone.layers:\n",
    "    trainable_count = np.sum([tf.size(w).numpy() for w in layer.trainable_weights])\n",
    "    non_trainable_count = np.sum([tf.size(w).numpy() for w in layer.non_trainable_weights])\n",
    "\n",
    "    print(f\"Layer: {layer.name}\")\n",
    "    print(f\"  Trainable parameters: {trainable_count}\")\n",
    "    print(f\"  Non-trainable parameters: {non_trainable_count}\")\n"
   ]
  },
  {
   "cell_type": "code",
   "execution_count": null,
   "metadata": {},
   "outputs": [],
   "source": [
    "lora_bert_4.summary()"
   ]
  },
  {
   "cell_type": "code",
   "execution_count": null,
   "metadata": {},
   "outputs": [],
   "source": [
    "model_name =  \"bert_small_en_uncased\"\n",
    "preprocessor = keras_nlp.models.BertPreprocessor.from_preset(\n",
    "    model_name,\n",
    "    sequence_length=256,\n",
    ")\n",
    "batch_size = 32\n",
    "train_cached = (\n",
    "    training_data\n",
    "    .map(preprocessor)  # Apply the preprocessor\n",
    "    .batch(batch_size)  # Batch the data\n",
    "    .cache()  # Cache the data\n",
    "    .prefetch(tf.data.experimental.AUTOTUNE)  # Prefetch for efficiency\n",
    ")\n",
    "test_cached = (\n",
    "    validation_data\n",
    "    .map(preprocessor)  # Apply the preprocessor\n",
    "    .batch(batch_size)  # Batch the data\n",
    "    .cache()  # Cache the data\n",
    "    .prefetch(tf.data.experimental.AUTOTUNE)  # Prefetch for efficiency\n",
    ")"
   ]
  },
  {
   "cell_type": "code",
   "execution_count": null,
   "metadata": {},
   "outputs": [],
   "source": [
    "\n",
    "lora_bert_4.compile(\n",
    "    loss=keras.losses.BinaryCrossentropy(),\n",
    "    optimizer=keras.optimizers.Adam(learning_rate=5e-5),  \n",
    "    #jit_compile=True,\n",
    "    metrics=[\"accuracy\"],\n",
    ")"
   ]
  },
  {
   "cell_type": "code",
   "execution_count": null,
   "metadata": {},
   "outputs": [],
   "source": [
    "history = lora_bert_4.fit(train_cached, validation_data=test_cached, epochs=10)\n",
    "plot_training_history(history)"
   ]
  },
  {
   "cell_type": "code",
   "execution_count": null,
   "metadata": {},
   "outputs": [],
   "source": [
    "lora_bert_4.evaluate(test_cached)"
   ]
  },
  {
   "cell_type": "code",
   "execution_count": null,
   "metadata": {},
   "outputs": [],
   "source": []
  }
 ],
 "metadata": {
  "accelerator": "GPU",
  "colab": {
   "gpuType": "T4",
   "provenance": []
  },
  "kernelspec": {
   "display_name": "Python 3 (ipykernel)",
   "language": "python",
   "name": "python3"
  },
  "language_info": {
   "codemirror_mode": {
    "name": "ipython",
    "version": 3
   },
   "file_extension": ".py",
   "mimetype": "text/x-python",
   "name": "python",
   "nbconvert_exporter": "python",
   "pygments_lexer": "ipython3",
   "version": "3.11.0rc1"
  }
 },
 "nbformat": 4,
 "nbformat_minor": 4
}
